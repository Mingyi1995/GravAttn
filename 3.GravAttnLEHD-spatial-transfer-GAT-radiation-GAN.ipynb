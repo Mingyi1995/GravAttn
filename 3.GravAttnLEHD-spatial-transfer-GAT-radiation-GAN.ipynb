{
 "cells": [
  {
   "cell_type": "code",
   "execution_count": 1,
   "id": "9687af26",
   "metadata": {},
   "outputs": [
    {
     "name": "stderr",
     "output_type": "stream",
     "text": [
      "/home/mingyi/anaconda3/envs/gnn/lib/python3.10/site-packages/geopandas/_compat.py:111: UserWarning: The Shapely GEOS version (3.11.1-CAPI-1.17.1) is incompatible with the GEOS version PyGEOS was compiled with (3.10.4-CAPI-1.16.2). Conversions between both will be slow.\n",
      "  warnings.warn(\n"
     ]
    }
   ],
   "source": [
    "import numpy as np\n",
    "import torch\n",
    "torch.set_printoptions(sci_mode=False)\n",
    "import networkx as nx\n",
    "\n",
    "# from GNNAPI import EarlyStopper\n",
    "from torch_geometric.nn import GATConv, GCNConv\n",
    "#from NetRepLearnerV2 import NetGNNAttRepr\n",
    "from NetRepLearner_mh import NetReprLearning\n",
    "# from NetRepLearner_mh import GMLearning\n",
    "import pandas as pd\n",
    "from netAPI import pickleLoad, pickleDump\n",
    "\n",
    "import matplotlib.pyplot as plt\n",
    "from scipy.spatial.distance import cdist,pdist\n",
    "import scipy.stats\n",
    "# from GNNAPI import DirectTensor\n",
    "import scipy.optimize\n",
    "import scipy.stats as stats\n",
    "\n",
    "\n",
    "import time\n",
    "\n",
    "import geopandas as gpd\n",
    "from shapely.geometry import Point\n",
    "\n",
    "import libpysal\n",
    "\n",
    "from sklearn.preprocessing import StandardScaler\n",
    "\n",
    "import torch.nn as nn\n",
    "import matplotlib.pyplot as plt\n",
    "import scipy\n",
    "\n",
    "import torch.nn.functional as F\n",
    "import torch.optim as optim\n",
    "from visdom import Visdom\n",
    "import warnings\n",
    "from csv import writer\n",
    "warnings.filterwarnings('ignore')\n"
   ]
  },
  {
   "cell_type": "code",
   "execution_count": 2,
   "id": "bc16725c",
   "metadata": {},
   "outputs": [],
   "source": [
    "def inbetween(o,d,A,win,wout):\n",
    "    distance = A[o,d]\n",
    "    \n",
    "    if win[A[o,:]<distance].shape[0]>0: \n",
    "        # number of available jobs in a shorter distance\n",
    "        ofts = win[A[o,:]<distance].sum(axis=0,keepdims=True)[0]\n",
    "    else:\n",
    "        ofts = 0\n",
    "    if wout[A[d,:]<distance].shape[0]>0: \n",
    "        # number of available residences in a shorter distance\n",
    "        dfts = wout[A[d,:]<distance].sum(axis=0,keepdims=True)[0]\n",
    "    else:\n",
    "        dfts = 0\n",
    "#     print(ofts,dfts,win[d],wout[o])\n",
    "    ofts = ofts/(win[d]+1)\n",
    "    dfts = dfts/(wout[o]+1)\n",
    "    between_fts = torch.FloatTensor([ofts,dfts,distance]).view(1,3)\n",
    "#     print(between_fts)\n",
    "    return between_fts\n"
   ]
  },
  {
   "cell_type": "code",
   "execution_count": 3,
   "id": "59777ade",
   "metadata": {},
   "outputs": [],
   "source": [
    "\n",
    "class EarlyStopper2:\n",
    "    def __init__(self, patience=1):\n",
    "        self.patience = patience\n",
    "        self.counter = 0\n",
    "        self.min_gap = 1e9\n",
    "        self.updated_time = 0\n",
    "\n",
    "    def early_stop(self, source_loss,target_loss,source_ad_loss,target_ad_loss):\n",
    "        if np.abs(source_loss-source_ad_loss) + np.abs(source_loss-source_ad_loss)<self.min_gap:\n",
    "            self.min_gap = np.abs(source_loss-source_ad_loss) + np.abs(source_loss-source_ad_loss)\n",
    "            self.counter = 0\n",
    "            self.updated_time += 1\n",
    "        else:\n",
    "            self.counter += 1\n",
    "            if self.counter >= self.patience and self.updated_time>1:\n",
    "                return True\n",
    "        return False"
   ]
  },
  {
   "cell_type": "code",
   "execution_count": 4,
   "id": "5d7eb9c9",
   "metadata": {},
   "outputs": [],
   "source": [
    "class AdversarialTrainer:\n",
    "    def __init__(self, input_dim, feature_dim, learning_rate=1e-3):\n",
    "        torch.manual_seed(0)\n",
    "        # Initialize models\n",
    "        self.feature_extractor = self.FeatureExtractor(input_dim, feature_dim)\n",
    "        self.domain_discriminator = self.DomainDiscriminator(input_dim,feature_dim)\n",
    "\n",
    "        # Loss and Optimizers\n",
    "        self.criterion = nn.BCELoss()\n",
    "        self.optimizer_F = optim.Adam(self.feature_extractor.parameters(), lr=learning_rate)\n",
    "        self.optimizer_D = optim.Adam(self.domain_discriminator.parameters(), lr=learning_rate)\n",
    "\n",
    "    class FeatureExtractor(nn.Module):\n",
    "        def __init__(self, input_dim, feature_dim):\n",
    "            super().__init__()\n",
    "            self.model1 = nn.Sequential(\n",
    "                nn.Linear(input_dim, feature_dim),\n",
    "                nn.ReLU(),\n",
    "\n",
    "            )\n",
    "            self.model2 = nn.Sequential(\n",
    "                nn.Linear(feature_dim, feature_dim),\n",
    "                nn.ReLU())\n",
    "\n",
    "\n",
    "        def forward(self, x):\n",
    "            \n",
    "            e = self.model1(x)\n",
    "            e = self.model2(e)+e\n",
    "#             e = self.model3(e)\n",
    "            return e\n",
    "\n",
    "    class DomainDiscriminator(nn.Module):\n",
    "        def __init__(self,input_dim, feature_dim):\n",
    "            super().__init__()\n",
    "            self.model1 = nn.Sequential(\n",
    "                nn.Linear(feature_dim, feature_dim),\n",
    "                nn.ReLU(),\n",
    "                nn.Linear(feature_dim, 1),\n",
    "                nn.Sigmoid()\n",
    "            )\n",
    "            self.model2 = nn.Sequential(\n",
    "                nn.Linear(feature_dim, 1),\n",
    "                nn.Sigmoid()\n",
    "            )\n",
    "\n",
    "        def forward(self, x):\n",
    "            x = self.model1(x) + x\n",
    "            x = self.model2(x)\n",
    "            return x\n",
    "    def cuda(self):\n",
    "        self.feature_extractor = self.feature_extractor.cuda()\n",
    "        self.domain_discriminator = self.domain_discriminator.cuda()\n",
    "\n",
    "    def train(self, source_data, target_data, source_labels, target_labels, num_epochs=2000):\n",
    "        early_stopper = EarlyStopper2(patience=5)\n",
    "#         viz = Visdom()\n",
    "#         viz.line([0.], [0.], win='fts extractor',name='source extractor',\n",
    "#                  opts=dict(legend=['source extractor']))\n",
    "#         viz.line([0.], [0.], win='fts extractor',name='target extractor',\n",
    "#                 opts=dict(legend=['target extractor']))\n",
    "#         viz.line([0.], [0.], win='fts extractor',name='source discriminator',\n",
    "#                 opts=dict(legend=['source discriminator']))\n",
    "#         viz.line([0.], [0.], win='fts extractor',name='target discriminator',\n",
    "#                 opts=dict(legend=['target discriminator']))\n",
    "        for epoch in range(num_epochs):\n",
    "            # Train feature extractor and domain discriminator\n",
    "            self.optimizer_F.zero_grad()\n",
    "            self.optimizer_D.zero_grad()\n",
    "\n",
    "            # Source domain\n",
    "            source_features = self.feature_extractor(source_data)\n",
    "            source_domain_preds = self.domain_discriminator(source_features)\n",
    "            loss_source = self.criterion(source_domain_preds, (1-source_labels))\n",
    "#             viz.line([loss_source.item()], [epoch], win='fts extractor',name='source extractor', update='append')\n",
    "\n",
    "            loss_source.backward()\n",
    "            self.optimizer_F.step()\n",
    "            self.optimizer_F.zero_grad()\n",
    "            # Target domain\n",
    "            target_features = self.feature_extractor(target_data)\n",
    "            target_domain_preds = self.domain_discriminator(target_features)\n",
    "            loss_target = self.criterion(target_domain_preds, (1-target_labels))\n",
    "#             viz.line([loss_target.item()], [epoch], win='fts extractor',name='target extractor', update='append')\n",
    "\n",
    "            loss_target.backward()\n",
    "            self.optimizer_F.step()\n",
    "            self.optimizer_F.zero_grad()\n",
    "#             loss = loss_source + loss_target\n",
    "#             loss.backward()\n",
    "            \n",
    "\n",
    "            source_features = self.feature_extractor(source_data)\n",
    "            source_domain_preds = self.domain_discriminator(source_features)\n",
    "            loss_source_adversarial = self.criterion(source_domain_preds, source_labels)\n",
    "            loss_source_adversarial.backward()\n",
    "            self.optimizer_D.step()\n",
    "            self.optimizer_D.zero_grad()\n",
    "#             viz.line([loss_source_adversarial.item()], [epoch], win='fts extractor',name='source discriminator', update='append')\n",
    "\n",
    "            target_features = self.feature_extractor(target_data)\n",
    "            target_domain_preds = self.domain_discriminator(target_features)\n",
    "            loss_target_adversarial = self.criterion(target_domain_preds, target_labels)\n",
    "            loss_target_adversarial.backward()\n",
    "            self.optimizer_D.step()\n",
    "            self.optimizer_D.zero_grad()\n",
    "#             viz.line([loss_target_adversarial.item()], [epoch], win='fts extractor',name='target discriminator', update='append')\n",
    "\n",
    "#             loss_adversarial = loss_source_adversarial + loss_target_adversarial\n",
    "#             loss_adversarial.backward()\n",
    "#             self.optimizer_D.step()\n",
    "#             viz.line([loss_adversarial.item()], [epoch], win='fts extractor',name='discriminator', update='append')\n",
    "\n",
    "#             viz.line([validation_loss], [epoch], win='fts extractor',name='validation_loss', update='append')\n",
    "\n",
    "            if early_stopper.early_stop(loss_source.item(),loss_target.item(),\n",
    "                                        loss_source_adversarial.item(),loss_target_adversarial.item()):\n",
    "                print('feature extractor early stop at '+str(epoch)+' epochs')             \n",
    "                break"
   ]
  },
  {
   "cell_type": "code",
   "execution_count": 5,
   "id": "a2cb7e34",
   "metadata": {},
   "outputs": [],
   "source": [
    "class GMLearning(NetReprLearning): #mobility model learning class\n",
    "\n",
    "    def initNNs(self,fts, GNNConfigs, VNNConfig):\n",
    "        torch.manual_seed(0)\n",
    "        self.embed_dim = GNNConfigs['out_features']\n",
    "        # mh edited, previous infeautre for GNN layer was N nodes as X is none\n",
    "        \n",
    "        # mh: v['out_features'] for v in GNNConfigs: self.N, ed\n",
    "        featuredims = [fts.shape[1]] + [GNNConfigs['out_features']]\n",
    "        print('featuredims',featuredims)\n",
    "        self.embed_dim = featuredims[-1]\n",
    "        self.GNNLayerNum = len(GNNConfigs)\n",
    "#         self.GNNLayers = [GNN_VNN_Layer(in_features = featuredims[i], \n",
    "#                         VNNConfig = GNNConfigs[i]) for i in range(self.GNNLayerNum)]\n",
    "        self.num_heads = GNNConfigs['transformer_num_heads']\n",
    "        self.gat_num_heads = GNNConfigs['gat_num_heads']\n",
    "        self.input_dim = featuredims[0]\n",
    "        self.attention_out_dim = GNNConfigs['attention_out_dim']\n",
    "        self.edge_dim = GNNConfigs['edge_dim']\n",
    "        \n",
    "\n",
    "        self.shortcut1 = nn.Linear(self.input_dim, GNNConfigs['layer_dims'][0]* self.gat_num_heads)\n",
    "        self.shortcut2 = nn.Linear(GNNConfigs['layer_dims'][0]* self.gat_num_heads,\n",
    "                                   GNNConfigs['out_features'])\n",
    "        \n",
    "        self.in_conv = GATConv(self.input_dim, GNNConfigs['layer_dims'][0],edge_dim=self.edge_dim,\n",
    "                               heads=self.gat_num_heads,concat=True)\n",
    "#         Hidden layers\n",
    "\n",
    "        self.hidden_layers = torch.nn.ModuleList()\n",
    "        for i,hidden in enumerate(GNNConfigs['layer_dims']):\n",
    "            if i + 1 < len(GNNConfigs['layer_dims']):\n",
    "                self.hidden_layers.append(\n",
    "                    GATConv(hidden * self.gat_num_heads, GNNConfigs['layer_dims'][i+1], \n",
    "                            heads=self.gat_num_heads,\n",
    "                             concat=True)\n",
    "                )\n",
    "        \n",
    "        # Output layer\n",
    "        self.out_conv = GATConv(GNNConfigs['layer_dims'][-1] * self.gat_num_heads, \n",
    "                                GNNConfigs['out_features'], heads=self.gat_num_heads, \n",
    "                                concat=False)\n",
    "\n",
    "        # Hidden layers\n",
    "       \n",
    "       \n",
    "        self.OutMLP = nn.Linear(GNNConfigs['out_features']*2,1)\n",
    "\n",
    "        # Linear layers for query, key, and value projections\n",
    "        self.query_projection = nn.Parameter(torch.randn(self.embed_dim,self.attention_out_dim,device='cuda'))                                                                                             \n",
    "        self.key_projection = nn.Parameter(torch.randn(self.embed_dim,self.attention_out_dim,device='cuda'))\n",
    "        self.expo = nn.Parameter(torch.randn(1,1,device='cuda'))\n",
    "        \n",
    "        \n",
    "        \n",
    "\n",
    "    def forward(self,A, X,OD,between_fts): #feed-forward computation - embedding and the attractivity scores\n",
    "        wout = OD.sum(axis = 1,keepdims=True)\n",
    "        win = OD.sum(axis = 0,keepdims=True)\n",
    "#         OD[OD==0] = 0.1\n",
    "#         win[win==0] = 0.2\n",
    "        W = wout * win / win.sum()\n",
    "        #         print(type(wout),type(win),type(W))\n",
    "\n",
    "        wout = wout.to(torch.device(\"cuda\"))\n",
    "        self.win = win.to(torch.device(\"cuda\"))\n",
    "        W = W.to(torch.device(\"cuda\"))\n",
    "#         X = X.to(torch.device(\"cuda\"))\n",
    "        if self.model == 'p':\n",
    "            rows = []\n",
    "            cols = []\n",
    "            for i in range(OD.shape[0]):\n",
    "                for j in range(OD.shape[0]):\n",
    "                    if i != j:\n",
    "                        rows.append(i)\n",
    "                        cols.append(j)\n",
    "            edge_index = torch.tensor([rows, cols], dtype=torch.long)\n",
    "            edge_index = edge_index.to(torch.device(\"cuda\"))\n",
    "#             print(X.device,edge_index.device,between_fts.device)\n",
    "            E = self.in_conv(X, edge_index,edge_attr=between_fts)\n",
    "\n",
    "            E += self.shortcut1(X)\n",
    "            E = nn.Sigmoid()(E)\n",
    "#             print('----------ReLU-----------------')\n",
    "#             print(E)\n",
    "\n",
    "\n",
    "            for layer in self.hidden_layers:\n",
    "                E = layer(E, edge_index)+E\n",
    "                E = nn.Sigmoid()(E)\n",
    "\n",
    "            E = self.out_conv(E, edge_index)+self.shortcut2(E)\n",
    "\n",
    "            E = nn.Sigmoid()(E)\n",
    "        if self.attention:\n",
    "            seq_len, input_dim = E.size()\n",
    "\n",
    "            query = torch.matmul(E,self.query_projection)\n",
    "#             print('==============query==================')\n",
    "#             print(query)\n",
    "            key =torch.matmul(E,self.key_projection)\n",
    "#             print('==============key===================')\n",
    "#             print(key)\n",
    "            # Reshape the query, key, and value tensors to enable multi-head attention\n",
    "            query = query.view(seq_len, self.num_heads,self.attention_out_dim // self.num_heads).permute(1, 0, 2)\n",
    "            key = key.view(seq_len, self.num_heads, self.attention_out_dim  // self.num_heads).permute(1, 0, 2)\n",
    "\n",
    "            # Compute the dot product attention scores\n",
    "            scores = torch.matmul(query, key.permute(0, 2, 1))\n",
    "\n",
    "            scores = scores / torch.sqrt(torch.tensor(input_dim*2 / self.num_heads, dtype=torch.float32))\n",
    "            attention_weights = torch.mean(scores,axis=0)\n",
    "            attention_weights = nn.ReLU()(attention_weights)\n",
    "            y = attention_weights\n",
    "        elif self.VNNattraction:\n",
    "            edge_index = list(zip(sorted(list(range(E.shape[0]))*E.shape[0]),\n",
    "                                      list(range(E.shape[0]))*E.shape[0]))\n",
    "            edge_index = np.array(edge_index)\n",
    "\n",
    "            PE_ = torch.concat([E[edge_index[:,0]],E[edge_index[:,1]]],axis=1)\n",
    "#             print(E)\n",
    "\n",
    "            batch_size = 10000\n",
    "            num_batches = PE_.shape[0] // batch_size\n",
    "            for i in range(num_batches+1):\n",
    "                # Generate mini-batch indices\n",
    "                start_idx = i * batch_size\n",
    "                end_idx = (i + 1) * batch_size\n",
    "                if end_idx <= PE_.shape[0]:\n",
    "                    pass\n",
    "                else:\n",
    "                    end_idx = PE_.shape[0]+1\n",
    "\n",
    "                # Extract mini-batch data and labels\n",
    "                PE_batch = PE_[start_idx:end_idx]\n",
    "                if i == 0:\n",
    "                    y = self.OutMLP.forward(PE_batch)\n",
    "                    y = nn.Sigmoid()(y)\n",
    "                    y = F.dropout(y,p=0.2)\n",
    "                else:\n",
    "                    y_temp = self.OutMLP.forward(PE_batch)\n",
    "                    y_temp = nn.Sigmoid()(y_temp)\n",
    "                    y_temp = F.dropout(y_temp,p=0.2)\n",
    "                    y = torch.concat([y,y_temp])\n",
    "            y = y.view(E.shape[0], E.shape[0])\n",
    "            \n",
    "        if self.model == 'p':\n",
    "#             A_tensor = torch.FloatTensor(A)\n",
    "#             A_tensor = A.to(torch.device(\"cuda\"))\n",
    "#             print(y)\n",
    "            y = wout * (self.win  * torch.exp(-y*A)) /\\\n",
    "                        (self.win  * torch.exp(-y*A)).sum(axis=1,keepdims=True)\n",
    "  \n",
    "\n",
    "\n",
    "            \n",
    "        elif self.model == 'g':\n",
    "            y = wout * (self.win * torch.exp(self.expo*A) /\\\n",
    "                        (self.win  * torch.exp(self.expo*A)).sum(axis=1,keepdims=True))\n",
    "\n",
    "\n",
    "    \n",
    "        return y\n",
    "\n",
    "    def logMSE(self, Y, Ytrue): #log MSE loss for the unconstrained model\n",
    "#         print(Y.device,Ytrue.device,self.W.device,mask.device)\n",
    "        \n",
    "        loss_ =  ((torch.log(Ytrue + 1) -\\\n",
    "                                   torch.log(Y + 1)) ** 2).mean()\n",
    "#         loss_ = (torch.mul(mask , (Ytrue -Y ) ** 2)).sum() / mask.sum()\n",
    "        return loss_\n",
    "    def MSE(self, Y, Ytrue): #log MSE loss for the unconstrained model\n",
    "#         print(Y.device,Ytrue.device,self.W.device,mask.device)\n",
    "        loss_ =  ((Ytrue - Y ) ** 2).mean()\n",
    "#         loss_ = (torch.mul(mask , (Ytrue -Y ) ** 2)).sum() / mask.sum()\n",
    "        return loss_\n",
    "    def LL(self, p, Ytrue): #log MSE loss for the unconstrained model\n",
    "        loss_ =  -(Ytrue*torch.log(p)).mean()\n",
    "        return loss_\n",
    "\n",
    "    def KL(self, Y, Ytrue): #log MSE loss for the unconstrained model\n",
    "\n",
    "        loss_ =  (Ytrue*torch.log((Ytrue+1e-8)/(Y+1e-8))).mean()\n",
    "\n",
    "#         print(loss_)\n",
    "        return loss_\n",
    "\n",
    "    def RAE(self, Y, Ytrue): #log MSE loss for the unconstrained model\n",
    "#         print(Y.device,Ytrue.device,self.W.device,mask.device)\n",
    "        ybar = Ytrue.mean()\n",
    "        loss_ =  (torch.absolute(Ytrue - Y )).sum()/(torch.absolute(Ytrue - ybar )).sum()\n",
    "#         loss_ = (torch.mul(mask , (Ytrue -Y ) ** 2)).sum() / mask.sum()\n",
    "        return loss_\n",
    "    def chi(self, Y, Ytrue): #log MSE loss for the unconstrained model\n",
    "\n",
    "        loss_ =  (((Ytrue - Y )**2)/(Y+1e-8)).mean()\n",
    "        return loss_\n",
    "\n",
    "    def loss(self, Y = None, Ytrue = None): #compute loss\n",
    "\n",
    "        return self.KL(Y,Ytrue)\n",
    "\n",
    "    def initEmbed(self, x): #initialize node embedding with some initial coordinates\n",
    "        self.GNNLayers[0].init_params({'X': x})\n",
    "\n",
    "# mh edited for mask by nodes\n",
    "def getTrainTestbyNodes(A, train_p = 0.7, seed = 1): #train-test split of the network edges\n",
    "    np.random.seed(seed)\n",
    "    number = np.random.uniform(size = A.shape[0])\n",
    "\n",
    "    valid = number < (1-train_p)**2\n",
    "    train = np.array([True if i < train_p and i >= (1-train_p)**2 else False for i in number ])\n",
    "    test = number > train_p\n",
    "    \n",
    "\n",
    "    return train,valid, test\n",
    "\n",
    "def read_area_from_ct(state,nodes):\n",
    "    ct_map = gpd.read_file('LEHD/'+state+'.zip')\n",
    "    ct_map['GEOID'] = ct_map['GEOID'].astype(int)\n",
    "    ct_map = ct_map.set_index('GEOID')\n",
    "    ct_map = ct_map.loc[nodes]\n",
    "\n",
    "    return ct_map.to_crs('ESRI:102008').geometry.area.values\n",
    "\n",
    "def read_location_from_ct(state,nodes):\n",
    "    ct_map = gpd.read_file('LEHD/'+state+'.zip')\n",
    "    ct_map['GEOID'] = ct_map['GEOID'].astype(int)\n",
    "    ct_map = ct_map.set_index('GEOID')\n",
    "    ct_map = ct_map.loc[sorted(list(nodes))]\n",
    "    ct_map = ct_map.to_crs('epsg:4326')\n",
    "    return np.array(list(zip(ct_map.geometry.centroid.x,\n",
    "                    ct_map.geometry.centroid.y)))"
   ]
  },
  {
   "cell_type": "code",
   "execution_count": 6,
   "id": "5f535376",
   "metadata": {},
   "outputs": [],
   "source": [
    "def MAPE(v, v_hat, axis=None):\n",
    "        '''\n",
    "        Mean absolute percentage error.\n",
    "        :param v: np.ndarray or int, ground truth.\n",
    "        :param v_: np.ndarray or int, prediction.\n",
    "        :param axis: axis to do calculation.\n",
    "        :return: int, MAPE averages on all elements of input.\n",
    "        '''\n",
    "#         mask_0 = (v == 0)\n",
    "#         percentage = (torch.abs(v_hat - v)) / (torch.abs(v)+1)\n",
    "        error = torch.abs(v_hat - v)\n",
    "        v[v==0]=1\n",
    "        mape = ( error/ torch.abs(v)).mean()\n",
    "#         if torch.any(mask):\n",
    "#             masked_array = torch.mean(torch.mul(mask,percentage))  # mask the dividing-zero as invalid\n",
    "#             result = masked_array.mean(axis=axis)\n",
    "            \n",
    "        return mape\n",
    "\n",
    "def common_part_of_commuters(values1, values2, numerator_only=False):\n",
    "    if type(values1)  == torch.Tensor:\n",
    "        pass\n",
    "    else:\n",
    "        values1 = torch.FloatTensor(values1)\n",
    "        values2 = torch.FloatTensor(values2)\n",
    "    if numerator_only:\n",
    "        tot = 1.0\n",
    "    else:\n",
    "        tot = (torch.sum(values1) + torch.sum(values2))\n",
    "#         print( np.sum(values1))\n",
    "    if tot > 0:\n",
    "        return 2.0 * torch.sum(torch.minimum(values1, values2)) / tot\n",
    "    else:\n",
    "        return 0.0\n",
    "def MAE(Y, Ytrue): #log MSE loss for the unconstrained model\n",
    "\n",
    "#         print(Y.device,Ytrue.device,self.W.device,mask.device)\n",
    "    loss_ = torch.abs(Ytrue -Y).mean()\n",
    "    return loss_\n",
    "\n",
    "\n"
   ]
  },
  {
   "cell_type": "code",
   "execution_count": 7,
   "id": "78bbcfba",
   "metadata": {},
   "outputs": [],
   "source": [
    "def progress_bar(current, total, bar_length=20):\n",
    "    fraction = current / total\n",
    "\n",
    "    arrow = int(fraction * bar_length - 1) * '-' + '>'\n",
    "    padding = int(bar_length - len(arrow)) * ' '\n",
    "\n",
    "    ending = '\\n' if current == total else '\\r'\n",
    "\n",
    "    print(f'Progress: [{arrow}{padding}] {int(fraction*100)}%', end=ending)"
   ]
  },
  {
   "cell_type": "code",
   "execution_count": null,
   "id": "f44e7285",
   "metadata": {},
   "outputs": [],
   "source": []
  },
  {
   "cell_type": "code",
   "execution_count": 8,
   "id": "fbfb6354",
   "metadata": {
    "scrolled": false
   },
   "outputs": [
    {
     "name": "stdout",
     "output_type": "stream",
     "text": [
      "loading datasets\n",
      "loading target LEHD: New York City\n",
      "-----------feature extractor working-----------------\n"
     ]
    },
    {
     "name": "stderr",
     "output_type": "stream",
     "text": [
      "Setting up a new session...\n"
     ]
    },
    {
     "name": "stdout",
     "output_type": "stream",
     "text": [
      "feature extractor early stop at 38 epochs\n",
      "featuredims [46, 16]\n",
      "early stop at 59 epochs\n",
      "KL 0.469\n",
      "CPC 0.592\n",
      "MAE 0.538\n",
      "pearson 0.763\n",
      "jenson 0.412\n",
      "loading target LEHD: Los Angeles\n"
     ]
    },
    {
     "name": "stderr",
     "output_type": "stream",
     "text": [
      "Setting up a new session...\n"
     ]
    },
    {
     "name": "stdout",
     "output_type": "stream",
     "text": [
      "-----------feature extractor working-----------------\n",
      "feature extractor early stop at 19 epochs\n",
      "featuredims [46, 16]\n",
      "early stop at 55 epochs\n",
      "KL 0.511\n",
      "CPC 0.517\n",
      "MAE 0.496\n",
      "pearson 0.659\n",
      "jenson 0.469\n",
      "loading target LEHD: Chicago\n",
      "-----------feature extractor working-----------------\n"
     ]
    },
    {
     "name": "stderr",
     "output_type": "stream",
     "text": [
      "Setting up a new session...\n"
     ]
    },
    {
     "name": "stdout",
     "output_type": "stream",
     "text": [
      "feature extractor early stop at 14 epochs\n",
      "featuredims [46, 16]\n"
     ]
    },
    {
     "name": "stderr",
     "output_type": "stream",
     "text": [
      "Setting up a new session...\n"
     ]
    },
    {
     "name": "stdout",
     "output_type": "stream",
     "text": [
      "early stop at 56 epochs\n",
      "KL 0.721\n",
      "CPC 0.592\n",
      "MAE 0.861\n",
      "pearson 0.764\n",
      "jenson 0.401\n",
      "loading target LEHD: Houston\n",
      "-----------feature extractor working-----------------\n",
      "feature extractor early stop at 16 epochs\n",
      "featuredims [46, 16]\n"
     ]
    },
    {
     "name": "stderr",
     "output_type": "stream",
     "text": [
      "Setting up a new session...\n"
     ]
    },
    {
     "name": "stdout",
     "output_type": "stream",
     "text": [
      "early stop at 38 epochs\n",
      "KL 0.65\n",
      "CPC 0.647\n",
      "MAE 0.882\n",
      "pearson 0.836\n",
      "jenson 0.358\n",
      "loading target LEHD: Boston\n",
      "-----------feature extractor working-----------------\n",
      "feature extractor early stop at 18 epochs\n",
      "featuredims [46, 16]\n"
     ]
    },
    {
     "name": "stderr",
     "output_type": "stream",
     "text": [
      "Setting up a new session...\n"
     ]
    },
    {
     "name": "stdout",
     "output_type": "stream",
     "text": [
      "early stop at 61 epochs\n",
      "KL 1.134\n",
      "CPC 0.698\n",
      "MAE 1.701\n",
      "pearson 0.839\n",
      "jenson 0.308\n",
      "loading target LEHD: Phoenix\n",
      "-----------feature extractor working-----------------\n",
      "feature extractor early stop at 15 epochs\n",
      "featuredims [46, 16]\n"
     ]
    },
    {
     "name": "stderr",
     "output_type": "stream",
     "text": [
      "Setting up a new session...\n"
     ]
    },
    {
     "name": "stdout",
     "output_type": "stream",
     "text": [
      "early stop at 33 epochs\n",
      "KL 0.756\n",
      "CPC 0.681\n",
      "MAE 1.078\n",
      "pearson 0.826\n",
      "jenson 0.328\n",
      "loading target LEHD: Philadelphia\n",
      "-----------feature extractor working-----------------\n",
      "feature extractor early stop at 20 epochs\n",
      "featuredims [46, 16]\n"
     ]
    },
    {
     "name": "stderr",
     "output_type": "stream",
     "text": [
      "Setting up a new session...\n"
     ]
    },
    {
     "name": "stdout",
     "output_type": "stream",
     "text": [
      "early stop at 80 epochs\n",
      "KL 1.071\n",
      "CPC 0.675\n",
      "MAE 1.66\n",
      "pearson 0.818\n",
      "jenson 0.328\n",
      "loading target LEHD: San Antonio\n",
      "-----------feature extractor working-----------------\n",
      "feature extractor early stop at 16 epochs\n",
      "featuredims [46, 16]\n"
     ]
    },
    {
     "name": "stderr",
     "output_type": "stream",
     "text": [
      "Setting up a new session...\n"
     ]
    },
    {
     "name": "stdout",
     "output_type": "stream",
     "text": [
      "early stop at 48 epochs\n",
      "KL 1.174\n",
      "CPC 0.745\n",
      "MAE 2.291\n",
      "pearson 0.877\n",
      "jenson 0.252\n",
      "loading target LEHD: San Diego\n",
      "-----------feature extractor working-----------------\n",
      "feature extractor early stop at 16 epochs\n",
      "featuredims [46, 16]\n"
     ]
    },
    {
     "name": "stderr",
     "output_type": "stream",
     "text": [
      "Setting up a new session...\n"
     ]
    },
    {
     "name": "stdout",
     "output_type": "stream",
     "text": [
      "early stop at 51 epochs\n",
      "KL 0.997\n",
      "CPC 0.719\n",
      "MAE 1.433\n",
      "pearson 0.925\n",
      "jenson 0.299\n",
      "loading target LEHD: Dallas\n",
      "-----------feature extractor working-----------------\n",
      "feature extractor early stop at 16 epochs\n",
      "featuredims [46, 16]\n",
      "early stop at 50 epochs\n",
      "KL 0.796\n",
      "CPC 0.67\n",
      "MAE 1.201\n",
      "pearson 0.869\n",
      "jenson 0.332\n",
      "loading target LEHD: San Jose\n",
      "-----------feature extractor working-----------------\n"
     ]
    },
    {
     "name": "stderr",
     "output_type": "stream",
     "text": [
      "Setting up a new session...\n"
     ]
    },
    {
     "name": "stdout",
     "output_type": "stream",
     "text": [
      "feature extractor early stop at 13 epochs\n",
      "featuredims [46, 16]\n"
     ]
    },
    {
     "name": "stderr",
     "output_type": "stream",
     "text": [
      "Setting up a new session...\n"
     ]
    },
    {
     "name": "stdout",
     "output_type": "stream",
     "text": [
      "early stop at 59 epochs\n",
      "KL 2.033\n",
      "CPC 0.715\n",
      "MAE 3.264\n",
      "pearson 0.883\n",
      "jenson 0.286\n",
      "loading target LEHD: Austin\n",
      "-----------feature extractor working-----------------\n",
      "feature extractor early stop at 17 epochs\n",
      "featuredims [46, 16]\n",
      "early stop at 52 epochs\n",
      "KL 1.263\n",
      "CPC 0.771\n",
      "MAE 2.544\n",
      "pearson 0.91\n",
      "jenson 0.236\n",
      "loading datasets\n",
      "loading target LEHD: New York City\n",
      "-----------feature extractor working-----------------\n"
     ]
    },
    {
     "name": "stderr",
     "output_type": "stream",
     "text": [
      "Setting up a new session...\n"
     ]
    },
    {
     "name": "stdout",
     "output_type": "stream",
     "text": [
      "feature extractor early stop at 28 epochs\n",
      "featuredims [46, 16]\n",
      "early stop at 46 epochs\n",
      "KL 0.492\n",
      "CPC 0.583\n",
      "MAE 0.549\n",
      "pearson 0.75\n",
      "jenson 0.42\n",
      "loading target LEHD: Los Angeles\n"
     ]
    },
    {
     "name": "stderr",
     "output_type": "stream",
     "text": [
      "Setting up a new session...\n"
     ]
    },
    {
     "name": "stdout",
     "output_type": "stream",
     "text": [
      "-----------feature extractor working-----------------\n",
      "feature extractor early stop at 37 epochs\n",
      "featuredims [46, 16]\n",
      "early stop at 51 epochs\n",
      "KL 0.512\n",
      "CPC 0.505\n",
      "MAE 0.508\n",
      "pearson 0.639\n",
      "jenson 0.479\n",
      "loading target LEHD: Chicago\n",
      "-----------feature extractor working-----------------\n"
     ]
    },
    {
     "name": "stderr",
     "output_type": "stream",
     "text": [
      "Setting up a new session...\n"
     ]
    },
    {
     "name": "stdout",
     "output_type": "stream",
     "text": [
      "feature extractor early stop at 24 epochs\n",
      "featuredims [46, 16]\n"
     ]
    },
    {
     "name": "stderr",
     "output_type": "stream",
     "text": [
      "Setting up a new session...\n"
     ]
    },
    {
     "name": "stdout",
     "output_type": "stream",
     "text": [
      "early stop at 52 epochs\n",
      "KL 0.712\n",
      "CPC 0.59\n",
      "MAE 0.865\n",
      "pearson 0.754\n",
      "jenson 0.406\n",
      "loading target LEHD: Houston\n",
      "-----------feature extractor working-----------------\n",
      "feature extractor early stop at 20 epochs\n",
      "featuredims [46, 16]\n"
     ]
    },
    {
     "name": "stderr",
     "output_type": "stream",
     "text": [
      "Setting up a new session...\n"
     ]
    },
    {
     "name": "stdout",
     "output_type": "stream",
     "text": [
      "early stop at 41 epochs\n",
      "KL 0.647\n",
      "CPC 0.646\n",
      "MAE 0.883\n",
      "pearson 0.833\n",
      "jenson 0.359\n",
      "loading target LEHD: Boston\n",
      "-----------feature extractor working-----------------\n",
      "feature extractor early stop at 22 epochs\n",
      "featuredims [46, 16]\n",
      "early stop at 56 epochs\n",
      "KL 1.159\n",
      "CPC 0.694\n",
      "MAE 1.722\n",
      "pearson 0.823\n",
      "jenson 0.316\n",
      "loading target LEHD: Phoenix\n"
     ]
    },
    {
     "name": "stderr",
     "output_type": "stream",
     "text": [
      "Setting up a new session...\n"
     ]
    },
    {
     "name": "stdout",
     "output_type": "stream",
     "text": [
      "-----------feature extractor working-----------------\n",
      "feature extractor early stop at 23 epochs\n",
      "featuredims [46, 16]\n"
     ]
    },
    {
     "name": "stderr",
     "output_type": "stream",
     "text": [
      "Setting up a new session...\n"
     ]
    },
    {
     "name": "stdout",
     "output_type": "stream",
     "text": [
      "early stop at 36 epochs\n",
      "KL 0.758\n",
      "CPC 0.681\n",
      "MAE 1.079\n",
      "pearson 0.826\n",
      "jenson 0.328\n",
      "loading target LEHD: Philadelphia\n",
      "-----------feature extractor working-----------------\n",
      "feature extractor early stop at 26 epochs\n",
      "featuredims [46, 16]\n"
     ]
    },
    {
     "name": "stderr",
     "output_type": "stream",
     "text": [
      "Setting up a new session...\n"
     ]
    },
    {
     "name": "stdout",
     "output_type": "stream",
     "text": [
      "early stop at 54 epochs\n",
      "KL 1.099\n",
      "CPC 0.674\n",
      "MAE 1.664\n",
      "pearson 0.81\n",
      "jenson 0.331\n",
      "loading target LEHD: San Antonio\n",
      "-----------feature extractor working-----------------\n",
      "feature extractor early stop at 20 epochs\n",
      "featuredims [46, 16]\n"
     ]
    },
    {
     "name": "stderr",
     "output_type": "stream",
     "text": [
      "Setting up a new session...\n"
     ]
    },
    {
     "name": "stdout",
     "output_type": "stream",
     "text": [
      "early stop at 54 epochs\n",
      "KL 1.147\n",
      "CPC 0.749\n",
      "MAE 2.256\n",
      "pearson 0.872\n",
      "jenson 0.251\n",
      "loading target LEHD: San Diego\n",
      "-----------feature extractor working-----------------\n",
      "feature extractor early stop at 29 epochs\n",
      "featuredims [46, 16]\n"
     ]
    },
    {
     "name": "stderr",
     "output_type": "stream",
     "text": [
      "Setting up a new session...\n"
     ]
    },
    {
     "name": "stdout",
     "output_type": "stream",
     "text": [
      "early stop at 54 epochs\n",
      "KL 0.952\n",
      "CPC 0.727\n",
      "MAE 1.392\n",
      "pearson 0.926\n",
      "jenson 0.297\n",
      "loading target LEHD: Dallas\n",
      "-----------feature extractor working-----------------\n",
      "feature extractor early stop at 21 epochs\n",
      "featuredims [46, 16]\n"
     ]
    },
    {
     "name": "stderr",
     "output_type": "stream",
     "text": [
      "Setting up a new session...\n"
     ]
    },
    {
     "name": "stdout",
     "output_type": "stream",
     "text": [
      "early stop at 51 epochs\n",
      "KL 0.784\n",
      "CPC 0.671\n",
      "MAE 1.196\n",
      "pearson 0.865\n",
      "jenson 0.332\n",
      "loading target LEHD: San Jose\n",
      "-----------feature extractor working-----------------\n",
      "feature extractor early stop at 18 epochs\n",
      "featuredims [46, 16]\n",
      "early stop at 55 epochs\n",
      "KL 1.745\n",
      "CPC 0.734\n",
      "MAE 3.038\n",
      "pearson 0.892\n",
      "jenson 0.272\n",
      "loading target LEHD: Austin\n"
     ]
    },
    {
     "name": "stderr",
     "output_type": "stream",
     "text": [
      "Setting up a new session...\n"
     ]
    },
    {
     "name": "stdout",
     "output_type": "stream",
     "text": [
      "-----------feature extractor working-----------------\n",
      "feature extractor early stop at 22 epochs\n",
      "featuredims [46, 16]\n"
     ]
    },
    {
     "name": "stderr",
     "output_type": "stream",
     "text": [
      "Setting up a new session...\n"
     ]
    },
    {
     "name": "stdout",
     "output_type": "stream",
     "text": [
      "early stop at 55 epochs\n",
      "KL 1.279\n",
      "CPC 0.771\n",
      "MAE 2.542\n",
      "pearson 0.903\n",
      "jenson 0.238\n",
      "loading datasets\n",
      "loading target LEHD: New York City\n",
      "-----------feature extractor working-----------------\n",
      "feature extractor early stop at 25 epochs\n",
      "featuredims [46, 16]\n"
     ]
    },
    {
     "name": "stderr",
     "output_type": "stream",
     "text": [
      "Setting up a new session...\n"
     ]
    },
    {
     "name": "stdout",
     "output_type": "stream",
     "text": [
      "early stop at 49 epochs\n",
      "KL 0.486\n",
      "CPC 0.585\n",
      "MAE 0.546\n",
      "pearson 0.754\n",
      "jenson 0.418\n",
      "loading target LEHD: Los Angeles\n",
      "-----------feature extractor working-----------------\n",
      "feature extractor early stop at 25 epochs\n",
      "featuredims [46, 16]\n"
     ]
    },
    {
     "name": "stderr",
     "output_type": "stream",
     "text": [
      "Setting up a new session...\n"
     ]
    },
    {
     "name": "stdout",
     "output_type": "stream",
     "text": [
      "early stop at 52 epochs\n",
      "KL 0.51\n",
      "CPC 0.507\n",
      "MAE 0.506\n",
      "pearson 0.643\n",
      "jenson 0.477\n",
      "loading target LEHD: Chicago\n",
      "-----------feature extractor working-----------------\n",
      "feature extractor early stop at 36 epochs\n",
      "featuredims [46, 16]\n"
     ]
    },
    {
     "name": "stderr",
     "output_type": "stream",
     "text": [
      "Setting up a new session...\n"
     ]
    },
    {
     "name": "stdout",
     "output_type": "stream",
     "text": [
      "early stop at 55 epochs\n",
      "KL 0.71\n",
      "CPC 0.591\n",
      "MAE 0.863\n",
      "pearson 0.756\n",
      "jenson 0.404\n",
      "loading target LEHD: Houston\n",
      "-----------feature extractor working-----------------\n",
      "feature extractor early stop at 20 epochs\n",
      "featuredims [46, 16]\n"
     ]
    },
    {
     "name": "stderr",
     "output_type": "stream",
     "text": [
      "Setting up a new session...\n"
     ]
    },
    {
     "name": "stdout",
     "output_type": "stream",
     "text": [
      "early stop at 40 epochs\n",
      "KL 0.647\n",
      "CPC 0.646\n",
      "MAE 0.883\n",
      "pearson 0.833\n",
      "jenson 0.359\n",
      "loading target LEHD: Boston\n",
      "-----------feature extractor working-----------------\n",
      "feature extractor early stop at 27 epochs\n",
      "featuredims [46, 16]\n"
     ]
    },
    {
     "name": "stderr",
     "output_type": "stream",
     "text": [
      "Setting up a new session...\n"
     ]
    },
    {
     "name": "stdout",
     "output_type": "stream",
     "text": [
      "early stop at 62 epochs\n",
      "KL 1.15\n",
      "CPC 0.696\n",
      "MAE 1.715\n",
      "pearson 0.826\n",
      "jenson 0.314\n",
      "loading target LEHD: Phoenix\n",
      "-----------feature extractor working-----------------\n",
      "feature extractor early stop at 21 epochs\n",
      "featuredims [46, 16]\n"
     ]
    },
    {
     "name": "stderr",
     "output_type": "stream",
     "text": [
      "Setting up a new session...\n"
     ]
    },
    {
     "name": "stdout",
     "output_type": "stream",
     "text": [
      "early stop at 36 epochs\n",
      "KL 0.755\n",
      "CPC 0.682\n",
      "MAE 1.078\n",
      "pearson 0.826\n",
      "jenson 0.328\n",
      "loading target LEHD: Philadelphia\n",
      "-----------feature extractor working-----------------\n",
      "feature extractor early stop at 28 epochs\n",
      "featuredims [46, 16]\n"
     ]
    },
    {
     "name": "stderr",
     "output_type": "stream",
     "text": [
      "Setting up a new session...\n"
     ]
    },
    {
     "name": "stdout",
     "output_type": "stream",
     "text": [
      "early stop at 58 epochs\n",
      "KL 1.094\n",
      "CPC 0.675\n",
      "MAE 1.662\n",
      "pearson 0.811\n",
      "jenson 0.331\n",
      "loading target LEHD: San Antonio\n",
      "-----------feature extractor working-----------------\n",
      "feature extractor early stop at 21 epochs\n",
      "featuredims [46, 16]\n"
     ]
    },
    {
     "name": "stderr",
     "output_type": "stream",
     "text": [
      "Setting up a new session...\n"
     ]
    },
    {
     "name": "stdout",
     "output_type": "stream",
     "text": [
      "early stop at 57 epochs\n",
      "KL 1.152\n",
      "CPC 0.748\n",
      "MAE 2.265\n",
      "pearson 0.874\n",
      "jenson 0.251\n",
      "loading target LEHD: San Diego\n",
      "-----------feature extractor working-----------------\n",
      "feature extractor early stop at 22 epochs\n",
      "featuredims [46, 16]\n"
     ]
    },
    {
     "name": "stderr",
     "output_type": "stream",
     "text": [
      "Setting up a new session...\n"
     ]
    },
    {
     "name": "stdout",
     "output_type": "stream",
     "text": [
      "early stop at 56 epochs\n",
      "KL 0.962\n",
      "CPC 0.725\n",
      "MAE 1.403\n",
      "pearson 0.927\n",
      "jenson 0.297\n",
      "loading target LEHD: Dallas\n",
      "-----------feature extractor working-----------------\n",
      "feature extractor early stop at 27 epochs\n",
      "featuredims [46, 16]\n"
     ]
    },
    {
     "name": "stderr",
     "output_type": "stream",
     "text": [
      "Setting up a new session...\n"
     ]
    },
    {
     "name": "stdout",
     "output_type": "stream",
     "text": [
      "early stop at 52 epochs\n",
      "KL 0.786\n",
      "CPC 0.671\n",
      "MAE 1.196\n",
      "pearson 0.867\n",
      "jenson 0.332\n",
      "loading target LEHD: San Jose\n",
      "-----------feature extractor working-----------------\n",
      "feature extractor early stop at 16 epochs\n",
      "featuredims [46, 16]\n"
     ]
    },
    {
     "name": "stderr",
     "output_type": "stream",
     "text": [
      "Setting up a new session...\n"
     ]
    },
    {
     "name": "stdout",
     "output_type": "stream",
     "text": [
      "early stop at 58 epochs\n",
      "KL 1.783\n",
      "CPC 0.731\n",
      "MAE 3.076\n",
      "pearson 0.891\n",
      "jenson 0.274\n",
      "loading target LEHD: Austin\n",
      "-----------feature extractor working-----------------\n",
      "feature extractor early stop at 23 epochs\n",
      "featuredims [46, 16]\n"
     ]
    },
    {
     "name": "stderr",
     "output_type": "stream",
     "text": [
      "Setting up a new session...\n"
     ]
    },
    {
     "name": "stdout",
     "output_type": "stream",
     "text": [
      "early stop at 58 epochs\n",
      "KL 1.269\n",
      "CPC 0.772\n",
      "MAE 2.538\n",
      "pearson 0.906\n",
      "jenson 0.237\n",
      "loading datasets\n",
      "loading target LEHD: New York City\n",
      "-----------feature extractor working-----------------\n",
      "feature extractor early stop at 24 epochs\n",
      "featuredims [46, 16]\n"
     ]
    },
    {
     "name": "stderr",
     "output_type": "stream",
     "text": [
      "Setting up a new session...\n"
     ]
    },
    {
     "name": "stdout",
     "output_type": "stream",
     "text": [
      "early stop at 41 epochs\n",
      "KL 0.503\n",
      "CPC 0.579\n",
      "MAE 0.555\n",
      "pearson 0.745\n",
      "jenson 0.423\n",
      "loading target LEHD: Los Angeles\n",
      "-----------feature extractor working-----------------\n",
      "feature extractor early stop at 24 epochs\n",
      "featuredims [46, 16]\n"
     ]
    },
    {
     "name": "stderr",
     "output_type": "stream",
     "text": [
      "Setting up a new session...\n"
     ]
    },
    {
     "name": "stdout",
     "output_type": "stream",
     "text": [
      "early stop at 44 epochs\n",
      "KL 0.524\n",
      "CPC 0.492\n",
      "MAE 0.521\n",
      "pearson 0.619\n",
      "jenson 0.487\n",
      "loading target LEHD: Chicago\n",
      "-----------feature extractor working-----------------\n",
      "feature extractor early stop at 23 epochs\n",
      "featuredims [46, 16]\n"
     ]
    },
    {
     "name": "stderr",
     "output_type": "stream",
     "text": [
      "Setting up a new session...\n"
     ]
    },
    {
     "name": "stdout",
     "output_type": "stream",
     "text": [
      "early stop at 45 epochs\n",
      "KL 0.723\n",
      "CPC 0.586\n",
      "MAE 0.874\n",
      "pearson 0.746\n",
      "jenson 0.41\n",
      "loading target LEHD: Houston\n",
      "-----------feature extractor working-----------------\n",
      "feature extractor early stop at 31 epochs\n",
      "featuredims [46, 16]\n"
     ]
    },
    {
     "name": "stderr",
     "output_type": "stream",
     "text": [
      "Setting up a new session...\n"
     ]
    },
    {
     "name": "stdout",
     "output_type": "stream",
     "text": [
      "early stop at 42 epochs\n",
      "KL 0.647\n",
      "CPC 0.645\n",
      "MAE 0.887\n",
      "pearson 0.827\n",
      "jenson 0.36\n",
      "loading target LEHD: Boston\n",
      "-----------feature extractor working-----------------\n",
      "feature extractor early stop at 19 epochs\n",
      "featuredims [46, 16]\n"
     ]
    },
    {
     "name": "stderr",
     "output_type": "stream",
     "text": [
      "Setting up a new session...\n"
     ]
    },
    {
     "name": "stdout",
     "output_type": "stream",
     "text": [
      "early stop at 47 epochs\n",
      "KL 1.207\n",
      "CPC 0.689\n",
      "MAE 1.754\n",
      "pearson 0.81\n",
      "jenson 0.322\n",
      "loading target LEHD: Phoenix\n",
      "-----------feature extractor working-----------------\n",
      "feature extractor early stop at 21 epochs\n",
      "featuredims [46, 16]\n"
     ]
    },
    {
     "name": "stderr",
     "output_type": "stream",
     "text": [
      "Setting up a new session...\n"
     ]
    },
    {
     "name": "stdout",
     "output_type": "stream",
     "text": [
      "early stop at 38 epochs\n",
      "KL 0.753\n",
      "CPC 0.682\n",
      "MAE 1.077\n",
      "pearson 0.825\n",
      "jenson 0.328\n",
      "loading target LEHD: Philadelphia\n",
      "-----------feature extractor working-----------------\n",
      "feature extractor early stop at 23 epochs\n",
      "featuredims [46, 16]\n"
     ]
    },
    {
     "name": "stderr",
     "output_type": "stream",
     "text": [
      "Setting up a new session...\n"
     ]
    },
    {
     "name": "stdout",
     "output_type": "stream",
     "text": [
      "early stop at 46 epochs\n",
      "KL 1.119\n",
      "CPC 0.673\n",
      "MAE 1.672\n",
      "pearson 0.806\n",
      "jenson 0.333\n",
      "loading target LEHD: San Antonio\n",
      "-----------feature extractor working-----------------\n",
      "feature extractor early stop at 22 epochs\n",
      "featuredims [46, 16]\n"
     ]
    },
    {
     "name": "stderr",
     "output_type": "stream",
     "text": [
      "Setting up a new session...\n"
     ]
    },
    {
     "name": "stdout",
     "output_type": "stream",
     "text": [
      "early stop at 46 epochs\n",
      "KL 1.152\n",
      "CPC 0.75\n",
      "MAE 2.249\n",
      "pearson 0.866\n",
      "jenson 0.253\n",
      "loading target LEHD: San Diego\n",
      "-----------feature extractor working-----------------\n",
      "feature extractor early stop at 23 epochs\n",
      "featuredims [46, 16]\n"
     ]
    },
    {
     "name": "stderr",
     "output_type": "stream",
     "text": [
      "Setting up a new session...\n"
     ]
    },
    {
     "name": "stdout",
     "output_type": "stream",
     "text": [
      "early stop at 47 epochs\n",
      "KL 0.952\n",
      "CPC 0.728\n",
      "MAE 1.387\n",
      "pearson 0.922\n",
      "jenson 0.3\n",
      "loading target LEHD: Dallas\n",
      "-----------feature extractor working-----------------\n",
      "feature extractor early stop at 29 epochs\n",
      "featuredims [46, 16]\n"
     ]
    },
    {
     "name": "stderr",
     "output_type": "stream",
     "text": [
      "Setting up a new session...\n"
     ]
    },
    {
     "name": "stdout",
     "output_type": "stream",
     "text": [
      "early stop at 45 epochs\n",
      "KL 0.792\n",
      "CPC 0.669\n",
      "MAE 1.203\n",
      "pearson 0.858\n",
      "jenson 0.335\n",
      "loading target LEHD: San Jose\n",
      "-----------feature extractor working-----------------\n",
      "feature extractor early stop at 15 epochs\n",
      "featuredims [46, 16]\n"
     ]
    },
    {
     "name": "stderr",
     "output_type": "stream",
     "text": [
      "Setting up a new session...\n"
     ]
    },
    {
     "name": "stdout",
     "output_type": "stream",
     "text": [
      "early stop at 47 epochs\n",
      "KL 1.697\n",
      "CPC 0.74\n",
      "MAE 2.977\n",
      "pearson 0.891\n",
      "jenson 0.269\n",
      "loading target LEHD: Austin\n",
      "-----------feature extractor working-----------------\n",
      "feature extractor early stop at 23 epochs\n",
      "featuredims [46, 16]\n"
     ]
    },
    {
     "name": "stderr",
     "output_type": "stream",
     "text": [
      "Setting up a new session...\n"
     ]
    },
    {
     "name": "stdout",
     "output_type": "stream",
     "text": [
      "early stop at 47 epochs\n",
      "KL 1.322\n",
      "CPC 0.769\n",
      "MAE 2.566\n",
      "pearson 0.896\n",
      "jenson 0.242\n",
      "loading datasets\n",
      "loading target LEHD: New York City\n",
      "-----------feature extractor working-----------------\n",
      "feature extractor early stop at 22 epochs\n",
      "featuredims [46, 16]\n"
     ]
    },
    {
     "name": "stderr",
     "output_type": "stream",
     "text": [
      "Setting up a new session...\n"
     ]
    },
    {
     "name": "stdout",
     "output_type": "stream",
     "text": [
      "early stop at 51 epochs\n",
      "KL 0.481\n",
      "CPC 0.587\n",
      "MAE 0.543\n",
      "pearson 0.756\n",
      "jenson 0.416\n",
      "loading target LEHD: Los Angeles\n",
      "-----------feature extractor working-----------------\n",
      "feature extractor early stop at 21 epochs\n",
      "featuredims [46, 16]\n"
     ]
    },
    {
     "name": "stderr",
     "output_type": "stream",
     "text": [
      "Setting up a new session...\n"
     ]
    },
    {
     "name": "stdout",
     "output_type": "stream",
     "text": [
      "early stop at 54 epochs\n",
      "KL 0.509\n",
      "CPC 0.511\n",
      "MAE 0.502\n",
      "pearson 0.649\n",
      "jenson 0.474\n",
      "loading target LEHD: Chicago\n",
      "-----------feature extractor working-----------------\n",
      "feature extractor early stop at 21 epochs\n",
      "featuredims [46, 16]\n"
     ]
    },
    {
     "name": "stderr",
     "output_type": "stream",
     "text": [
      "Setting up a new session...\n"
     ]
    },
    {
     "name": "stdout",
     "output_type": "stream",
     "text": [
      "early stop at 55 epochs\n",
      "KL 0.711\n",
      "CPC 0.592\n",
      "MAE 0.861\n",
      "pearson 0.76\n",
      "jenson 0.403\n",
      "loading target LEHD: Houston\n",
      "-----------feature extractor working-----------------\n",
      "feature extractor early stop at 18 epochs\n",
      "featuredims [46, 16]\n"
     ]
    },
    {
     "name": "stderr",
     "output_type": "stream",
     "text": [
      "Setting up a new session...\n"
     ]
    },
    {
     "name": "stdout",
     "output_type": "stream",
     "text": [
      "early stop at 39 epochs\n",
      "KL 0.648\n",
      "CPC 0.646\n",
      "MAE 0.882\n",
      "pearson 0.835\n",
      "jenson 0.358\n",
      "loading target LEHD: Boston\n",
      "-----------feature extractor working-----------------\n",
      "feature extractor early stop at 29 epochs\n",
      "featuredims [46, 16]\n"
     ]
    },
    {
     "name": "stderr",
     "output_type": "stream",
     "text": [
      "Setting up a new session...\n"
     ]
    },
    {
     "name": "stdout",
     "output_type": "stream",
     "text": [
      "early stop at 64 epochs\n",
      "KL 1.133\n",
      "CPC 0.698\n",
      "MAE 1.702\n",
      "pearson 0.833\n",
      "jenson 0.311\n",
      "loading target LEHD: Phoenix\n",
      "-----------feature extractor working-----------------\n",
      "feature extractor early stop at 17 epochs\n",
      "featuredims [46, 16]\n"
     ]
    },
    {
     "name": "stderr",
     "output_type": "stream",
     "text": [
      "Setting up a new session...\n"
     ]
    },
    {
     "name": "stdout",
     "output_type": "stream",
     "text": [
      "early stop at 34 epochs\n",
      "KL 0.757\n",
      "CPC 0.681\n",
      "MAE 1.079\n",
      "pearson 0.826\n",
      "jenson 0.328\n",
      "loading target LEHD: Philadelphia\n",
      "-----------feature extractor working-----------------\n",
      "feature extractor early stop at 24 epochs\n",
      "featuredims [46, 16]\n"
     ]
    },
    {
     "name": "stderr",
     "output_type": "stream",
     "text": [
      "Setting up a new session...\n"
     ]
    },
    {
     "name": "stdout",
     "output_type": "stream",
     "text": [
      "early stop at 61 epochs\n",
      "KL 1.081\n",
      "CPC 0.675\n",
      "MAE 1.658\n",
      "pearson 0.814\n",
      "jenson 0.329\n",
      "loading target LEHD: San Antonio\n",
      "-----------feature extractor working-----------------\n",
      "feature extractor early stop at 17 epochs\n",
      "featuredims [46, 16]\n"
     ]
    },
    {
     "name": "stderr",
     "output_type": "stream",
     "text": [
      "Setting up a new session...\n"
     ]
    },
    {
     "name": "stdout",
     "output_type": "stream",
     "text": [
      "early stop at 52 epochs\n",
      "KL 1.159\n",
      "CPC 0.747\n",
      "MAE 2.275\n",
      "pearson 0.875\n",
      "jenson 0.252\n",
      "loading target LEHD: San Diego\n",
      "-----------feature extractor working-----------------\n",
      "feature extractor early stop at 21 epochs\n",
      "featuredims [46, 16]\n"
     ]
    },
    {
     "name": "stderr",
     "output_type": "stream",
     "text": [
      "Setting up a new session...\n"
     ]
    },
    {
     "name": "stdout",
     "output_type": "stream",
     "text": [
      "early stop at 56 epochs\n",
      "KL 0.981\n",
      "CPC 0.721\n",
      "MAE 1.42\n",
      "pearson 0.926\n",
      "jenson 0.298\n",
      "loading target LEHD: Dallas\n",
      "-----------feature extractor working-----------------\n",
      "feature extractor early stop at 17 epochs\n",
      "featuredims [46, 16]\n"
     ]
    },
    {
     "name": "stderr",
     "output_type": "stream",
     "text": [
      "Setting up a new session...\n"
     ]
    },
    {
     "name": "stdout",
     "output_type": "stream",
     "text": [
      "early stop at 53 epochs\n",
      "KL 0.79\n",
      "CPC 0.671\n",
      "MAE 1.198\n",
      "pearson 0.868\n",
      "jenson 0.332\n",
      "loading target LEHD: San Jose\n",
      "-----------feature extractor working-----------------\n",
      "feature extractor early stop at 16 epochs\n",
      "featuredims [46, 16]\n"
     ]
    },
    {
     "name": "stderr",
     "output_type": "stream",
     "text": [
      "Setting up a new session...\n"
     ]
    },
    {
     "name": "stdout",
     "output_type": "stream",
     "text": [
      "early stop at 61 epochs\n",
      "KL 1.871\n",
      "CPC 0.724\n",
      "MAE 3.152\n",
      "pearson 0.888\n",
      "jenson 0.278\n",
      "loading target LEHD: Austin\n",
      "-----------feature extractor working-----------------\n",
      "feature extractor early stop at 18 epochs\n",
      "featuredims [46, 16]\n"
     ]
    },
    {
     "name": "stderr",
     "output_type": "stream",
     "text": [
      "Setting up a new session...\n"
     ]
    },
    {
     "name": "stdout",
     "output_type": "stream",
     "text": [
      "early stop at 57 epochs\n",
      "KL 1.262\n",
      "CPC 0.772\n",
      "MAE 2.539\n",
      "pearson 0.909\n",
      "jenson 0.236\n",
      "loading datasets\n",
      "loading target LEHD: New York City\n",
      "-----------feature extractor working-----------------\n",
      "feature extractor early stop at 22 epochs\n",
      "featuredims [46, 16]\n",
      "early stop at 36 epochs\n",
      "KL 0.513\n",
      "CPC 0.576\n",
      "MAE 0.559\n",
      "pearson 0.741\n",
      "jenson 0.426\n",
      "loading target LEHD: Los Angeles\n",
      "-----------feature extractor working-----------------\n"
     ]
    },
    {
     "name": "stderr",
     "output_type": "stream",
     "text": [
      "Setting up a new session...\n"
     ]
    },
    {
     "name": "stdout",
     "output_type": "stream",
     "text": [
      "feature extractor early stop at 24 epochs\n",
      "featuredims [46, 16]\n"
     ]
    },
    {
     "name": "stderr",
     "output_type": "stream",
     "text": [
      "Setting up a new session...\n"
     ]
    },
    {
     "name": "stdout",
     "output_type": "stream",
     "text": [
      "early stop at 38 epochs\n",
      "KL 0.539\n",
      "CPC 0.481\n",
      "MAE 0.532\n",
      "pearson 0.601\n",
      "jenson 0.495\n",
      "loading target LEHD: Chicago\n",
      "-----------feature extractor working-----------------\n",
      "feature extractor early stop at 23 epochs\n",
      "featuredims [46, 16]\n"
     ]
    },
    {
     "name": "stderr",
     "output_type": "stream",
     "text": [
      "Setting up a new session...\n"
     ]
    },
    {
     "name": "stdout",
     "output_type": "stream",
     "text": [
      "early stop at 39 epochs\n",
      "KL 0.742\n",
      "CPC 0.581\n",
      "MAE 0.885\n",
      "pearson 0.738\n",
      "jenson 0.415\n",
      "loading target LEHD: Houston\n",
      "-----------feature extractor working-----------------\n",
      "feature extractor early stop at 22 epochs\n",
      "featuredims [46, 16]\n"
     ]
    },
    {
     "name": "stderr",
     "output_type": "stream",
     "text": [
      "Setting up a new session...\n"
     ]
    },
    {
     "name": "stdout",
     "output_type": "stream",
     "text": [
      "early stop at 38 epochs\n",
      "KL 0.654\n",
      "CPC 0.64\n",
      "MAE 0.898\n",
      "pearson 0.815\n",
      "jenson 0.364\n",
      "loading target LEHD: Boston\n",
      "-----------feature extractor working-----------------\n",
      "feature extractor early stop at 19 epochs\n",
      "featuredims [46, 16]\n"
     ]
    },
    {
     "name": "stderr",
     "output_type": "stream",
     "text": [
      "Setting up a new session...\n"
     ]
    },
    {
     "name": "stdout",
     "output_type": "stream",
     "text": [
      "early stop at 41 epochs\n",
      "KL 1.268\n",
      "CPC 0.681\n",
      "MAE 1.797\n",
      "pearson 0.797\n",
      "jenson 0.329\n",
      "loading target LEHD: Phoenix\n",
      "-----------feature extractor working-----------------\n",
      "feature extractor early stop at 32 epochs\n",
      "featuredims [46, 16]\n"
     ]
    },
    {
     "name": "stderr",
     "output_type": "stream",
     "text": [
      "Setting up a new session...\n"
     ]
    },
    {
     "name": "stdout",
     "output_type": "stream",
     "text": [
      "early stop at 37 epochs\n",
      "KL 0.746\n",
      "CPC 0.682\n",
      "MAE 1.076\n",
      "pearson 0.819\n",
      "jenson 0.329\n",
      "loading target LEHD: Philadelphia\n",
      "-----------feature extractor working-----------------\n",
      "feature extractor early stop at 22 epochs\n",
      "featuredims [46, 16]\n"
     ]
    },
    {
     "name": "stderr",
     "output_type": "stream",
     "text": [
      "Setting up a new session...\n"
     ]
    },
    {
     "name": "stdout",
     "output_type": "stream",
     "text": [
      "early stop at 39 epochs\n",
      "KL 1.138\n",
      "CPC 0.671\n",
      "MAE 1.68\n",
      "pearson 0.803\n",
      "jenson 0.335\n",
      "loading target LEHD: San Antonio\n",
      "-----------feature extractor working-----------------\n",
      "feature extractor early stop at 22 epochs\n",
      "featuredims [46, 16]\n"
     ]
    },
    {
     "name": "stderr",
     "output_type": "stream",
     "text": [
      "Setting up a new session...\n"
     ]
    },
    {
     "name": "stdout",
     "output_type": "stream",
     "text": [
      "early stop at 40 epochs\n",
      "KL 1.177\n",
      "CPC 0.749\n",
      "MAE 2.259\n",
      "pearson 0.858\n",
      "jenson 0.255\n",
      "loading target LEHD: San Diego\n",
      "-----------feature extractor working-----------------\n",
      "feature extractor early stop at 23 epochs\n",
      "featuredims [46, 16]\n"
     ]
    },
    {
     "name": "stderr",
     "output_type": "stream",
     "text": [
      "Setting up a new session...\n"
     ]
    },
    {
     "name": "stdout",
     "output_type": "stream",
     "text": [
      "early stop at 40 epochs\n",
      "KL 0.985\n",
      "CPC 0.723\n",
      "MAE 1.409\n",
      "pearson 0.914\n",
      "jenson 0.305\n",
      "loading target LEHD: Dallas\n",
      "-----------feature extractor working-----------------\n",
      "feature extractor early stop at 20 epochs\n",
      "featuredims [46, 16]\n"
     ]
    },
    {
     "name": "stderr",
     "output_type": "stream",
     "text": [
      "Setting up a new session...\n"
     ]
    },
    {
     "name": "stdout",
     "output_type": "stream",
     "text": [
      "early stop at 39 epochs\n",
      "KL 0.814\n",
      "CPC 0.665\n",
      "MAE 1.218\n",
      "pearson 0.846\n",
      "jenson 0.339\n",
      "loading target LEHD: San Jose\n",
      "-----------feature extractor working-----------------\n",
      "feature extractor early stop at 16 epochs\n",
      "featuredims [46, 16]\n"
     ]
    },
    {
     "name": "stderr",
     "output_type": "stream",
     "text": [
      "Setting up a new session...\n"
     ]
    },
    {
     "name": "stdout",
     "output_type": "stream",
     "text": [
      "early stop at 40 epochs\n",
      "KL 1.697\n",
      "CPC 0.742\n",
      "MAE 2.945\n",
      "pearson 0.888\n",
      "jenson 0.269\n",
      "loading target LEHD: Austin\n",
      "-----------feature extractor working-----------------\n",
      "feature extractor early stop at 22 epochs\n",
      "featuredims [46, 16]\n"
     ]
    },
    {
     "name": "stderr",
     "output_type": "stream",
     "text": [
      "Setting up a new session...\n"
     ]
    },
    {
     "name": "stdout",
     "output_type": "stream",
     "text": [
      "early stop at 40 epochs\n",
      "KL 1.38\n",
      "CPC 0.766\n",
      "MAE 2.606\n",
      "pearson 0.889\n",
      "jenson 0.246\n",
      "loading datasets\n",
      "loading target LEHD: New York City\n",
      "-----------feature extractor working-----------------\n",
      "feature extractor early stop at 20 epochs\n",
      "featuredims [46, 16]\n"
     ]
    },
    {
     "name": "stderr",
     "output_type": "stream",
     "text": [
      "Setting up a new session...\n"
     ]
    },
    {
     "name": "stdout",
     "output_type": "stream",
     "text": [
      "early stop at 55 epochs\n",
      "KL 0.474\n",
      "CPC 0.59\n",
      "MAE 0.54\n",
      "pearson 0.76\n",
      "jenson 0.414\n",
      "loading target LEHD: Los Angeles\n",
      "-----------feature extractor working-----------------\n",
      "feature extractor early stop at 18 epochs\n",
      "featuredims [46, 16]\n"
     ]
    },
    {
     "name": "stderr",
     "output_type": "stream",
     "text": [
      "Setting up a new session...\n"
     ]
    },
    {
     "name": "stdout",
     "output_type": "stream",
     "text": [
      "early stop at 55 epochs\n",
      "KL 0.51\n",
      "CPC 0.516\n",
      "MAE 0.497\n",
      "pearson 0.657\n",
      "jenson 0.47\n",
      "loading target LEHD: Chicago\n",
      "-----------feature extractor working-----------------\n",
      "feature extractor early stop at 19 epochs\n",
      "featuredims [46, 16]\n"
     ]
    },
    {
     "name": "stderr",
     "output_type": "stream",
     "text": [
      "Setting up a new session...\n"
     ]
    },
    {
     "name": "stdout",
     "output_type": "stream",
     "text": [
      "early stop at 57 epochs\n",
      "KL 0.718\n",
      "CPC 0.592\n",
      "MAE 0.86\n",
      "pearson 0.763\n",
      "jenson 0.402\n",
      "loading target LEHD: Houston\n",
      "-----------feature extractor working-----------------\n",
      "feature extractor early stop at 17 epochs\n",
      "featuredims [46, 16]\n"
     ]
    },
    {
     "name": "stderr",
     "output_type": "stream",
     "text": [
      "Setting up a new session...\n"
     ]
    },
    {
     "name": "stdout",
     "output_type": "stream",
     "text": [
      "early stop at 38 epochs\n",
      "KL 0.649\n",
      "CPC 0.647\n",
      "MAE 0.882\n",
      "pearson 0.836\n",
      "jenson 0.358\n",
      "loading target LEHD: Boston\n",
      "-----------feature extractor working-----------------\n",
      "feature extractor early stop at 19 epochs\n",
      "featuredims [46, 16]\n"
     ]
    },
    {
     "name": "stderr",
     "output_type": "stream",
     "text": [
      "Setting up a new session...\n"
     ]
    },
    {
     "name": "stdout",
     "output_type": "stream",
     "text": [
      "early stop at 63 epochs\n",
      "KL 1.134\n",
      "CPC 0.698\n",
      "MAE 1.701\n",
      "pearson 0.838\n",
      "jenson 0.308\n",
      "loading target LEHD: Phoenix\n",
      "-----------feature extractor working-----------------\n",
      "feature extractor early stop at 15 epochs\n",
      "featuredims [46, 16]\n"
     ]
    },
    {
     "name": "stderr",
     "output_type": "stream",
     "text": [
      "Setting up a new session...\n"
     ]
    },
    {
     "name": "stdout",
     "output_type": "stream",
     "text": [
      "early stop at 33 epochs\n",
      "KL 0.757\n",
      "CPC 0.681\n",
      "MAE 1.079\n",
      "pearson 0.826\n",
      "jenson 0.328\n",
      "loading target LEHD: Philadelphia\n",
      "-----------feature extractor working-----------------\n",
      "feature extractor early stop at 25 epochs\n",
      "featuredims [46, 16]\n"
     ]
    },
    {
     "name": "stderr",
     "output_type": "stream",
     "text": [
      "Setting up a new session...\n"
     ]
    },
    {
     "name": "stdout",
     "output_type": "stream",
     "text": [
      "early stop at 70 epochs\n",
      "KL 1.072\n",
      "CPC 0.676\n",
      "MAE 1.656\n",
      "pearson 0.817\n",
      "jenson 0.328\n",
      "loading target LEHD: San Antonio\n",
      "-----------feature extractor working-----------------\n",
      "feature extractor early stop at 17 epochs\n",
      "featuredims [46, 16]\n"
     ]
    },
    {
     "name": "stderr",
     "output_type": "stream",
     "text": [
      "Setting up a new session...\n"
     ]
    },
    {
     "name": "stdout",
     "output_type": "stream",
     "text": [
      "early stop at 48 epochs\n",
      "KL 1.169\n",
      "CPC 0.746\n",
      "MAE 2.286\n",
      "pearson 0.876\n",
      "jenson 0.252\n",
      "loading target LEHD: San Diego\n",
      "-----------feature extractor working-----------------\n",
      "feature extractor early stop at 16 epochs\n",
      "featuredims [46, 16]\n"
     ]
    },
    {
     "name": "stderr",
     "output_type": "stream",
     "text": [
      "Setting up a new session...\n"
     ]
    },
    {
     "name": "stdout",
     "output_type": "stream",
     "text": [
      "early stop at 52 epochs\n",
      "KL 0.998\n",
      "CPC 0.719\n",
      "MAE 1.434\n",
      "pearson 0.925\n",
      "jenson 0.299\n",
      "loading target LEHD: Dallas\n",
      "-----------feature extractor working-----------------\n",
      "feature extractor early stop at 16 epochs\n",
      "featuredims [46, 16]\n"
     ]
    },
    {
     "name": "stderr",
     "output_type": "stream",
     "text": [
      "Setting up a new session...\n"
     ]
    },
    {
     "name": "stdout",
     "output_type": "stream",
     "text": [
      "early stop at 50 epochs\n",
      "KL 0.793\n",
      "CPC 0.67\n",
      "MAE 1.199\n",
      "pearson 0.869\n",
      "jenson 0.332\n",
      "loading target LEHD: San Jose\n",
      "-----------feature extractor working-----------------\n",
      "feature extractor early stop at 14 epochs\n",
      "featuredims [46, 16]\n"
     ]
    },
    {
     "name": "stderr",
     "output_type": "stream",
     "text": [
      "Setting up a new session...\n"
     ]
    },
    {
     "name": "stdout",
     "output_type": "stream",
     "text": [
      "early stop at 60 epochs\n",
      "KL 2.006\n",
      "CPC 0.716\n",
      "MAE 3.247\n",
      "pearson 0.884\n",
      "jenson 0.285\n",
      "loading target LEHD: Austin\n",
      "-----------feature extractor working-----------------\n",
      "feature extractor early stop at 17 epochs\n",
      "featuredims [46, 16]\n"
     ]
    },
    {
     "name": "stderr",
     "output_type": "stream",
     "text": [
      "Setting up a new session...\n"
     ]
    },
    {
     "name": "stdout",
     "output_type": "stream",
     "text": [
      "early stop at 53 epochs\n",
      "KL 1.263\n",
      "CPC 0.771\n",
      "MAE 2.544\n",
      "pearson 0.91\n",
      "jenson 0.236\n",
      "loading datasets\n",
      "loading target LEHD: New York City\n",
      "-----------feature extractor working-----------------\n",
      "feature extractor early stop at 20 epochs\n",
      "featuredims [46, 16]\n"
     ]
    },
    {
     "name": "stderr",
     "output_type": "stream",
     "text": [
      "Setting up a new session...\n"
     ]
    },
    {
     "name": "stdout",
     "output_type": "stream",
     "text": [
      "early stop at 39 epochs\n",
      "KL 0.501\n",
      "CPC 0.58\n",
      "MAE 0.553\n",
      "pearson 0.746\n",
      "jenson 0.422\n",
      "loading target LEHD: Los Angeles\n",
      "-----------feature extractor working-----------------\n",
      "feature extractor early stop at 22 epochs\n",
      "featuredims [46, 16]\n"
     ]
    },
    {
     "name": "stderr",
     "output_type": "stream",
     "text": [
      "Setting up a new session...\n"
     ]
    },
    {
     "name": "stdout",
     "output_type": "stream",
     "text": [
      "early stop at 42 epochs\n",
      "KL 0.525\n",
      "CPC 0.492\n",
      "MAE 0.522\n",
      "pearson 0.618\n",
      "jenson 0.488\n",
      "loading target LEHD: Chicago\n",
      "-----------feature extractor working-----------------\n",
      "feature extractor early stop at 21 epochs\n",
      "featuredims [46, 16]\n"
     ]
    },
    {
     "name": "stderr",
     "output_type": "stream",
     "text": [
      "Setting up a new session...\n"
     ]
    },
    {
     "name": "stdout",
     "output_type": "stream",
     "text": [
      "early stop at 43 epochs\n",
      "KL 0.724\n",
      "CPC 0.586\n",
      "MAE 0.874\n",
      "pearson 0.746\n",
      "jenson 0.41\n",
      "loading target LEHD: Houston\n",
      "-----------feature extractor working-----------------\n",
      "feature extractor early stop at 21 epochs\n",
      "featuredims [46, 16]\n"
     ]
    },
    {
     "name": "stderr",
     "output_type": "stream",
     "text": [
      "Setting up a new session...\n"
     ]
    },
    {
     "name": "stdout",
     "output_type": "stream",
     "text": [
      "early stop at 40 epochs\n",
      "KL 0.647\n",
      "CPC 0.644\n",
      "MAE 0.889\n",
      "pearson 0.825\n",
      "jenson 0.361\n",
      "loading target LEHD: Boston\n",
      "-----------feature extractor working-----------------\n",
      "feature extractor early stop at 18 epochs\n",
      "featuredims [46, 16]\n"
     ]
    },
    {
     "name": "stderr",
     "output_type": "stream",
     "text": [
      "Setting up a new session...\n"
     ]
    },
    {
     "name": "stdout",
     "output_type": "stream",
     "text": [
      "early stop at 45 epochs\n",
      "KL 1.207\n",
      "CPC 0.689\n",
      "MAE 1.754\n",
      "pearson 0.81\n",
      "jenson 0.322\n",
      "loading target LEHD: Phoenix\n",
      "-----------feature extractor working-----------------\n",
      "feature extractor early stop at 20 epochs\n",
      "featuredims [46, 16]\n"
     ]
    },
    {
     "name": "stderr",
     "output_type": "stream",
     "text": [
      "Setting up a new session...\n"
     ]
    },
    {
     "name": "stdout",
     "output_type": "stream",
     "text": [
      "early stop at 36 epochs\n",
      "KL 0.751\n",
      "CPC 0.682\n",
      "MAE 1.076\n",
      "pearson 0.824\n",
      "jenson 0.328\n",
      "loading target LEHD: Philadelphia\n",
      "-----------feature extractor working-----------------\n",
      "feature extractor early stop at 21 epochs\n",
      "featuredims [46, 16]\n"
     ]
    },
    {
     "name": "stderr",
     "output_type": "stream",
     "text": [
      "Setting up a new session...\n"
     ]
    },
    {
     "name": "stdout",
     "output_type": "stream",
     "text": [
      "early stop at 43 epochs\n",
      "KL 1.116\n",
      "CPC 0.673\n",
      "MAE 1.671\n",
      "pearson 0.807\n",
      "jenson 0.333\n",
      "loading target LEHD: San Antonio\n",
      "-----------feature extractor working-----------------\n",
      "feature extractor early stop at 23 epochs\n",
      "featuredims [46, 16]\n"
     ]
    },
    {
     "name": "stderr",
     "output_type": "stream",
     "text": [
      "Setting up a new session...\n"
     ]
    },
    {
     "name": "stdout",
     "output_type": "stream",
     "text": [
      "early stop at 44 epochs\n",
      "KL 1.155\n",
      "CPC 0.75\n",
      "MAE 2.25\n",
      "pearson 0.865\n",
      "jenson 0.253\n",
      "loading target LEHD: San Diego\n",
      "-----------feature extractor working-----------------\n",
      "feature extractor early stop at 19 epochs\n",
      "featuredims [46, 16]\n"
     ]
    },
    {
     "name": "stderr",
     "output_type": "stream",
     "text": [
      "Setting up a new session...\n"
     ]
    },
    {
     "name": "stdout",
     "output_type": "stream",
     "text": [
      "early stop at 44 epochs\n",
      "KL 0.954\n",
      "CPC 0.728\n",
      "MAE 1.387\n",
      "pearson 0.922\n",
      "jenson 0.3\n",
      "loading target LEHD: Dallas\n",
      "-----------feature extractor working-----------------\n",
      "feature extractor early stop at 19 epochs\n",
      "featuredims [46, 16]\n"
     ]
    },
    {
     "name": "stderr",
     "output_type": "stream",
     "text": [
      "Setting up a new session...\n"
     ]
    },
    {
     "name": "stdout",
     "output_type": "stream",
     "text": [
      "early stop at 43 epochs\n",
      "KL 0.793\n",
      "CPC 0.669\n",
      "MAE 1.203\n",
      "pearson 0.857\n",
      "jenson 0.335\n",
      "loading target LEHD: San Jose\n",
      "-----------feature extractor working-----------------\n",
      "feature extractor early stop at 15 epochs\n",
      "featuredims [46, 16]\n"
     ]
    },
    {
     "name": "stderr",
     "output_type": "stream",
     "text": [
      "Setting up a new session...\n"
     ]
    },
    {
     "name": "stdout",
     "output_type": "stream",
     "text": [
      "early stop at 45 epochs\n",
      "KL 1.695\n",
      "CPC 0.74\n",
      "MAE 2.971\n",
      "pearson 0.891\n",
      "jenson 0.269\n",
      "loading target LEHD: Austin\n",
      "-----------feature extractor working-----------------\n",
      "feature extractor early stop at 22 epochs\n",
      "featuredims [46, 16]\n"
     ]
    },
    {
     "name": "stderr",
     "output_type": "stream",
     "text": [
      "Setting up a new session...\n"
     ]
    },
    {
     "name": "stdout",
     "output_type": "stream",
     "text": [
      "early stop at 45 epochs\n",
      "KL 1.323\n",
      "CPC 0.769\n",
      "MAE 2.567\n",
      "pearson 0.896\n",
      "jenson 0.242\n",
      "loading datasets\n",
      "loading target LEHD: New York City\n",
      "-----------feature extractor working-----------------\n",
      "feature extractor early stop at 20 epochs\n",
      "featuredims [46, 16]\n"
     ]
    },
    {
     "name": "stderr",
     "output_type": "stream",
     "text": [
      "Setting up a new session...\n"
     ]
    },
    {
     "name": "stdout",
     "output_type": "stream",
     "text": [
      "early stop at 45 epochs\n",
      "KL 0.492\n",
      "CPC 0.583\n",
      "MAE 0.549\n",
      "pearson 0.75\n",
      "jenson 0.42\n",
      "loading target LEHD: Los Angeles\n",
      "-----------feature extractor working-----------------\n",
      "feature extractor early stop at 27 epochs\n",
      "featuredims [46, 16]\n"
     ]
    },
    {
     "name": "stderr",
     "output_type": "stream",
     "text": [
      "Setting up a new session...\n"
     ]
    },
    {
     "name": "stdout",
     "output_type": "stream",
     "text": [
      "early stop at 48 epochs\n",
      "KL 0.516\n",
      "CPC 0.5\n",
      "MAE 0.513\n",
      "pearson 0.632\n",
      "jenson 0.482\n",
      "loading target LEHD: Chicago\n",
      "-----------feature extractor working-----------------\n",
      "feature extractor early stop at 22 epochs\n",
      "featuredims [46, 16]\n"
     ]
    },
    {
     "name": "stderr",
     "output_type": "stream",
     "text": [
      "Setting up a new session...\n"
     ]
    },
    {
     "name": "stdout",
     "output_type": "stream",
     "text": [
      "early stop at 49 epochs\n",
      "KL 0.713\n",
      "CPC 0.589\n",
      "MAE 0.867\n",
      "pearson 0.752\n",
      "jenson 0.406\n",
      "loading target LEHD: Houston\n",
      "-----------feature extractor working-----------------\n",
      "feature extractor early stop at 17 epochs\n",
      "featuredims [46, 16]\n"
     ]
    },
    {
     "name": "stderr",
     "output_type": "stream",
     "text": [
      "Setting up a new session...\n"
     ]
    },
    {
     "name": "stdout",
     "output_type": "stream",
     "text": [
      "early stop at 42 epochs\n",
      "KL 0.647\n",
      "CPC 0.646\n",
      "MAE 0.884\n",
      "pearson 0.832\n",
      "jenson 0.359\n",
      "loading target LEHD: Boston\n",
      "-----------feature extractor working-----------------\n",
      "feature extractor early stop at 18 epochs\n",
      "featuredims [46, 16]\n"
     ]
    },
    {
     "name": "stderr",
     "output_type": "stream",
     "text": [
      "Setting up a new session...\n"
     ]
    },
    {
     "name": "stdout",
     "output_type": "stream",
     "text": [
      "early stop at 53 epochs\n",
      "KL 1.169\n",
      "CPC 0.693\n",
      "MAE 1.729\n",
      "pearson 0.82\n",
      "jenson 0.317\n",
      "loading target LEHD: Phoenix\n",
      "-----------feature extractor working-----------------\n",
      "feature extractor early stop at 20 epochs\n",
      "featuredims [46, 16]\n"
     ]
    },
    {
     "name": "stderr",
     "output_type": "stream",
     "text": [
      "Setting up a new session...\n"
     ]
    },
    {
     "name": "stdout",
     "output_type": "stream",
     "text": [
      "early stop at 35 epochs\n",
      "KL 0.753\n",
      "CPC 0.682\n",
      "MAE 1.077\n",
      "pearson 0.825\n",
      "jenson 0.328\n",
      "loading target LEHD: Philadelphia\n",
      "-----------feature extractor working-----------------\n",
      "feature extractor early stop at 20 epochs\n",
      "featuredims [46, 16]\n"
     ]
    },
    {
     "name": "stderr",
     "output_type": "stream",
     "text": [
      "Setting up a new session...\n"
     ]
    },
    {
     "name": "stdout",
     "output_type": "stream",
     "text": [
      "early stop at 52 epochs\n",
      "KL 1.102\n",
      "CPC 0.674\n",
      "MAE 1.665\n",
      "pearson 0.81\n",
      "jenson 0.331\n",
      "loading target LEHD: San Antonio\n",
      "-----------feature extractor working-----------------\n",
      "feature extractor early stop at 18 epochs\n",
      "featuredims [46, 16]\n"
     ]
    },
    {
     "name": "stderr",
     "output_type": "stream",
     "text": [
      "Setting up a new session...\n"
     ]
    },
    {
     "name": "stdout",
     "output_type": "stream",
     "text": [
      "early stop at 52 epochs\n",
      "KL 1.146\n",
      "CPC 0.749\n",
      "MAE 2.253\n",
      "pearson 0.871\n",
      "jenson 0.251\n",
      "loading target LEHD: San Diego\n",
      "-----------feature extractor working-----------------\n",
      "feature extractor early stop at 31 epochs\n",
      "featuredims [46, 16]\n"
     ]
    },
    {
     "name": "stderr",
     "output_type": "stream",
     "text": [
      "Setting up a new session...\n"
     ]
    },
    {
     "name": "stdout",
     "output_type": "stream",
     "text": [
      "early stop at 52 epochs\n",
      "KL 0.95\n",
      "CPC 0.727\n",
      "MAE 1.39\n",
      "pearson 0.926\n",
      "jenson 0.298\n",
      "loading target LEHD: Dallas\n",
      "-----------feature extractor working-----------------\n",
      "feature extractor early stop at 18 epochs\n",
      "featuredims [46, 16]\n"
     ]
    },
    {
     "name": "stderr",
     "output_type": "stream",
     "text": [
      "Setting up a new session...\n"
     ]
    },
    {
     "name": "stdout",
     "output_type": "stream",
     "text": [
      "early stop at 50 epochs\n",
      "KL 0.785\n",
      "CPC 0.671\n",
      "MAE 1.198\n",
      "pearson 0.863\n",
      "jenson 0.333\n",
      "loading target LEHD: San Jose\n",
      "-----------feature extractor working-----------------\n",
      "feature extractor early stop at 15 epochs\n",
      "featuredims [46, 16]\n"
     ]
    },
    {
     "name": "stderr",
     "output_type": "stream",
     "text": [
      "Setting up a new session...\n"
     ]
    },
    {
     "name": "stdout",
     "output_type": "stream",
     "text": [
      "early stop at 53 epochs\n",
      "KL 1.731\n",
      "CPC 0.736\n",
      "MAE 3.022\n",
      "pearson 0.892\n",
      "jenson 0.271\n",
      "loading target LEHD: Austin\n",
      "-----------feature extractor working-----------------\n",
      "feature extractor early stop at 18 epochs\n",
      "featuredims [46, 16]\n"
     ]
    },
    {
     "name": "stderr",
     "output_type": "stream",
     "text": [
      "Setting up a new session...\n"
     ]
    },
    {
     "name": "stdout",
     "output_type": "stream",
     "text": [
      "early stop at 51 epochs\n",
      "KL 1.287\n",
      "CPC 0.771\n",
      "MAE 2.546\n",
      "pearson 0.902\n",
      "jenson 0.239\n",
      "loading datasets\n",
      "loading target LEHD: New York City\n",
      "-----------feature extractor working-----------------\n",
      "feature extractor early stop at 26 epochs\n",
      "featuredims [46, 16]\n"
     ]
    },
    {
     "name": "stderr",
     "output_type": "stream",
     "text": [
      "Setting up a new session...\n"
     ]
    },
    {
     "name": "stdout",
     "output_type": "stream",
     "text": [
      "early stop at 43 epochs\n",
      "KL 0.495\n",
      "CPC 0.582\n",
      "MAE 0.551\n",
      "pearson 0.749\n",
      "jenson 0.42\n",
      "loading target LEHD: Los Angeles\n",
      "-----------feature extractor working-----------------\n",
      "feature extractor early stop at 24 epochs\n",
      "featuredims [46, 16]\n"
     ]
    },
    {
     "name": "stderr",
     "output_type": "stream",
     "text": [
      "Setting up a new session...\n"
     ]
    },
    {
     "name": "stdout",
     "output_type": "stream",
     "text": [
      "early stop at 46 epochs\n",
      "KL 0.517\n",
      "CPC 0.5\n",
      "MAE 0.514\n",
      "pearson 0.63\n",
      "jenson 0.482\n",
      "loading target LEHD: Chicago\n",
      "-----------feature extractor working-----------------\n",
      "feature extractor early stop at 29 epochs\n",
      "featuredims [46, 16]\n"
     ]
    },
    {
     "name": "stderr",
     "output_type": "stream",
     "text": [
      "Setting up a new session...\n"
     ]
    },
    {
     "name": "stdout",
     "output_type": "stream",
     "text": [
      "early stop at 47 epochs\n",
      "KL 0.717\n",
      "CPC 0.588\n",
      "MAE 0.869\n",
      "pearson 0.75\n",
      "jenson 0.408\n",
      "loading target LEHD: Houston\n",
      "-----------feature extractor working-----------------\n",
      "feature extractor early stop at 25 epochs\n",
      "featuredims [46, 16]\n"
     ]
    },
    {
     "name": "stderr",
     "output_type": "stream",
     "text": [
      "Setting up a new session...\n"
     ]
    },
    {
     "name": "stdout",
     "output_type": "stream",
     "text": [
      "early stop at 42 epochs\n",
      "KL 0.647\n",
      "CPC 0.646\n",
      "MAE 0.884\n",
      "pearson 0.833\n",
      "jenson 0.359\n",
      "loading target LEHD: Boston\n",
      "-----------feature extractor working-----------------\n",
      "feature extractor early stop at 23 epochs\n",
      "featuredims [46, 16]\n"
     ]
    },
    {
     "name": "stderr",
     "output_type": "stream",
     "text": [
      "Setting up a new session...\n"
     ]
    },
    {
     "name": "stdout",
     "output_type": "stream",
     "text": [
      "early stop at 50 epochs\n",
      "KL 1.175\n",
      "CPC 0.693\n",
      "MAE 1.733\n",
      "pearson 0.818\n",
      "jenson 0.318\n",
      "loading target LEHD: Phoenix\n",
      "-----------feature extractor working-----------------\n",
      "feature extractor early stop at 20 epochs\n",
      "featuredims [46, 16]\n"
     ]
    },
    {
     "name": "stderr",
     "output_type": "stream",
     "text": [
      "Setting up a new session...\n"
     ]
    },
    {
     "name": "stdout",
     "output_type": "stream",
     "text": [
      "early stop at 36 epochs\n",
      "KL 0.756\n",
      "CPC 0.682\n",
      "MAE 1.078\n",
      "pearson 0.826\n",
      "jenson 0.328\n",
      "loading target LEHD: Philadelphia\n",
      "-----------feature extractor working-----------------\n",
      "feature extractor early stop at 25 epochs\n",
      "featuredims [46, 16]\n"
     ]
    },
    {
     "name": "stderr",
     "output_type": "stream",
     "text": [
      "Setting up a new session...\n"
     ]
    },
    {
     "name": "stdout",
     "output_type": "stream",
     "text": [
      "early stop at 49 epochs\n",
      "KL 1.106\n",
      "CPC 0.674\n",
      "MAE 1.667\n",
      "pearson 0.809\n",
      "jenson 0.332\n",
      "loading target LEHD: San Antonio\n",
      "-----------feature extractor working-----------------\n",
      "feature extractor early stop at 21 epochs\n",
      "featuredims [46, 16]\n"
     ]
    },
    {
     "name": "stderr",
     "output_type": "stream",
     "text": [
      "Setting up a new session...\n"
     ]
    },
    {
     "name": "stdout",
     "output_type": "stream",
     "text": [
      "early stop at 49 epochs\n",
      "KL 1.146\n",
      "CPC 0.75\n",
      "MAE 2.252\n",
      "pearson 0.87\n",
      "jenson 0.252\n",
      "loading target LEHD: San Diego\n",
      "-----------feature extractor working-----------------\n",
      "feature extractor early stop at 21 epochs\n",
      "featuredims [46, 16]\n"
     ]
    },
    {
     "name": "stderr",
     "output_type": "stream",
     "text": [
      "Setting up a new session...\n"
     ]
    },
    {
     "name": "stdout",
     "output_type": "stream",
     "text": [
      "early stop at 49 epochs\n",
      "KL 0.948\n",
      "CPC 0.728\n",
      "MAE 1.387\n",
      "pearson 0.925\n",
      "jenson 0.298\n",
      "loading target LEHD: Dallas\n",
      "-----------feature extractor working-----------------\n",
      "feature extractor early stop at 33 epochs\n",
      "featuredims [46, 16]\n"
     ]
    },
    {
     "name": "stderr",
     "output_type": "stream",
     "text": [
      "Setting up a new session...\n"
     ]
    },
    {
     "name": "stdout",
     "output_type": "stream",
     "text": [
      "early stop at 48 epochs\n",
      "KL 0.786\n",
      "CPC 0.671\n",
      "MAE 1.198\n",
      "pearson 0.862\n",
      "jenson 0.333\n",
      "loading target LEHD: San Jose\n",
      "-----------feature extractor working-----------------\n",
      "feature extractor early stop at 15 epochs\n",
      "featuredims [46, 16]\n"
     ]
    },
    {
     "name": "stderr",
     "output_type": "stream",
     "text": [
      "Setting up a new session...\n"
     ]
    },
    {
     "name": "stdout",
     "output_type": "stream",
     "text": [
      "early stop at 50 epochs\n",
      "KL 1.721\n",
      "CPC 0.737\n",
      "MAE 3.01\n",
      "pearson 0.892\n",
      "jenson 0.27\n",
      "loading target LEHD: Austin\n",
      "-----------feature extractor working-----------------\n",
      "feature extractor early stop at 25 epochs\n",
      "featuredims [46, 16]\n"
     ]
    },
    {
     "name": "stderr",
     "output_type": "stream",
     "text": [
      "Setting up a new session...\n"
     ]
    },
    {
     "name": "stdout",
     "output_type": "stream",
     "text": [
      "early stop at 49 epochs\n",
      "KL 1.295\n",
      "CPC 0.771\n",
      "MAE 2.551\n",
      "pearson 0.9\n",
      "jenson 0.239\n",
      "loading datasets\n",
      "loading target LEHD: New York City\n",
      "-----------feature extractor working-----------------\n",
      "feature extractor early stop at 21 epochs\n",
      "featuredims [46, 16]\n"
     ]
    },
    {
     "name": "stderr",
     "output_type": "stream",
     "text": [
      "Setting up a new session...\n"
     ]
    },
    {
     "name": "stdout",
     "output_type": "stream",
     "text": [
      "early stop at 44 epochs\n",
      "KL 0.493\n",
      "CPC 0.583\n",
      "MAE 0.549\n",
      "pearson 0.75\n",
      "jenson 0.42\n",
      "loading target LEHD: Los Angeles\n",
      "-----------feature extractor working-----------------\n",
      "feature extractor early stop at 25 epochs\n",
      "featuredims [46, 16]\n"
     ]
    },
    {
     "name": "stderr",
     "output_type": "stream",
     "text": [
      "Setting up a new session...\n"
     ]
    },
    {
     "name": "stdout",
     "output_type": "stream",
     "text": [
      "early stop at 46 epochs\n",
      "KL 0.515\n",
      "CPC 0.501\n",
      "MAE 0.512\n",
      "pearson 0.632\n",
      "jenson 0.481\n",
      "loading target LEHD: Chicago\n",
      "-----------feature extractor working-----------------\n",
      "feature extractor early stop at 21 epochs\n",
      "featuredims [46, 16]\n"
     ]
    },
    {
     "name": "stderr",
     "output_type": "stream",
     "text": [
      "Setting up a new session...\n"
     ]
    },
    {
     "name": "stdout",
     "output_type": "stream",
     "text": [
      "early stop at 47 epochs\n",
      "KL 0.714\n",
      "CPC 0.589\n",
      "MAE 0.867\n",
      "pearson 0.752\n",
      "jenson 0.407\n",
      "loading target LEHD: Houston\n",
      "-----------feature extractor working-----------------\n",
      "feature extractor early stop at 19 epochs\n",
      "featuredims [46, 16]\n"
     ]
    },
    {
     "name": "stderr",
     "output_type": "stream",
     "text": [
      "Setting up a new session...\n"
     ]
    },
    {
     "name": "stdout",
     "output_type": "stream",
     "text": [
      "early stop at 41 epochs\n",
      "KL 0.647\n",
      "CPC 0.646\n",
      "MAE 0.884\n",
      "pearson 0.831\n",
      "jenson 0.359\n",
      "loading target LEHD: Boston\n",
      "-----------feature extractor working-----------------\n",
      "feature extractor early stop at 21 epochs\n",
      "featuredims [46, 16]\n"
     ]
    },
    {
     "name": "stderr",
     "output_type": "stream",
     "text": [
      "Setting up a new session...\n"
     ]
    },
    {
     "name": "stdout",
     "output_type": "stream",
     "text": [
      "early stop at 51 epochs\n",
      "KL 1.166\n",
      "CPC 0.694\n",
      "MAE 1.726\n",
      "pearson 0.821\n",
      "jenson 0.317\n",
      "loading target LEHD: Phoenix\n",
      "-----------feature extractor working-----------------\n",
      "feature extractor early stop at 21 epochs\n",
      "featuredims [46, 16]\n"
     ]
    },
    {
     "name": "stderr",
     "output_type": "stream",
     "text": [
      "Setting up a new session...\n"
     ]
    },
    {
     "name": "stdout",
     "output_type": "stream",
     "text": [
      "early stop at 36 epochs\n",
      "KL 0.758\n",
      "CPC 0.681\n",
      "MAE 1.079\n",
      "pearson 0.826\n",
      "jenson 0.328\n",
      "loading target LEHD: Philadelphia\n",
      "-----------feature extractor working-----------------\n",
      "feature extractor early stop at 21 epochs\n",
      "featuredims [46, 16]\n"
     ]
    },
    {
     "name": "stderr",
     "output_type": "stream",
     "text": [
      "Setting up a new session...\n"
     ]
    },
    {
     "name": "stdout",
     "output_type": "stream",
     "text": [
      "early stop at 49 epochs\n",
      "KL 1.099\n",
      "CPC 0.674\n",
      "MAE 1.664\n",
      "pearson 0.81\n",
      "jenson 0.331\n",
      "loading target LEHD: San Antonio\n",
      "-----------feature extractor working-----------------\n",
      "feature extractor early stop at 18 epochs\n",
      "featuredims [46, 16]\n"
     ]
    },
    {
     "name": "stderr",
     "output_type": "stream",
     "text": [
      "Setting up a new session...\n"
     ]
    },
    {
     "name": "stdout",
     "output_type": "stream",
     "text": [
      "early stop at 50 epochs\n",
      "KL 1.147\n",
      "CPC 0.75\n",
      "MAE 2.25\n",
      "pearson 0.869\n",
      "jenson 0.252\n",
      "loading target LEHD: San Diego\n",
      "-----------feature extractor working-----------------\n",
      "feature extractor early stop at 26 epochs\n",
      "featuredims [46, 16]\n"
     ]
    },
    {
     "name": "stderr",
     "output_type": "stream",
     "text": [
      "Setting up a new session...\n"
     ]
    },
    {
     "name": "stdout",
     "output_type": "stream",
     "text": [
      "early stop at 50 epochs\n",
      "KL 0.949\n",
      "CPC 0.728\n",
      "MAE 1.388\n",
      "pearson 0.925\n",
      "jenson 0.298\n",
      "loading target LEHD: Dallas\n",
      "-----------feature extractor working-----------------\n",
      "feature extractor early stop at 19 epochs\n",
      "featuredims [46, 16]\n"
     ]
    },
    {
     "name": "stderr",
     "output_type": "stream",
     "text": [
      "Setting up a new session...\n"
     ]
    },
    {
     "name": "stdout",
     "output_type": "stream",
     "text": [
      "early stop at 48 epochs\n",
      "KL 0.785\n",
      "CPC 0.671\n",
      "MAE 1.198\n",
      "pearson 0.863\n",
      "jenson 0.333\n",
      "loading target LEHD: San Jose\n",
      "-----------feature extractor working-----------------\n",
      "feature extractor early stop at 26 epochs\n",
      "featuredims [46, 16]\n"
     ]
    },
    {
     "name": "stderr",
     "output_type": "stream",
     "text": [
      "Setting up a new session...\n"
     ]
    },
    {
     "name": "stdout",
     "output_type": "stream",
     "text": [
      "early stop at 50 epochs\n",
      "KL 1.727\n",
      "CPC 0.736\n",
      "MAE 3.017\n",
      "pearson 0.892\n",
      "jenson 0.271\n",
      "loading target LEHD: Austin\n",
      "-----------feature extractor working-----------------\n",
      "feature extractor early stop at 19 epochs\n",
      "featuredims [46, 16]\n"
     ]
    },
    {
     "name": "stderr",
     "output_type": "stream",
     "text": [
      "Setting up a new session...\n"
     ]
    },
    {
     "name": "stdout",
     "output_type": "stream",
     "text": [
      "early stop at 49 epochs\n",
      "KL 1.286\n",
      "CPC 0.771\n",
      "MAE 2.546\n",
      "pearson 0.902\n",
      "jenson 0.239\n",
      "loading datasets\n",
      "loading target LEHD: New York City\n",
      "-----------feature extractor working-----------------\n",
      "feature extractor early stop at 23 epochs\n",
      "featuredims [46, 16]\n"
     ]
    },
    {
     "name": "stderr",
     "output_type": "stream",
     "text": [
      "Setting up a new session...\n"
     ]
    },
    {
     "name": "stdout",
     "output_type": "stream",
     "text": [
      "early stop at 49 epochs\n",
      "KL 0.484\n",
      "CPC 0.586\n",
      "MAE 0.545\n",
      "pearson 0.755\n",
      "jenson 0.417\n",
      "loading target LEHD: Los Angeles\n",
      "-----------feature extractor working-----------------\n",
      "feature extractor early stop at 24 epochs\n",
      "featuredims [46, 16]\n"
     ]
    },
    {
     "name": "stderr",
     "output_type": "stream",
     "text": [
      "Setting up a new session...\n"
     ]
    },
    {
     "name": "stdout",
     "output_type": "stream",
     "text": [
      "early stop at 52 epochs\n",
      "KL 0.51\n",
      "CPC 0.508\n",
      "MAE 0.505\n",
      "pearson 0.645\n",
      "jenson 0.476\n",
      "loading target LEHD: Chicago\n",
      "-----------feature extractor working-----------------\n",
      "feature extractor early stop at 23 epochs\n",
      "featuredims [46, 16]\n"
     ]
    },
    {
     "name": "stderr",
     "output_type": "stream",
     "text": [
      "Setting up a new session...\n"
     ]
    },
    {
     "name": "stdout",
     "output_type": "stream",
     "text": [
      "early stop at 54 epochs\n",
      "KL 0.71\n",
      "CPC 0.592\n",
      "MAE 0.862\n",
      "pearson 0.758\n",
      "jenson 0.403\n",
      "loading target LEHD: Houston\n",
      "-----------feature extractor working-----------------\n",
      "feature extractor early stop at 23 epochs\n",
      "featuredims [46, 16]\n"
     ]
    },
    {
     "name": "stderr",
     "output_type": "stream",
     "text": [
      "Setting up a new session...\n"
     ]
    },
    {
     "name": "stdout",
     "output_type": "stream",
     "text": [
      "early stop at 39 epochs\n",
      "KL 0.647\n",
      "CPC 0.646\n",
      "MAE 0.883\n",
      "pearson 0.834\n",
      "jenson 0.359\n",
      "loading target LEHD: Boston\n",
      "-----------feature extractor working-----------------\n",
      "feature extractor early stop at 22 epochs\n",
      "featuredims [46, 16]\n"
     ]
    },
    {
     "name": "stderr",
     "output_type": "stream",
     "text": [
      "Setting up a new session...\n"
     ]
    },
    {
     "name": "stdout",
     "output_type": "stream",
     "text": [
      "early stop at 59 epochs\n",
      "KL 1.139\n",
      "CPC 0.697\n",
      "MAE 1.707\n",
      "pearson 0.83\n",
      "jenson 0.312\n",
      "loading target LEHD: Phoenix\n",
      "-----------feature extractor working-----------------\n",
      "feature extractor early stop at 20 epochs\n",
      "featuredims [46, 16]\n"
     ]
    },
    {
     "name": "stderr",
     "output_type": "stream",
     "text": [
      "Setting up a new session...\n"
     ]
    },
    {
     "name": "stdout",
     "output_type": "stream",
     "text": [
      "early stop at 34 epochs\n",
      "KL 0.753\n",
      "CPC 0.682\n",
      "MAE 1.077\n",
      "pearson 0.825\n",
      "jenson 0.328\n",
      "loading target LEHD: Philadelphia\n",
      "-----------feature extractor working-----------------\n",
      "feature extractor early stop at 22 epochs\n",
      "featuredims [46, 16]\n"
     ]
    },
    {
     "name": "stderr",
     "output_type": "stream",
     "text": [
      "Setting up a new session...\n"
     ]
    },
    {
     "name": "stdout",
     "output_type": "stream",
     "text": [
      "early stop at 57 epochs\n",
      "KL 1.086\n",
      "CPC 0.675\n",
      "MAE 1.659\n",
      "pearson 0.813\n",
      "jenson 0.33\n",
      "loading target LEHD: San Antonio\n",
      "-----------feature extractor working-----------------\n",
      "feature extractor early stop at 21 epochs\n",
      "featuredims [46, 16]\n"
     ]
    },
    {
     "name": "stderr",
     "output_type": "stream",
     "text": [
      "Setting up a new session...\n"
     ]
    },
    {
     "name": "stdout",
     "output_type": "stream",
     "text": [
      "early stop at 52 epochs\n",
      "KL 1.155\n",
      "CPC 0.747\n",
      "MAE 2.271\n",
      "pearson 0.875\n",
      "jenson 0.251\n",
      "loading target LEHD: San Diego\n",
      "-----------feature extractor working-----------------\n",
      "feature extractor early stop at 22 epochs\n",
      "featuredims [46, 16]\n"
     ]
    },
    {
     "name": "stderr",
     "output_type": "stream",
     "text": [
      "Setting up a new session...\n"
     ]
    },
    {
     "name": "stdout",
     "output_type": "stream",
     "text": [
      "early stop at 56 epochs\n",
      "KL 0.974\n",
      "CPC 0.723\n",
      "MAE 1.414\n",
      "pearson 0.927\n",
      "jenson 0.298\n",
      "loading target LEHD: Dallas\n",
      "-----------feature extractor working-----------------\n",
      "feature extractor early stop at 21 epochs\n",
      "featuredims [46, 16]\n"
     ]
    },
    {
     "name": "stderr",
     "output_type": "stream",
     "text": [
      "Setting up a new session...\n"
     ]
    },
    {
     "name": "stdout",
     "output_type": "stream",
     "text": [
      "early stop at 52 epochs\n",
      "KL 0.786\n",
      "CPC 0.671\n",
      "MAE 1.196\n",
      "pearson 0.867\n",
      "jenson 0.332\n",
      "loading target LEHD: San Jose\n",
      "-----------feature extractor working-----------------\n",
      "feature extractor early stop at 16 epochs\n",
      "featuredims [46, 16]\n"
     ]
    },
    {
     "name": "stderr",
     "output_type": "stream",
     "text": [
      "Setting up a new session...\n"
     ]
    },
    {
     "name": "stdout",
     "output_type": "stream",
     "text": [
      "early stop at 58 epochs\n",
      "KL 1.814\n",
      "CPC 0.728\n",
      "MAE 3.104\n",
      "pearson 0.89\n",
      "jenson 0.275\n",
      "loading target LEHD: Austin\n",
      "-----------feature extractor working-----------------\n",
      "feature extractor early stop at 28 epochs\n",
      "featuredims [46, 16]\n",
      "early stop at 56 epochs\n",
      "KL 1.264\n",
      "CPC 0.772\n",
      "MAE 2.538\n",
      "pearson 0.907\n",
      "jenson 0.236\n"
     ]
    }
   ],
   "source": [
    "\n",
    "splitByNodes = True\n",
    "externalities = True\n",
    "# if modelmode='g', conventional singly constrained gravity model, other parameters will be ignored\n",
    "modelmode = 'p'\n",
    "# gravi con, modelmode = 'p', attention = True, directEmebdding = False\n",
    "# GCN + MLP, modelmode = 'p', attention = False, VNNattraction = Truepath = 'LEHD/'\n",
    "seed = 0\n",
    "cities = [\n",
    "    ('New York City', 'ny', ['New York County, NY', 'Queens County, NY','Kings County, NY','Bronx County, NY','Richmond County, NY']),\n",
    "    ('Los Angeles', 'ca', ['Los Angeles County, CA']),\n",
    "    ('Chicago', 'il', ['Cook County, IL']),\n",
    "    ('Houston', 'tx', ['Harris County, TX']),\n",
    "    ('Boston', 'ma', ['Suffolk County, MA', 'Middlesex County, MA']),\n",
    "    ('Phoenix', 'az', ['Maricopa County, AZ']),\n",
    "    ('Philadelphia', 'pa', ['Philadelphia County, PA']),\n",
    "    ('San Antonio', 'tx', ['Bexar County, TX']),\n",
    "    ('San Diego', 'ca', ['San Diego County, CA']),\n",
    "    ('Dallas', 'tx', ['Dallas County, TX']),\n",
    "    ('San Jose', 'ca', ['Santa Clara County, CA']),\n",
    "    ('Austin', 'tx', ['Travis County, TX']),\n",
    "]\n",
    "t_cities = [\n",
    "    ('New York City', 'ny', ['New York County, NY', 'Queens County, NY','Kings County, NY','Bronx County, NY','Richmond County, NY']),\n",
    "    ('Los Angeles', 'ca', ['Los Angeles County, CA']),\n",
    "    ('Chicago', 'il', ['Cook County, IL']),\n",
    "    ('Houston', 'tx', ['Harris County, TX']),\n",
    "    ('Boston', 'ma', ['Suffolk County, MA', 'Middlesex County, MA']),\n",
    "    ('Phoenix', 'az', ['Maricopa County, AZ']),\n",
    "    ('Philadelphia', 'pa', ['Philadelphia County, PA']),\n",
    "    ('San Antonio', 'tx', ['Bexar County, TX']),\n",
    "    ('San Diego', 'ca', ['San Diego County, CA']),\n",
    "    ('Dallas', 'tx', ['Dallas County, TX']),\n",
    "    ('San Jose', 'ca', ['Santa Clara County, CA']),\n",
    "    ('Austin', 'tx', ['Travis County, TX']),\n",
    "]\n",
    "\n",
    "\n",
    "fts_extractor_dim = 46\n",
    "edge_extractor_dim = 3\n",
    "GNNConfig2 ={'gat_num_heads':2,'transformer_num_heads':2,'attention_out_dim':8,\n",
    "                             'out_features': 16, 'layer_dims':[16]*2, 'initSeed': seed, \n",
    "                                     'actfuncFinal': torch.nn.Sigmoid(),'edge_dim':edge_extractor_dim}\n",
    "\n",
    "# early_stopper_train = EarlyStopper(patience=10, min_delta=1e-4)\n",
    "VNNConfig = {'layer_dims':[8], 'dropout': 0.33, \n",
    "                            'initSeed': seed, 'actfuncFinal': nn.ReLU()} #nnSquare()\n",
    "splitByNodes = True\n",
    "externalities = True\n",
    "# if modelmode='g', conventional singly constrained gravity model, other parameters will be ignored\n",
    "modelmode = 'p'\n",
    "# gravi con, modelmode = 'p', attention = True, directEmebdding = False\n",
    "# GCN + MLP, modelmode = 'p', attention = False, VNNattraction = True\n",
    "attention = True\n",
    "VNNattraction = False\n",
    "directEmebdding = False #learn node embedding directly (MLP) or through GNNs\n",
    "filename = 'GravAttnLEHD-spatial-transfer-radiation-euclidean-GAT-resnet-GAN.csv'\n",
    "\n",
    "with open(filename, 'w') as f:\n",
    "\n",
    "    # Pass this file object to csv.writer()\n",
    "    # and get a writer object\n",
    "    writer_object = writer(f)\n",
    "\n",
    "    # Pass the list as an argument into\n",
    "    # the writerow()\n",
    "    writer_object.writerow(['source-target']+[city for city,state, counties in cities])\n",
    "\n",
    "    # Close the file object\n",
    "    f.close()\n",
    "        \n",
    "for city,state, counties in cities:\n",
    "    splitSeed = 0\n",
    "    seed = 0\n",
    "\n",
    "    mainepochs = 500\n",
    "\n",
    "    lr = [1e-3]\n",
    "        \n",
    "\n",
    "    #some basic stats\n",
    "    print('loading datasets')\n",
    "    A_train = torch.load('training/'+city+'_A_train.pt').to(torch.device(\"cuda\"))\n",
    "    OD_train = torch.load('training/'+city+'_OD_train.pt')\n",
    "    between_fts_train = torch.load('training/'+city+'_between_fts_train.pt')\n",
    "    nodefts_train = torch.load('training/'+city+'_nodefts_train.pt')\n",
    "    \n",
    "\n",
    "    \n",
    "    RAE_list = []\n",
    "    CPC_list = []\n",
    "    MAE_list = []\n",
    "    pearson_list = []\n",
    "    jenson_list = []\n",
    "    \n",
    "    for target_city,target_state, target_counties in t_cities:\n",
    "\n",
    "        print('loading target LEHD:',target_city)\n",
    "        A_valid = torch.load('training/'+target_city+'_A_valid.pt').to(torch.device(\"cuda\"))\n",
    "        OD_valid = torch.load('training/'+target_city+'_OD_valid.pt')\n",
    "        between_fts_valid = torch.load('training/'+target_city+'_between_fts_valid.pt')\n",
    "        nodefts_valid = torch.load('training/'+target_city+'_nodefts_valid.pt')\n",
    "        \n",
    "    \n",
    "        target_A_test = torch.load('training/'+target_city+'_A_test.pt').to(torch.device(\"cuda\"))\n",
    "        target_OD_test = torch.load('training/'+target_city+'_OD_test.pt')\n",
    "        target_between_fts_test = torch.load('training/'+target_city+'_between_fts_test.pt')        \n",
    "        target_nodefts_test = torch.load('training/'+target_city+'_nodefts_test.pt')\n",
    "        # standardization\n",
    "        \n",
    "        scaler = StandardScaler().fit(nodefts_train)\n",
    "        nodefts_train_t = torch.FloatTensor(scaler.transform(nodefts_train)).to(torch.device(\"cuda\"))\n",
    "        nodefts_valid_t = torch.FloatTensor(scaler.transform(nodefts_valid)).to(torch.device(\"cuda\"))\n",
    "        target_nodefts_test_t = torch.FloatTensor(scaler.transform(target_nodefts_test)).to(torch.device(\"cuda\"))\n",
    "\n",
    "        bet_scaler = StandardScaler().fit(between_fts_train)\n",
    "        between_fts_train_t = torch.FloatTensor(bet_scaler.transform(between_fts_train)).to(torch.device(\"cuda\"))\n",
    "        between_fts_valid_t = torch.FloatTensor(bet_scaler.transform(between_fts_valid)).to(torch.device(\"cuda\"))\n",
    "        target_between_fts_test_t = torch.FloatTensor(bet_scaler.transform(target_between_fts_test)).to(torch.device(\"cuda\"))\n",
    "\n",
    "#         feature extractor\n",
    "        print('-----------feature extractor working-----------------')\n",
    "\n",
    "        fts_trainer = AdversarialTrainer(input_dim=nodefts_train.shape[1], \n",
    "                          feature_dim=fts_extractor_dim, learning_rate=1e-3)\n",
    "        fts_trainer.cuda()\n",
    "        source_data = nodefts_train_t\n",
    "        target_data = torch.concat([target_nodefts_test_t,nodefts_valid_t])\n",
    "        source_labels = torch.ones(source_data.shape[0], 1).to(torch.device(\"cuda\"))\n",
    "        target_labels = torch.zeros(target_data.shape[0], 1).to(torch.device(\"cuda\"))\n",
    "        fts_trainer.train(source_data, target_data, source_labels, target_labels, num_epochs=1000)\n",
    "        fts_trainer.feature_extractor.eval()\n",
    "        nodefts_train_t = fts_trainer.feature_extractor(nodefts_train_t).detach()\n",
    "        nodefts_valid_t = fts_trainer.feature_extractor(nodefts_valid_t).detach()\n",
    "        target_nodefts_test_t = fts_trainer.feature_extractor(target_nodefts_test_t).detach()\n",
    "\n",
    "\n",
    "\n",
    "#         edge_fts_trainer = AdversarialTrainer(input_dim=between_fts_train.shape[1], \n",
    "#                                  feature_dim=edge_extractor_dim, learning_rate=1e-3)\n",
    "#         edge_fts_trainer.cuda()\n",
    "#         source_data = between_fts_train_t\n",
    "#         target_data = torch.concat([target_between_fts_test_t,between_fts_valid_t])\n",
    "#         source_labels = torch.ones(source_data.shape[0], 1).to(torch.device(\"cuda\"))\n",
    "#         target_labels = torch.zeros(target_data.shape[0], 1).to(torch.device(\"cuda\"))\n",
    "#         edge_fts_trainer.train(source_data, target_data, source_labels, target_labels,num_epochs=1000)\n",
    "#         edge_fts_trainer.feature_extractor.eval()\n",
    "#         between_fts_train_t = edge_fts_trainer.feature_extractor(between_fts_train_t).detach()\n",
    "#         between_fts_valid_t = edge_fts_trainer.feature_extractor(between_fts_valid_t).detach()\n",
    "#         target_between_fts_test_t = edge_fts_trainer.feature_extractor(target_between_fts_test_t).detach()\n",
    "        \n",
    "        NRL = GMLearning(city,nodefts_train_t,GNNConfig2, \n",
    "                         VNNConfig,modelmode,directembedding = directEmebdding,\n",
    "                         attention=attention,VNNattraction=VNNattraction) \n",
    "        NRL = NRL.cuda()\n",
    "\n",
    "        NRL.fit(city,\n",
    "                A_train,nodefts_train_t,OD_train,between_fts_train_t,\n",
    "                A_valid,nodefts_valid_t,OD_valid,between_fts_valid_t,\n",
    "                target_A_test,target_nodefts_test_t,target_OD_test,target_between_fts_test_t,\n",
    "                n_epochs = mainepochs,lr = lr, \n",
    "        interim_output_freq = mainepochs//10)\n",
    "\n",
    "        with torch.no_grad(): \n",
    "\n",
    "            target_y_test = NRL.forward(target_A_test,target_nodefts_test_t,\n",
    "                                        target_OD_test,target_between_fts_test_t)\n",
    "            target_y_test = torch.nan_to_num(target_y_test)\n",
    "        # test nodes performance, edges between train and test nodes\n",
    "\n",
    "\n",
    "        rae = round(NRL.loss(target_y_test.cpu(),torch.FloatTensor(target_OD_test)).item(),3)\n",
    "        print('KL', rae)\n",
    "        46\n",
    "        cpc = common_part_of_commuters(torch.FloatTensor(target_OD_test),target_y_test.cpu())\n",
    "        if type(cpc) == float:\n",
    "            pass\n",
    "        else:\n",
    "            cpc = cpc.item()\n",
    "        cpc = round(cpc,3)\n",
    "        print('CPC', cpc)\n",
    "        mae = round(MAE(torch.FloatTensor(target_OD_test),target_y_test.cpu()).item(),3)\n",
    "        print('MAE',mae)\n",
    "        pearson = round(scipy.stats.pearsonr(target_OD_test.flatten(),\n",
    "                                             target_y_test.cpu().detach().numpy().flatten())[0],3)\n",
    "        print('pearson', pearson)\n",
    "        jenson = round(scipy.spatial.distance.jensenshannon(target_OD_test.flatten(),\n",
    "                                                            target_y_test.cpu().detach().numpy().flatten()),3)\n",
    "        print('jenson',jenson)\n",
    "\n",
    "        RAE_list += [rae]\n",
    "        CPC_list += [cpc]\n",
    "        MAE_list += [mae]\n",
    "        pearson_list += [pearson]\n",
    "        jenson_list += [jenson]\n",
    "\n",
    "        torch.cuda.empty_cache()\n",
    "\n",
    "    with open(filename, 'a') as f:\n",
    "\n",
    "\n",
    "        writer_object = writer(f)\n",
    "\n",
    "\n",
    "        writer_object.writerow([city+' KL']+RAE_list)\n",
    "        \n",
    "        writer_object.writerow([city+' CPC']+CPC_list)\n",
    "        writer_object.writerow([city+' MAE']+MAE_list)\n",
    "        writer_object.writerow([city+ 'Pea']+pearson_list)\n",
    "        writer_object.writerow([city+ 'Jen']+jenson_list)\n",
    "\n",
    "        f.close()\n",
    "\n"
   ]
  },
  {
   "cell_type": "code",
   "execution_count": 9,
   "id": "9a0e4bc3",
   "metadata": {},
   "outputs": [
    {
     "name": "stdout",
     "output_type": "stream",
     "text": [
      "loading datasets\n",
      "loading target LEHD: New York City\n"
     ]
    },
    {
     "name": "stderr",
     "output_type": "stream",
     "text": [
      "Setting up a new session...\n"
     ]
    },
    {
     "name": "stdout",
     "output_type": "stream",
     "text": [
      "featuredims [46, 16]\n"
     ]
    },
    {
     "name": "stderr",
     "output_type": "stream",
     "text": [
      "Setting up a new session...\n"
     ]
    },
    {
     "name": "stdout",
     "output_type": "stream",
     "text": [
      "early stop at 60 epochs\n",
      "KL 0.471\n",
      "CPC 0.592\n",
      "MAE 0.538\n",
      "pearson 0.762\n",
      "jenson 0.413\n",
      "loading target LEHD: Los Angeles\n",
      "featuredims [46, 16]\n"
     ]
    },
    {
     "name": "stderr",
     "output_type": "stream",
     "text": [
      "Setting up a new session...\n"
     ]
    },
    {
     "name": "stdout",
     "output_type": "stream",
     "text": [
      "early stop at 60 epochs\n",
      "KL 0.511\n",
      "CPC 0.517\n",
      "MAE 0.496\n",
      "pearson 0.659\n",
      "jenson 0.469\n",
      "loading target LEHD: Chicago\n",
      "featuredims [46, 16]\n"
     ]
    },
    {
     "name": "stderr",
     "output_type": "stream",
     "text": [
      "Setting up a new session...\n"
     ]
    },
    {
     "name": "stdout",
     "output_type": "stream",
     "text": [
      "early stop at 60 epochs\n",
      "KL 0.721\n",
      "CPC 0.592\n",
      "MAE 0.861\n",
      "pearson 0.764\n",
      "jenson 0.401\n",
      "loading target LEHD: Houston\n",
      "featuredims [46, 16]\n"
     ]
    },
    {
     "name": "stderr",
     "output_type": "stream",
     "text": [
      "Setting up a new session...\n"
     ]
    },
    {
     "name": "stdout",
     "output_type": "stream",
     "text": [
      "early stop at 60 epochs\n",
      "KL 0.704\n",
      "CPC 0.64\n",
      "MAE 0.899\n",
      "pearson 0.843\n",
      "jenson 0.359\n",
      "loading target LEHD: Boston\n",
      "featuredims [46, 16]\n"
     ]
    },
    {
     "name": "stderr",
     "output_type": "stream",
     "text": [
      "Setting up a new session...\n"
     ]
    },
    {
     "name": "stdout",
     "output_type": "stream",
     "text": [
      "early stop at 60 epochs\n",
      "KL 1.133\n",
      "CPC 0.698\n",
      "MAE 1.7\n",
      "pearson 0.838\n",
      "jenson 0.308\n",
      "loading target LEHD: Phoenix\n",
      "featuredims [46, 16]\n"
     ]
    },
    {
     "name": "stderr",
     "output_type": "stream",
     "text": [
      "Setting up a new session...\n"
     ]
    },
    {
     "name": "stdout",
     "output_type": "stream",
     "text": [
      "early stop at 60 epochs\n",
      "KL 0.917\n",
      "CPC 0.655\n",
      "MAE 1.167\n",
      "pearson 0.818\n",
      "jenson 0.341\n",
      "loading target LEHD: Philadelphia\n",
      "featuredims [46, 16]\n"
     ]
    },
    {
     "name": "stderr",
     "output_type": "stream",
     "text": [
      "Setting up a new session...\n"
     ]
    },
    {
     "name": "stdout",
     "output_type": "stream",
     "text": [
      "early stop at 60 epochs\n",
      "KL 1.073\n",
      "CPC 0.676\n",
      "MAE 1.656\n",
      "pearson 0.816\n",
      "jenson 0.328\n",
      "loading target LEHD: San Antonio\n",
      "featuredims [46, 16]\n"
     ]
    },
    {
     "name": "stderr",
     "output_type": "stream",
     "text": [
      "Setting up a new session...\n"
     ]
    },
    {
     "name": "stdout",
     "output_type": "stream",
     "text": [
      "early stop at 60 epochs\n",
      "KL 1.206\n",
      "CPC 0.742\n",
      "MAE 2.321\n",
      "pearson 0.877\n",
      "jenson 0.254\n",
      "loading target LEHD: San Diego\n",
      "featuredims [46, 16]\n"
     ]
    },
    {
     "name": "stderr",
     "output_type": "stream",
     "text": [
      "Setting up a new session...\n"
     ]
    },
    {
     "name": "stdout",
     "output_type": "stream",
     "text": [
      "early stop at 60 epochs\n",
      "KL 1.027\n",
      "CPC 0.715\n",
      "MAE 1.455\n",
      "pearson 0.923\n",
      "jenson 0.301\n",
      "loading target LEHD: Dallas\n",
      "featuredims [46, 16]\n"
     ]
    },
    {
     "name": "stderr",
     "output_type": "stream",
     "text": [
      "Setting up a new session...\n"
     ]
    },
    {
     "name": "stdout",
     "output_type": "stream",
     "text": [
      "early stop at 60 epochs\n",
      "KL 0.811\n",
      "CPC 0.668\n",
      "MAE 1.209\n",
      "pearson 0.869\n",
      "jenson 0.333\n",
      "loading target LEHD: San Jose\n",
      "featuredims [46, 16]\n"
     ]
    },
    {
     "name": "stderr",
     "output_type": "stream",
     "text": [
      "Setting up a new session...\n"
     ]
    },
    {
     "name": "stdout",
     "output_type": "stream",
     "text": [
      "early stop at 60 epochs\n",
      "KL 1.93\n",
      "CPC 0.72\n",
      "MAE 3.196\n",
      "pearson 0.887\n",
      "jenson 0.281\n",
      "loading target LEHD: Austin\n",
      "featuredims [46, 16]\n"
     ]
    },
    {
     "name": "stderr",
     "output_type": "stream",
     "text": [
      "Setting up a new session...\n"
     ]
    },
    {
     "name": "stdout",
     "output_type": "stream",
     "text": [
      "early stop at 60 epochs\n",
      "KL 1.267\n",
      "CPC 0.771\n",
      "MAE 2.551\n",
      "pearson 0.911\n",
      "jenson 0.236\n",
      "loading datasets\n",
      "loading target LEHD: New York City\n",
      "featuredims [46, 16]\n"
     ]
    },
    {
     "name": "stderr",
     "output_type": "stream",
     "text": [
      "Setting up a new session...\n"
     ]
    },
    {
     "name": "stdout",
     "output_type": "stream",
     "text": [
      "early stop at 53 epochs\n",
      "KL 0.489\n",
      "CPC 0.585\n",
      "MAE 0.547\n",
      "pearson 0.752\n",
      "jenson 0.418\n",
      "loading target LEHD: Los Angeles\n",
      "featuredims [46, 16]\n"
     ]
    },
    {
     "name": "stderr",
     "output_type": "stream",
     "text": [
      "Setting up a new session...\n"
     ]
    },
    {
     "name": "stdout",
     "output_type": "stream",
     "text": [
      "early stop at 54 epochs\n",
      "KL 0.513\n",
      "CPC 0.503\n",
      "MAE 0.51\n",
      "pearson 0.636\n",
      "jenson 0.48\n",
      "loading target LEHD: Chicago\n",
      "featuredims [46, 16]\n"
     ]
    },
    {
     "name": "stderr",
     "output_type": "stream",
     "text": [
      "Setting up a new session...\n"
     ]
    },
    {
     "name": "stdout",
     "output_type": "stream",
     "text": [
      "early stop at 54 epochs\n",
      "KL 0.711\n",
      "CPC 0.591\n",
      "MAE 0.864\n",
      "pearson 0.755\n",
      "jenson 0.405\n",
      "loading target LEHD: Houston\n",
      "featuredims [46, 16]\n"
     ]
    },
    {
     "name": "stderr",
     "output_type": "stream",
     "text": [
      "Setting up a new session...\n"
     ]
    },
    {
     "name": "stdout",
     "output_type": "stream",
     "text": [
      "early stop at 54 epochs\n",
      "KL 0.648\n",
      "CPC 0.646\n",
      "MAE 0.882\n",
      "pearson 0.835\n",
      "jenson 0.358\n",
      "loading target LEHD: Boston\n",
      "featuredims [46, 16]\n"
     ]
    },
    {
     "name": "stderr",
     "output_type": "stream",
     "text": [
      "Setting up a new session...\n"
     ]
    },
    {
     "name": "stdout",
     "output_type": "stream",
     "text": [
      "early stop at 53 epochs\n",
      "KL 1.157\n",
      "CPC 0.695\n",
      "MAE 1.72\n",
      "pearson 0.824\n",
      "jenson 0.315\n",
      "loading target LEHD: Phoenix\n",
      "featuredims [46, 16]\n"
     ]
    },
    {
     "name": "stderr",
     "output_type": "stream",
     "text": [
      "Setting up a new session...\n"
     ]
    },
    {
     "name": "stdout",
     "output_type": "stream",
     "text": [
      "early stop at 54 epochs\n",
      "KL 0.776\n",
      "CPC 0.679\n",
      "MAE 1.087\n",
      "pearson 0.827\n",
      "jenson 0.329\n",
      "loading target LEHD: Philadelphia\n",
      "featuredims [46, 16]\n"
     ]
    },
    {
     "name": "stderr",
     "output_type": "stream",
     "text": [
      "Setting up a new session...\n"
     ]
    },
    {
     "name": "stdout",
     "output_type": "stream",
     "text": [
      "early stop at 54 epochs\n",
      "KL 1.096\n",
      "CPC 0.674\n",
      "MAE 1.663\n",
      "pearson 0.811\n",
      "jenson 0.331\n",
      "loading target LEHD: San Antonio\n",
      "featuredims [46, 16]\n"
     ]
    },
    {
     "name": "stderr",
     "output_type": "stream",
     "text": [
      "Setting up a new session...\n"
     ]
    },
    {
     "name": "stdout",
     "output_type": "stream",
     "text": [
      "early stop at 54 epochs\n",
      "KL 1.146\n",
      "CPC 0.75\n",
      "MAE 2.252\n",
      "pearson 0.871\n",
      "jenson 0.251\n",
      "loading target LEHD: San Diego\n",
      "featuredims [46, 16]\n"
     ]
    },
    {
     "name": "stderr",
     "output_type": "stream",
     "text": [
      "Setting up a new session...\n"
     ]
    },
    {
     "name": "stdout",
     "output_type": "stream",
     "text": [
      "early stop at 54 epochs\n",
      "KL 0.951\n",
      "CPC 0.727\n",
      "MAE 1.391\n",
      "pearson 0.926\n",
      "jenson 0.297\n",
      "loading target LEHD: Dallas\n",
      "featuredims [46, 16]\n"
     ]
    },
    {
     "name": "stderr",
     "output_type": "stream",
     "text": [
      "Setting up a new session...\n"
     ]
    },
    {
     "name": "stdout",
     "output_type": "stream",
     "text": [
      "early stop at 54 epochs\n",
      "KL 0.783\n",
      "CPC 0.672\n",
      "MAE 1.195\n",
      "pearson 0.865\n",
      "jenson 0.332\n",
      "loading target LEHD: San Jose\n",
      "featuredims [46, 16]\n"
     ]
    },
    {
     "name": "stderr",
     "output_type": "stream",
     "text": [
      "Setting up a new session...\n"
     ]
    },
    {
     "name": "stdout",
     "output_type": "stream",
     "text": [
      "early stop at 54 epochs\n",
      "KL 1.731\n",
      "CPC 0.736\n",
      "MAE 3.023\n",
      "pearson 0.892\n",
      "jenson 0.271\n",
      "loading target LEHD: Austin\n",
      "featuredims [46, 16]\n"
     ]
    },
    {
     "name": "stderr",
     "output_type": "stream",
     "text": [
      "Setting up a new session...\n"
     ]
    },
    {
     "name": "stdout",
     "output_type": "stream",
     "text": [
      "early stop at 54 epochs\n",
      "KL 1.28\n",
      "CPC 0.771\n",
      "MAE 2.543\n",
      "pearson 0.903\n",
      "jenson 0.238\n",
      "loading datasets\n",
      "loading target LEHD: New York City\n",
      "featuredims [46, 16]\n"
     ]
    },
    {
     "name": "stderr",
     "output_type": "stream",
     "text": [
      "Setting up a new session...\n"
     ]
    },
    {
     "name": "stdout",
     "output_type": "stream",
     "text": [
      "early stop at 58 epochs\n",
      "KL 0.487\n",
      "CPC 0.585\n",
      "MAE 0.547\n",
      "pearson 0.753\n",
      "jenson 0.418\n",
      "loading target LEHD: Los Angeles\n",
      "featuredims [46, 16]\n"
     ]
    },
    {
     "name": "stderr",
     "output_type": "stream",
     "text": [
      "Setting up a new session...\n"
     ]
    },
    {
     "name": "stdout",
     "output_type": "stream",
     "text": [
      "early stop at 58 epochs\n",
      "KL 0.512\n",
      "CPC 0.505\n",
      "MAE 0.508\n",
      "pearson 0.639\n",
      "jenson 0.478\n",
      "loading target LEHD: Chicago\n",
      "featuredims [46, 16]\n"
     ]
    },
    {
     "name": "stderr",
     "output_type": "stream",
     "text": [
      "Setting up a new session...\n"
     ]
    },
    {
     "name": "stdout",
     "output_type": "stream",
     "text": [
      "early stop at 58 epochs\n",
      "KL 0.71\n",
      "CPC 0.591\n",
      "MAE 0.863\n",
      "pearson 0.757\n",
      "jenson 0.404\n",
      "loading target LEHD: Houston\n",
      "featuredims [46, 16]\n"
     ]
    },
    {
     "name": "stderr",
     "output_type": "stream",
     "text": [
      "Setting up a new session...\n"
     ]
    },
    {
     "name": "stdout",
     "output_type": "stream",
     "text": [
      "early stop at 58 epochs\n",
      "KL 0.654\n",
      "CPC 0.647\n",
      "MAE 0.882\n",
      "pearson 0.839\n",
      "jenson 0.357\n",
      "loading target LEHD: Boston\n",
      "featuredims [46, 16]\n"
     ]
    },
    {
     "name": "stderr",
     "output_type": "stream",
     "text": [
      "Setting up a new session...\n"
     ]
    },
    {
     "name": "stdout",
     "output_type": "stream",
     "text": [
      "early stop at 58 epochs\n",
      "KL 1.146\n",
      "CPC 0.696\n",
      "MAE 1.712\n",
      "pearson 0.827\n",
      "jenson 0.314\n",
      "loading target LEHD: Phoenix\n",
      "featuredims [46, 16]\n"
     ]
    },
    {
     "name": "stderr",
     "output_type": "stream",
     "text": [
      "Setting up a new session...\n"
     ]
    },
    {
     "name": "stdout",
     "output_type": "stream",
     "text": [
      "early stop at 58 epochs\n",
      "KL 0.79\n",
      "CPC 0.676\n",
      "MAE 1.096\n",
      "pearson 0.827\n",
      "jenson 0.33\n",
      "loading target LEHD: Philadelphia\n",
      "featuredims [46, 16]\n"
     ]
    },
    {
     "name": "stderr",
     "output_type": "stream",
     "text": [
      "Setting up a new session...\n"
     ]
    },
    {
     "name": "stdout",
     "output_type": "stream",
     "text": [
      "early stop at 58 epochs\n",
      "KL 1.09\n",
      "CPC 0.675\n",
      "MAE 1.661\n",
      "pearson 0.812\n",
      "jenson 0.33\n",
      "loading target LEHD: San Antonio\n",
      "featuredims [46, 16]\n"
     ]
    },
    {
     "name": "stderr",
     "output_type": "stream",
     "text": [
      "Setting up a new session...\n"
     ]
    },
    {
     "name": "stdout",
     "output_type": "stream",
     "text": [
      "early stop at 58 epochs\n",
      "KL 1.149\n",
      "CPC 0.748\n",
      "MAE 2.262\n",
      "pearson 0.874\n",
      "jenson 0.251\n",
      "loading target LEHD: San Diego\n",
      "featuredims [46, 16]\n"
     ]
    },
    {
     "name": "stderr",
     "output_type": "stream",
     "text": [
      "Setting up a new session...\n"
     ]
    },
    {
     "name": "stdout",
     "output_type": "stream",
     "text": [
      "early stop at 58 epochs\n",
      "KL 0.953\n",
      "CPC 0.727\n",
      "MAE 1.394\n",
      "pearson 0.926\n",
      "jenson 0.297\n",
      "loading target LEHD: Dallas\n",
      "featuredims [46, 16]\n"
     ]
    },
    {
     "name": "stderr",
     "output_type": "stream",
     "text": [
      "Setting up a new session...\n"
     ]
    },
    {
     "name": "stdout",
     "output_type": "stream",
     "text": [
      "early stop at 58 epochs\n",
      "KL 0.784\n",
      "CPC 0.672\n",
      "MAE 1.195\n",
      "pearson 0.866\n",
      "jenson 0.332\n",
      "loading target LEHD: San Jose\n",
      "featuredims [46, 16]\n"
     ]
    },
    {
     "name": "stderr",
     "output_type": "stream",
     "text": [
      "Setting up a new session...\n"
     ]
    },
    {
     "name": "stdout",
     "output_type": "stream",
     "text": [
      "early stop at 58 epochs\n",
      "KL 1.742\n",
      "CPC 0.735\n",
      "MAE 3.035\n",
      "pearson 0.892\n",
      "jenson 0.272\n",
      "loading target LEHD: Austin\n",
      "featuredims [46, 16]\n"
     ]
    },
    {
     "name": "stderr",
     "output_type": "stream",
     "text": [
      "Setting up a new session...\n"
     ]
    },
    {
     "name": "stdout",
     "output_type": "stream",
     "text": [
      "early stop at 58 epochs\n",
      "KL 1.275\n",
      "CPC 0.772\n",
      "MAE 2.541\n",
      "pearson 0.904\n",
      "jenson 0.238\n",
      "loading datasets\n",
      "loading target LEHD: New York City\n",
      "featuredims [46, 16]\n"
     ]
    },
    {
     "name": "stderr",
     "output_type": "stream",
     "text": [
      "Setting up a new session...\n"
     ]
    },
    {
     "name": "stdout",
     "output_type": "stream",
     "text": [
      "early stop at 42 epochs\n",
      "KL 0.507\n",
      "CPC 0.578\n",
      "MAE 0.556\n",
      "pearson 0.743\n",
      "jenson 0.424\n",
      "loading target LEHD: Los Angeles\n",
      "featuredims [46, 16]\n"
     ]
    },
    {
     "name": "stderr",
     "output_type": "stream",
     "text": [
      "Setting up a new session...\n"
     ]
    },
    {
     "name": "stdout",
     "output_type": "stream",
     "text": [
      "early stop at 42 epochs\n",
      "KL 0.54\n",
      "CPC 0.481\n",
      "MAE 0.533\n",
      "pearson 0.6\n",
      "jenson 0.495\n",
      "loading target LEHD: Chicago\n",
      "featuredims [46, 16]\n"
     ]
    },
    {
     "name": "stderr",
     "output_type": "stream",
     "text": [
      "Setting up a new session...\n"
     ]
    },
    {
     "name": "stdout",
     "output_type": "stream",
     "text": [
      "early stop at 42 epochs\n",
      "KL 0.724\n",
      "CPC 0.586\n",
      "MAE 0.874\n",
      "pearson 0.746\n",
      "jenson 0.41\n",
      "loading target LEHD: Houston\n",
      "featuredims [46, 16]\n"
     ]
    },
    {
     "name": "stderr",
     "output_type": "stream",
     "text": [
      "Setting up a new session...\n"
     ]
    },
    {
     "name": "stdout",
     "output_type": "stream",
     "text": [
      "early stop at 42 epochs\n",
      "KL 0.647\n",
      "CPC 0.645\n",
      "MAE 0.887\n",
      "pearson 0.827\n",
      "jenson 0.36\n",
      "loading target LEHD: Boston\n",
      "featuredims [46, 16]\n"
     ]
    },
    {
     "name": "stderr",
     "output_type": "stream",
     "text": [
      "Setting up a new session...\n"
     ]
    },
    {
     "name": "stdout",
     "output_type": "stream",
     "text": [
      "early stop at 42 epochs\n",
      "KL 1.21\n",
      "CPC 0.688\n",
      "MAE 1.756\n",
      "pearson 0.81\n",
      "jenson 0.323\n",
      "loading target LEHD: Phoenix\n",
      "featuredims [46, 16]\n"
     ]
    },
    {
     "name": "stderr",
     "output_type": "stream",
     "text": [
      "Setting up a new session...\n"
     ]
    },
    {
     "name": "stdout",
     "output_type": "stream",
     "text": [
      "early stop at 42 epochs\n",
      "KL 0.75\n",
      "CPC 0.682\n",
      "MAE 1.076\n",
      "pearson 0.824\n",
      "jenson 0.328\n",
      "loading target LEHD: Philadelphia\n",
      "featuredims [46, 16]\n"
     ]
    },
    {
     "name": "stderr",
     "output_type": "stream",
     "text": [
      "Setting up a new session...\n"
     ]
    },
    {
     "name": "stdout",
     "output_type": "stream",
     "text": [
      "early stop at 42 epochs\n",
      "KL 1.117\n",
      "CPC 0.673\n",
      "MAE 1.671\n",
      "pearson 0.807\n",
      "jenson 0.333\n",
      "loading target LEHD: San Antonio\n",
      "featuredims [46, 16]\n"
     ]
    },
    {
     "name": "stderr",
     "output_type": "stream",
     "text": [
      "Setting up a new session...\n"
     ]
    },
    {
     "name": "stdout",
     "output_type": "stream",
     "text": [
      "early stop at 42 epochs\n",
      "KL 1.154\n",
      "CPC 0.75\n",
      "MAE 2.25\n",
      "pearson 0.865\n",
      "jenson 0.253\n",
      "loading target LEHD: San Diego\n",
      "featuredims [46, 16]\n"
     ]
    },
    {
     "name": "stderr",
     "output_type": "stream",
     "text": [
      "Setting up a new session...\n"
     ]
    },
    {
     "name": "stdout",
     "output_type": "stream",
     "text": [
      "early stop at 42 epochs\n",
      "KL 0.954\n",
      "CPC 0.728\n",
      "MAE 1.387\n",
      "pearson 0.922\n",
      "jenson 0.3\n",
      "loading target LEHD: Dallas\n",
      "featuredims [46, 16]\n"
     ]
    },
    {
     "name": "stderr",
     "output_type": "stream",
     "text": [
      "Setting up a new session...\n"
     ]
    },
    {
     "name": "stdout",
     "output_type": "stream",
     "text": [
      "early stop at 42 epochs\n",
      "KL 0.793\n",
      "CPC 0.669\n",
      "MAE 1.204\n",
      "pearson 0.857\n",
      "jenson 0.335\n",
      "loading target LEHD: San Jose\n",
      "featuredims [46, 16]\n"
     ]
    },
    {
     "name": "stderr",
     "output_type": "stream",
     "text": [
      "Setting up a new session...\n"
     ]
    },
    {
     "name": "stdout",
     "output_type": "stream",
     "text": [
      "early stop at 42 epochs\n",
      "KL 1.695\n",
      "CPC 0.742\n",
      "MAE 2.949\n",
      "pearson 0.889\n",
      "jenson 0.269\n",
      "loading target LEHD: Austin\n",
      "featuredims [46, 16]\n"
     ]
    },
    {
     "name": "stderr",
     "output_type": "stream",
     "text": [
      "Setting up a new session...\n"
     ]
    },
    {
     "name": "stdout",
     "output_type": "stream",
     "text": [
      "early stop at 42 epochs\n",
      "KL 1.332\n",
      "CPC 0.769\n",
      "MAE 2.573\n",
      "pearson 0.895\n",
      "jenson 0.243\n",
      "loading datasets\n",
      "loading target LEHD: New York City\n",
      "featuredims [46, 16]\n"
     ]
    },
    {
     "name": "stderr",
     "output_type": "stream",
     "text": [
      "Setting up a new session...\n"
     ]
    },
    {
     "name": "stdout",
     "output_type": "stream",
     "text": [
      "early stop at 67 epochs\n",
      "KL 0.481\n",
      "CPC 0.587\n",
      "MAE 0.544\n",
      "pearson 0.756\n",
      "jenson 0.416\n",
      "loading target LEHD: Los Angeles\n",
      "featuredims [46, 16]\n"
     ]
    },
    {
     "name": "stderr",
     "output_type": "stream",
     "text": [
      "Setting up a new session...\n"
     ]
    },
    {
     "name": "stdout",
     "output_type": "stream",
     "text": [
      "early stop at 67 epochs\n",
      "KL 0.509\n",
      "CPC 0.51\n",
      "MAE 0.503\n",
      "pearson 0.648\n",
      "jenson 0.474\n",
      "loading target LEHD: Chicago\n",
      "featuredims [46, 16]\n"
     ]
    },
    {
     "name": "stderr",
     "output_type": "stream",
     "text": [
      "Setting up a new session...\n"
     ]
    },
    {
     "name": "stdout",
     "output_type": "stream",
     "text": [
      "early stop at 67 epochs\n",
      "KL 0.711\n",
      "CPC 0.592\n",
      "MAE 0.861\n",
      "pearson 0.76\n",
      "jenson 0.403\n",
      "loading target LEHD: Houston\n",
      "featuredims [46, 16]\n"
     ]
    },
    {
     "name": "stderr",
     "output_type": "stream",
     "text": [
      "Setting up a new session...\n"
     ]
    },
    {
     "name": "stdout",
     "output_type": "stream",
     "text": [
      "early stop at 67 epochs\n",
      "KL 0.663\n",
      "CPC 0.646\n",
      "MAE 0.884\n",
      "pearson 0.842\n",
      "jenson 0.357\n",
      "loading target LEHD: Boston\n",
      "featuredims [46, 16]\n"
     ]
    },
    {
     "name": "stderr",
     "output_type": "stream",
     "text": [
      "Setting up a new session...\n"
     ]
    },
    {
     "name": "stdout",
     "output_type": "stream",
     "text": [
      "early stop at 67 epochs\n",
      "KL 1.138\n",
      "CPC 0.697\n",
      "MAE 1.705\n",
      "pearson 0.83\n",
      "jenson 0.312\n",
      "loading target LEHD: Phoenix\n",
      "featuredims [46, 16]\n"
     ]
    },
    {
     "name": "stderr",
     "output_type": "stream",
     "text": [
      "Setting up a new session...\n"
     ]
    },
    {
     "name": "stdout",
     "output_type": "stream",
     "text": [
      "early stop at 67 epochs\n",
      "KL 0.838\n",
      "CPC 0.668\n",
      "MAE 1.123\n",
      "pearson 0.825\n",
      "jenson 0.334\n",
      "loading target LEHD: Philadelphia\n",
      "featuredims [46, 16]\n"
     ]
    },
    {
     "name": "stderr",
     "output_type": "stream",
     "text": [
      "Setting up a new session...\n"
     ]
    },
    {
     "name": "stdout",
     "output_type": "stream",
     "text": [
      "early stop at 67 epochs\n",
      "KL 1.082\n",
      "CPC 0.675\n",
      "MAE 1.658\n",
      "pearson 0.814\n",
      "jenson 0.329\n",
      "loading target LEHD: San Antonio\n",
      "featuredims [46, 16]\n"
     ]
    },
    {
     "name": "stderr",
     "output_type": "stream",
     "text": [
      "Setting up a new session...\n"
     ]
    },
    {
     "name": "stdout",
     "output_type": "stream",
     "text": [
      "early stop at 67 epochs\n",
      "KL 1.163\n",
      "CPC 0.747\n",
      "MAE 2.279\n",
      "pearson 0.876\n",
      "jenson 0.252\n",
      "loading target LEHD: San Diego\n",
      "featuredims [46, 16]\n"
     ]
    },
    {
     "name": "stderr",
     "output_type": "stream",
     "text": [
      "Setting up a new session...\n"
     ]
    },
    {
     "name": "stdout",
     "output_type": "stream",
     "text": [
      "early stop at 67 epochs\n",
      "KL 0.976\n",
      "CPC 0.722\n",
      "MAE 1.416\n",
      "pearson 0.926\n",
      "jenson 0.298\n",
      "loading target LEHD: Dallas\n",
      "featuredims [46, 16]\n"
     ]
    },
    {
     "name": "stderr",
     "output_type": "stream",
     "text": [
      "Setting up a new session...\n"
     ]
    },
    {
     "name": "stdout",
     "output_type": "stream",
     "text": [
      "early stop at 67 epochs\n",
      "KL 0.788\n",
      "CPC 0.671\n",
      "MAE 1.197\n",
      "pearson 0.868\n",
      "jenson 0.332\n",
      "loading target LEHD: San Jose\n",
      "featuredims [46, 16]\n"
     ]
    },
    {
     "name": "stderr",
     "output_type": "stream",
     "text": [
      "Setting up a new session...\n"
     ]
    },
    {
     "name": "stdout",
     "output_type": "stream",
     "text": [
      "early stop at 67 epochs\n",
      "KL 1.815\n",
      "CPC 0.728\n",
      "MAE 3.106\n",
      "pearson 0.89\n",
      "jenson 0.275\n",
      "loading target LEHD: Austin\n",
      "featuredims [46, 16]\n"
     ]
    },
    {
     "name": "stderr",
     "output_type": "stream",
     "text": [
      "Setting up a new session...\n"
     ]
    },
    {
     "name": "stdout",
     "output_type": "stream",
     "text": [
      "early stop at 67 epochs\n",
      "KL 1.266\n",
      "CPC 0.772\n",
      "MAE 2.538\n",
      "pearson 0.906\n",
      "jenson 0.237\n",
      "loading datasets\n",
      "loading target LEHD: New York City\n",
      "featuredims [46, 16]\n"
     ]
    },
    {
     "name": "stderr",
     "output_type": "stream",
     "text": [
      "Setting up a new session...\n"
     ]
    },
    {
     "name": "stdout",
     "output_type": "stream",
     "text": [
      "early stop at 39 epochs\n",
      "KL 0.515\n",
      "CPC 0.575\n",
      "MAE 0.56\n",
      "pearson 0.74\n",
      "jenson 0.426\n",
      "loading target LEHD: Los Angeles\n",
      "featuredims [46, 16]\n"
     ]
    },
    {
     "name": "stderr",
     "output_type": "stream",
     "text": [
      "Setting up a new session...\n"
     ]
    },
    {
     "name": "stdout",
     "output_type": "stream",
     "text": [
      "early stop at 39 epochs\n",
      "KL 0.552\n",
      "CPC 0.473\n",
      "MAE 0.541\n",
      "pearson 0.586\n",
      "jenson 0.501\n",
      "loading target LEHD: Chicago\n",
      "featuredims [46, 16]\n"
     ]
    },
    {
     "name": "stderr",
     "output_type": "stream",
     "text": [
      "Setting up a new session...\n"
     ]
    },
    {
     "name": "stdout",
     "output_type": "stream",
     "text": [
      "early stop at 39 epochs\n",
      "KL 0.744\n",
      "CPC 0.58\n",
      "MAE 0.886\n",
      "pearson 0.737\n",
      "jenson 0.415\n",
      "loading target LEHD: Houston\n",
      "featuredims [46, 16]\n"
     ]
    },
    {
     "name": "stderr",
     "output_type": "stream",
     "text": [
      "Setting up a new session...\n"
     ]
    },
    {
     "name": "stdout",
     "output_type": "stream",
     "text": [
      "early stop at 39 epochs\n",
      "KL 0.659\n",
      "CPC 0.638\n",
      "MAE 0.905\n",
      "pearson 0.808\n",
      "jenson 0.367\n",
      "loading target LEHD: Boston\n",
      "featuredims [46, 16]\n"
     ]
    },
    {
     "name": "stderr",
     "output_type": "stream",
     "text": [
      "Setting up a new session...\n"
     ]
    },
    {
     "name": "stdout",
     "output_type": "stream",
     "text": [
      "early stop at 39 epochs\n",
      "KL 1.27\n",
      "CPC 0.681\n",
      "MAE 1.799\n",
      "pearson 0.797\n",
      "jenson 0.33\n",
      "loading target LEHD: Phoenix\n",
      "featuredims [46, 16]\n"
     ]
    },
    {
     "name": "stderr",
     "output_type": "stream",
     "text": [
      "Setting up a new session...\n"
     ]
    },
    {
     "name": "stdout",
     "output_type": "stream",
     "text": [
      "early stop at 39 epochs\n",
      "KL 0.746\n",
      "CPC 0.682\n",
      "MAE 1.077\n",
      "pearson 0.819\n",
      "jenson 0.329\n",
      "loading target LEHD: Philadelphia\n",
      "featuredims [46, 16]\n"
     ]
    },
    {
     "name": "stderr",
     "output_type": "stream",
     "text": [
      "Setting up a new session...\n"
     ]
    },
    {
     "name": "stdout",
     "output_type": "stream",
     "text": [
      "early stop at 39 epochs\n",
      "KL 1.141\n",
      "CPC 0.671\n",
      "MAE 1.681\n",
      "pearson 0.803\n",
      "jenson 0.336\n",
      "loading target LEHD: San Antonio\n",
      "featuredims [46, 16]\n"
     ]
    },
    {
     "name": "stderr",
     "output_type": "stream",
     "text": [
      "Setting up a new session...\n"
     ]
    },
    {
     "name": "stdout",
     "output_type": "stream",
     "text": [
      "early stop at 39 epochs\n",
      "KL 1.184\n",
      "CPC 0.748\n",
      "MAE 2.263\n",
      "pearson 0.857\n",
      "jenson 0.256\n",
      "loading target LEHD: San Diego\n",
      "featuredims [46, 16]\n"
     ]
    },
    {
     "name": "stderr",
     "output_type": "stream",
     "text": [
      "Setting up a new session...\n"
     ]
    },
    {
     "name": "stdout",
     "output_type": "stream",
     "text": [
      "early stop at 39 epochs\n",
      "KL 0.987\n",
      "CPC 0.723\n",
      "MAE 1.411\n",
      "pearson 0.914\n",
      "jenson 0.306\n",
      "loading target LEHD: Dallas\n",
      "featuredims [46, 16]\n"
     ]
    },
    {
     "name": "stderr",
     "output_type": "stream",
     "text": [
      "Setting up a new session...\n"
     ]
    },
    {
     "name": "stdout",
     "output_type": "stream",
     "text": [
      "early stop at 39 epochs\n",
      "KL 0.817\n",
      "CPC 0.665\n",
      "MAE 1.221\n",
      "pearson 0.846\n",
      "jenson 0.34\n",
      "loading target LEHD: San Jose\n",
      "featuredims [46, 16]\n"
     ]
    },
    {
     "name": "stderr",
     "output_type": "stream",
     "text": [
      "Setting up a new session...\n"
     ]
    },
    {
     "name": "stdout",
     "output_type": "stream",
     "text": [
      "early stop at 39 epochs\n",
      "KL 1.708\n",
      "CPC 0.742\n",
      "MAE 2.944\n",
      "pearson 0.886\n",
      "jenson 0.27\n",
      "loading target LEHD: Austin\n",
      "featuredims [46, 16]\n"
     ]
    },
    {
     "name": "stderr",
     "output_type": "stream",
     "text": [
      "Setting up a new session...\n"
     ]
    },
    {
     "name": "stdout",
     "output_type": "stream",
     "text": [
      "early stop at 39 epochs\n",
      "KL 1.388\n",
      "CPC 0.765\n",
      "MAE 2.612\n",
      "pearson 0.889\n",
      "jenson 0.247\n",
      "loading datasets\n",
      "loading target LEHD: New York City\n",
      "featuredims [46, 16]\n"
     ]
    },
    {
     "name": "stderr",
     "output_type": "stream",
     "text": [
      "Setting up a new session...\n"
     ]
    },
    {
     "name": "stdout",
     "output_type": "stream",
     "text": [
      "early stop at 73 epochs\n",
      "KL 0.47\n",
      "CPC 0.592\n",
      "MAE 0.538\n",
      "pearson 0.762\n",
      "jenson 0.413\n",
      "loading target LEHD: Los Angeles\n",
      "featuredims [46, 16]\n"
     ]
    },
    {
     "name": "stderr",
     "output_type": "stream",
     "text": [
      "Setting up a new session...\n"
     ]
    },
    {
     "name": "stdout",
     "output_type": "stream",
     "text": [
      "early stop at 73 epochs\n",
      "KL 0.512\n",
      "CPC 0.517\n",
      "MAE 0.496\n",
      "pearson 0.66\n",
      "jenson 0.469\n",
      "loading target LEHD: Chicago\n",
      "featuredims [46, 16]\n"
     ]
    },
    {
     "name": "stderr",
     "output_type": "stream",
     "text": [
      "Setting up a new session...\n"
     ]
    },
    {
     "name": "stdout",
     "output_type": "stream",
     "text": [
      "early stop at 73 epochs\n",
      "KL 0.727\n",
      "CPC 0.592\n",
      "MAE 0.861\n",
      "pearson 0.765\n",
      "jenson 0.401\n",
      "loading target LEHD: Houston\n",
      "featuredims [46, 16]\n"
     ]
    },
    {
     "name": "stderr",
     "output_type": "stream",
     "text": [
      "Setting up a new session...\n"
     ]
    },
    {
     "name": "stdout",
     "output_type": "stream",
     "text": [
      "early stop at 73 epochs\n",
      "KL 0.691\n",
      "CPC 0.642\n",
      "MAE 0.893\n",
      "pearson 0.843\n",
      "jenson 0.358\n",
      "loading target LEHD: Boston\n",
      "featuredims [46, 16]\n"
     ]
    },
    {
     "name": "stderr",
     "output_type": "stream",
     "text": [
      "Setting up a new session...\n"
     ]
    },
    {
     "name": "stdout",
     "output_type": "stream",
     "text": [
      "early stop at 73 epochs\n",
      "KL 1.134\n",
      "CPC 0.698\n",
      "MAE 1.701\n",
      "pearson 0.838\n",
      "jenson 0.308\n",
      "loading target LEHD: Phoenix\n",
      "featuredims [46, 16]\n"
     ]
    },
    {
     "name": "stderr",
     "output_type": "stream",
     "text": [
      "Setting up a new session...\n"
     ]
    },
    {
     "name": "stdout",
     "output_type": "stream",
     "text": [
      "early stop at 73 epochs\n",
      "KL 0.92\n",
      "CPC 0.655\n",
      "MAE 1.168\n",
      "pearson 0.818\n",
      "jenson 0.342\n",
      "loading target LEHD: Philadelphia\n",
      "featuredims [46, 16]\n"
     ]
    },
    {
     "name": "stderr",
     "output_type": "stream",
     "text": [
      "Setting up a new session...\n"
     ]
    },
    {
     "name": "stdout",
     "output_type": "stream",
     "text": [
      "early stop at 73 epochs\n",
      "KL 1.072\n",
      "CPC 0.676\n",
      "MAE 1.656\n",
      "pearson 0.817\n",
      "jenson 0.328\n",
      "loading target LEHD: San Antonio\n",
      "featuredims [46, 16]\n"
     ]
    },
    {
     "name": "stderr",
     "output_type": "stream",
     "text": [
      "Setting up a new session...\n"
     ]
    },
    {
     "name": "stdout",
     "output_type": "stream",
     "text": [
      "early stop at 73 epochs\n",
      "KL 1.191\n",
      "CPC 0.743\n",
      "MAE 2.307\n",
      "pearson 0.877\n",
      "jenson 0.253\n",
      "loading target LEHD: San Diego\n",
      "featuredims [46, 16]\n"
     ]
    },
    {
     "name": "stderr",
     "output_type": "stream",
     "text": [
      "Setting up a new session...\n"
     ]
    },
    {
     "name": "stdout",
     "output_type": "stream",
     "text": [
      "early stop at 73 epochs\n",
      "KL 1.054\n",
      "CPC 0.711\n",
      "MAE 1.473\n",
      "pearson 0.921\n",
      "jenson 0.303\n",
      "loading target LEHD: Dallas\n",
      "featuredims [46, 16]\n"
     ]
    },
    {
     "name": "stderr",
     "output_type": "stream",
     "text": [
      "Setting up a new session...\n"
     ]
    },
    {
     "name": "stdout",
     "output_type": "stream",
     "text": [
      "early stop at 73 epochs\n",
      "KL 0.805\n",
      "CPC 0.669\n",
      "MAE 1.205\n",
      "pearson 0.869\n",
      "jenson 0.333\n",
      "loading target LEHD: San Jose\n",
      "featuredims [46, 16]\n"
     ]
    },
    {
     "name": "stderr",
     "output_type": "stream",
     "text": [
      "Setting up a new session...\n"
     ]
    },
    {
     "name": "stdout",
     "output_type": "stream",
     "text": [
      "early stop at 73 epochs\n",
      "KL 1.986\n",
      "CPC 0.717\n",
      "MAE 3.234\n",
      "pearson 0.885\n",
      "jenson 0.284\n",
      "loading target LEHD: Austin\n",
      "featuredims [46, 16]\n"
     ]
    },
    {
     "name": "stderr",
     "output_type": "stream",
     "text": [
      "Setting up a new session...\n"
     ]
    },
    {
     "name": "stdout",
     "output_type": "stream",
     "text": [
      "early stop at 73 epochs\n",
      "KL 1.265\n",
      "CPC 0.771\n",
      "MAE 2.547\n",
      "pearson 0.911\n",
      "jenson 0.236\n",
      "loading datasets\n",
      "loading target LEHD: New York City\n",
      "featuredims [46, 16]\n"
     ]
    },
    {
     "name": "stderr",
     "output_type": "stream",
     "text": [
      "Setting up a new session...\n"
     ]
    },
    {
     "name": "stdout",
     "output_type": "stream",
     "text": [
      "early stop at 46 epochs\n",
      "KL 0.505\n",
      "CPC 0.578\n",
      "MAE 0.555\n",
      "pearson 0.745\n",
      "jenson 0.423\n",
      "loading target LEHD: Los Angeles\n",
      "featuredims [46, 16]\n"
     ]
    },
    {
     "name": "stderr",
     "output_type": "stream",
     "text": [
      "Setting up a new session...\n"
     ]
    },
    {
     "name": "stdout",
     "output_type": "stream",
     "text": [
      "early stop at 46 epochs\n",
      "KL 0.533\n",
      "CPC 0.486\n",
      "MAE 0.528\n",
      "pearson 0.609\n",
      "jenson 0.492\n",
      "loading target LEHD: Chicago\n",
      "featuredims [46, 16]\n"
     ]
    },
    {
     "name": "stderr",
     "output_type": "stream",
     "text": [
      "Setting up a new session...\n"
     ]
    },
    {
     "name": "stdout",
     "output_type": "stream",
     "text": [
      "early stop at 46 epochs\n",
      "KL 0.728\n",
      "CPC 0.585\n",
      "MAE 0.877\n",
      "pearson 0.744\n",
      "jenson 0.411\n",
      "loading target LEHD: Houston\n",
      "featuredims [46, 16]\n"
     ]
    },
    {
     "name": "stderr",
     "output_type": "stream",
     "text": [
      "Setting up a new session...\n"
     ]
    },
    {
     "name": "stdout",
     "output_type": "stream",
     "text": [
      "early stop at 46 epochs\n",
      "KL 0.648\n",
      "CPC 0.643\n",
      "MAE 0.89\n",
      "pearson 0.823\n",
      "jenson 0.362\n",
      "loading target LEHD: Boston\n",
      "featuredims [46, 16]\n"
     ]
    },
    {
     "name": "stderr",
     "output_type": "stream",
     "text": [
      "Setting up a new session...\n"
     ]
    },
    {
     "name": "stdout",
     "output_type": "stream",
     "text": [
      "early stop at 46 epochs\n",
      "KL 1.217\n",
      "CPC 0.688\n",
      "MAE 1.761\n",
      "pearson 0.808\n",
      "jenson 0.323\n",
      "loading target LEHD: Phoenix\n",
      "featuredims [46, 16]\n"
     ]
    },
    {
     "name": "stderr",
     "output_type": "stream",
     "text": [
      "Setting up a new session...\n"
     ]
    },
    {
     "name": "stdout",
     "output_type": "stream",
     "text": [
      "early stop at 46 epochs\n",
      "KL 0.75\n",
      "CPC 0.682\n",
      "MAE 1.076\n",
      "pearson 0.824\n",
      "jenson 0.328\n",
      "loading target LEHD: Philadelphia\n",
      "featuredims [46, 16]\n"
     ]
    },
    {
     "name": "stderr",
     "output_type": "stream",
     "text": [
      "Setting up a new session...\n"
     ]
    },
    {
     "name": "stdout",
     "output_type": "stream",
     "text": [
      "early stop at 46 epochs\n",
      "KL 1.118\n",
      "CPC 0.673\n",
      "MAE 1.671\n",
      "pearson 0.807\n",
      "jenson 0.333\n",
      "loading target LEHD: San Antonio\n",
      "featuredims [46, 16]\n"
     ]
    },
    {
     "name": "stderr",
     "output_type": "stream",
     "text": [
      "Setting up a new session...\n"
     ]
    },
    {
     "name": "stdout",
     "output_type": "stream",
     "text": [
      "early stop at 46 epochs\n",
      "KL 1.157\n",
      "CPC 0.75\n",
      "MAE 2.251\n",
      "pearson 0.864\n",
      "jenson 0.253\n",
      "loading target LEHD: San Diego\n",
      "featuredims [46, 16]\n"
     ]
    },
    {
     "name": "stderr",
     "output_type": "stream",
     "text": [
      "Setting up a new session...\n"
     ]
    },
    {
     "name": "stdout",
     "output_type": "stream",
     "text": [
      "early stop at 46 epochs\n",
      "KL 0.966\n",
      "CPC 0.726\n",
      "MAE 1.395\n",
      "pearson 0.918\n",
      "jenson 0.302\n",
      "loading target LEHD: Dallas\n",
      "featuredims [46, 16]\n"
     ]
    },
    {
     "name": "stderr",
     "output_type": "stream",
     "text": [
      "Setting up a new session...\n"
     ]
    },
    {
     "name": "stdout",
     "output_type": "stream",
     "text": [
      "early stop at 46 epochs\n",
      "KL 0.796\n",
      "CPC 0.669\n",
      "MAE 1.206\n",
      "pearson 0.855\n",
      "jenson 0.335\n",
      "loading target LEHD: San Jose\n",
      "featuredims [46, 16]\n"
     ]
    },
    {
     "name": "stderr",
     "output_type": "stream",
     "text": [
      "Setting up a new session...\n"
     ]
    },
    {
     "name": "stdout",
     "output_type": "stream",
     "text": [
      "early stop at 46 epochs\n",
      "KL 1.692\n",
      "CPC 0.741\n",
      "MAE 2.957\n",
      "pearson 0.89\n",
      "jenson 0.269\n",
      "loading target LEHD: Austin\n",
      "featuredims [46, 16]\n"
     ]
    },
    {
     "name": "stderr",
     "output_type": "stream",
     "text": [
      "Setting up a new session...\n"
     ]
    },
    {
     "name": "stdout",
     "output_type": "stream",
     "text": [
      "early stop at 46 epochs\n",
      "KL 1.336\n",
      "CPC 0.768\n",
      "MAE 2.576\n",
      "pearson 0.895\n",
      "jenson 0.243\n",
      "loading datasets\n",
      "loading target LEHD: New York City\n",
      "featuredims [46, 16]\n"
     ]
    },
    {
     "name": "stderr",
     "output_type": "stream",
     "text": [
      "Setting up a new session...\n"
     ]
    },
    {
     "name": "stdout",
     "output_type": "stream",
     "text": [
      "early stop at 54 epochs\n",
      "KL 0.496\n",
      "CPC 0.582\n",
      "MAE 0.551\n",
      "pearson 0.749\n",
      "jenson 0.421\n",
      "loading target LEHD: Los Angeles\n",
      "featuredims [46, 16]\n"
     ]
    },
    {
     "name": "stderr",
     "output_type": "stream",
     "text": [
      "Setting up a new session...\n"
     ]
    },
    {
     "name": "stdout",
     "output_type": "stream",
     "text": [
      "early stop at 54 epochs\n",
      "KL 0.522\n",
      "CPC 0.495\n",
      "MAE 0.519\n",
      "pearson 0.622\n",
      "jenson 0.486\n",
      "loading target LEHD: Chicago\n",
      "featuredims [46, 16]\n"
     ]
    },
    {
     "name": "stderr",
     "output_type": "stream",
     "text": [
      "Setting up a new session...\n"
     ]
    },
    {
     "name": "stdout",
     "output_type": "stream",
     "text": [
      "early stop at 54 epochs\n",
      "KL 0.713\n",
      "CPC 0.589\n",
      "MAE 0.866\n",
      "pearson 0.753\n",
      "jenson 0.406\n",
      "loading target LEHD: Houston\n",
      "featuredims [46, 16]\n"
     ]
    },
    {
     "name": "stderr",
     "output_type": "stream",
     "text": [
      "Setting up a new session...\n"
     ]
    },
    {
     "name": "stdout",
     "output_type": "stream",
     "text": [
      "early stop at 54 epochs\n",
      "KL 0.647\n",
      "CPC 0.646\n",
      "MAE 0.884\n",
      "pearson 0.831\n",
      "jenson 0.359\n",
      "loading target LEHD: Boston\n",
      "featuredims [46, 16]\n"
     ]
    },
    {
     "name": "stderr",
     "output_type": "stream",
     "text": [
      "Setting up a new session...\n"
     ]
    },
    {
     "name": "stdout",
     "output_type": "stream",
     "text": [
      "early stop at 54 epochs\n",
      "KL 1.184\n",
      "CPC 0.691\n",
      "MAE 1.739\n",
      "pearson 0.816\n",
      "jenson 0.319\n",
      "loading target LEHD: Phoenix\n",
      "featuredims [46, 16]\n"
     ]
    },
    {
     "name": "stderr",
     "output_type": "stream",
     "text": [
      "Setting up a new session...\n"
     ]
    },
    {
     "name": "stdout",
     "output_type": "stream",
     "text": [
      "early stop at 54 epochs\n",
      "KL 0.772\n",
      "CPC 0.679\n",
      "MAE 1.086\n",
      "pearson 0.827\n",
      "jenson 0.328\n",
      "loading target LEHD: Philadelphia\n",
      "featuredims [46, 16]\n"
     ]
    },
    {
     "name": "stderr",
     "output_type": "stream",
     "text": [
      "Setting up a new session...\n"
     ]
    },
    {
     "name": "stdout",
     "output_type": "stream",
     "text": [
      "early stop at 54 epochs\n",
      "KL 1.104\n",
      "CPC 0.674\n",
      "MAE 1.666\n",
      "pearson 0.809\n",
      "jenson 0.332\n",
      "loading target LEHD: San Antonio\n",
      "featuredims [46, 16]\n"
     ]
    },
    {
     "name": "stderr",
     "output_type": "stream",
     "text": [
      "Setting up a new session...\n"
     ]
    },
    {
     "name": "stdout",
     "output_type": "stream",
     "text": [
      "early stop at 54 epochs\n",
      "KL 1.148\n",
      "CPC 0.75\n",
      "MAE 2.25\n",
      "pearson 0.868\n",
      "jenson 0.252\n",
      "loading target LEHD: San Diego\n",
      "featuredims [46, 16]\n"
     ]
    },
    {
     "name": "stderr",
     "output_type": "stream",
     "text": [
      "Setting up a new session...\n"
     ]
    },
    {
     "name": "stdout",
     "output_type": "stream",
     "text": [
      "early stop at 54 epochs\n",
      "KL 0.95\n",
      "CPC 0.728\n",
      "MAE 1.386\n",
      "pearson 0.923\n",
      "jenson 0.299\n",
      "loading target LEHD: Dallas\n",
      "featuredims [46, 16]\n"
     ]
    },
    {
     "name": "stderr",
     "output_type": "stream",
     "text": [
      "Setting up a new session...\n"
     ]
    },
    {
     "name": "stdout",
     "output_type": "stream",
     "text": [
      "early stop at 54 epochs\n",
      "KL 0.786\n",
      "CPC 0.671\n",
      "MAE 1.198\n",
      "pearson 0.861\n",
      "jenson 0.333\n",
      "loading target LEHD: San Jose\n",
      "featuredims [46, 16]\n"
     ]
    },
    {
     "name": "stderr",
     "output_type": "stream",
     "text": [
      "Setting up a new session...\n"
     ]
    },
    {
     "name": "stdout",
     "output_type": "stream",
     "text": [
      "early stop at 54 epochs\n",
      "KL 1.696\n",
      "CPC 0.74\n",
      "MAE 2.975\n",
      "pearson 0.891\n",
      "jenson 0.269\n",
      "loading target LEHD: Austin\n",
      "featuredims [46, 16]\n"
     ]
    },
    {
     "name": "stderr",
     "output_type": "stream",
     "text": [
      "Setting up a new session...\n"
     ]
    },
    {
     "name": "stdout",
     "output_type": "stream",
     "text": [
      "early stop at 54 epochs\n",
      "KL 1.314\n",
      "CPC 0.77\n",
      "MAE 2.562\n",
      "pearson 0.898\n",
      "jenson 0.241\n",
      "loading datasets\n",
      "loading target LEHD: New York City\n",
      "featuredims [46, 16]\n"
     ]
    },
    {
     "name": "stderr",
     "output_type": "stream",
     "text": [
      "Setting up a new session...\n"
     ]
    },
    {
     "name": "stdout",
     "output_type": "stream",
     "text": [
      "early stop at 49 epochs\n",
      "KL 0.495\n",
      "CPC 0.582\n",
      "MAE 0.551\n",
      "pearson 0.749\n",
      "jenson 0.421\n",
      "loading target LEHD: Los Angeles\n",
      "featuredims [46, 16]\n"
     ]
    },
    {
     "name": "stderr",
     "output_type": "stream",
     "text": [
      "Setting up a new session...\n"
     ]
    },
    {
     "name": "stdout",
     "output_type": "stream",
     "text": [
      "early stop at 49 epochs\n",
      "KL 0.521\n",
      "CPC 0.495\n",
      "MAE 0.518\n",
      "pearson 0.624\n",
      "jenson 0.485\n",
      "loading target LEHD: Chicago\n",
      "featuredims [46, 16]\n"
     ]
    },
    {
     "name": "stderr",
     "output_type": "stream",
     "text": [
      "Setting up a new session...\n"
     ]
    },
    {
     "name": "stdout",
     "output_type": "stream",
     "text": [
      "early stop at 49 epochs\n",
      "KL 0.716\n",
      "CPC 0.589\n",
      "MAE 0.868\n",
      "pearson 0.751\n",
      "jenson 0.407\n",
      "loading target LEHD: Houston\n",
      "featuredims [46, 16]\n"
     ]
    },
    {
     "name": "stderr",
     "output_type": "stream",
     "text": [
      "Setting up a new session...\n"
     ]
    },
    {
     "name": "stdout",
     "output_type": "stream",
     "text": [
      "early stop at 49 epochs\n",
      "KL 0.647\n",
      "CPC 0.646\n",
      "MAE 0.883\n",
      "pearson 0.833\n",
      "jenson 0.358\n",
      "loading target LEHD: Boston\n",
      "featuredims [46, 16]\n"
     ]
    },
    {
     "name": "stderr",
     "output_type": "stream",
     "text": [
      "Setting up a new session...\n"
     ]
    },
    {
     "name": "stdout",
     "output_type": "stream",
     "text": [
      "early stop at 49 epochs\n",
      "KL 1.179\n",
      "CPC 0.692\n",
      "MAE 1.736\n",
      "pearson 0.817\n",
      "jenson 0.319\n",
      "loading target LEHD: Phoenix\n",
      "featuredims [46, 16]\n"
     ]
    },
    {
     "name": "stderr",
     "output_type": "stream",
     "text": [
      "Setting up a new session...\n"
     ]
    },
    {
     "name": "stdout",
     "output_type": "stream",
     "text": [
      "early stop at 49 epochs\n",
      "KL 0.757\n",
      "CPC 0.681\n",
      "MAE 1.078\n",
      "pearson 0.826\n",
      "jenson 0.328\n",
      "loading target LEHD: Philadelphia\n",
      "featuredims [46, 16]\n"
     ]
    },
    {
     "name": "stderr",
     "output_type": "stream",
     "text": [
      "Setting up a new session...\n"
     ]
    },
    {
     "name": "stdout",
     "output_type": "stream",
     "text": [
      "early stop at 49 epochs\n",
      "KL 1.106\n",
      "CPC 0.674\n",
      "MAE 1.666\n",
      "pearson 0.809\n",
      "jenson 0.332\n",
      "loading target LEHD: San Antonio\n",
      "featuredims [46, 16]\n"
     ]
    },
    {
     "name": "stderr",
     "output_type": "stream",
     "text": [
      "Setting up a new session...\n"
     ]
    },
    {
     "name": "stdout",
     "output_type": "stream",
     "text": [
      "early stop at 49 epochs\n",
      "KL 1.147\n",
      "CPC 0.75\n",
      "MAE 2.251\n",
      "pearson 0.87\n",
      "jenson 0.252\n",
      "loading target LEHD: San Diego\n",
      "featuredims [46, 16]\n"
     ]
    },
    {
     "name": "stderr",
     "output_type": "stream",
     "text": [
      "Setting up a new session...\n"
     ]
    },
    {
     "name": "stdout",
     "output_type": "stream",
     "text": [
      "early stop at 49 epochs\n",
      "KL 0.949\n",
      "CPC 0.728\n",
      "MAE 1.386\n",
      "pearson 0.924\n",
      "jenson 0.298\n",
      "loading target LEHD: Dallas\n",
      "featuredims [46, 16]\n"
     ]
    },
    {
     "name": "stderr",
     "output_type": "stream",
     "text": [
      "Setting up a new session...\n"
     ]
    },
    {
     "name": "stdout",
     "output_type": "stream",
     "text": [
      "early stop at 49 epochs\n",
      "KL 0.786\n",
      "CPC 0.671\n",
      "MAE 1.199\n",
      "pearson 0.862\n",
      "jenson 0.333\n",
      "loading target LEHD: San Jose\n",
      "featuredims [46, 16]\n"
     ]
    },
    {
     "name": "stderr",
     "output_type": "stream",
     "text": [
      "Setting up a new session...\n"
     ]
    },
    {
     "name": "stdout",
     "output_type": "stream",
     "text": [
      "early stop at 49 epochs\n",
      "KL 1.708\n",
      "CPC 0.738\n",
      "MAE 2.994\n",
      "pearson 0.892\n",
      "jenson 0.27\n",
      "loading target LEHD: Austin\n",
      "featuredims [46, 16]\n"
     ]
    },
    {
     "name": "stderr",
     "output_type": "stream",
     "text": [
      "Setting up a new session...\n"
     ]
    },
    {
     "name": "stdout",
     "output_type": "stream",
     "text": [
      "early stop at 49 epochs\n",
      "KL 1.307\n",
      "CPC 0.77\n",
      "MAE 2.558\n",
      "pearson 0.899\n",
      "jenson 0.241\n",
      "loading datasets\n",
      "loading target LEHD: New York City\n",
      "featuredims [46, 16]\n"
     ]
    },
    {
     "name": "stderr",
     "output_type": "stream",
     "text": [
      "Setting up a new session...\n"
     ]
    },
    {
     "name": "stdout",
     "output_type": "stream",
     "text": [
      "early stop at 52 epochs\n",
      "KL 0.498\n",
      "CPC 0.581\n",
      "MAE 0.552\n",
      "pearson 0.747\n",
      "jenson 0.421\n",
      "loading target LEHD: Los Angeles\n",
      "featuredims [46, 16]\n"
     ]
    },
    {
     "name": "stderr",
     "output_type": "stream",
     "text": [
      "Setting up a new session...\n"
     ]
    },
    {
     "name": "stdout",
     "output_type": "stream",
     "text": [
      "early stop at 52 epochs\n",
      "KL 0.517\n",
      "CPC 0.499\n",
      "MAE 0.514\n",
      "pearson 0.63\n",
      "jenson 0.483\n",
      "loading target LEHD: Chicago\n",
      "featuredims [46, 16]\n"
     ]
    },
    {
     "name": "stderr",
     "output_type": "stream",
     "text": [
      "Setting up a new session...\n"
     ]
    },
    {
     "name": "stdout",
     "output_type": "stream",
     "text": [
      "early stop at 52 epochs\n",
      "KL 0.716\n",
      "CPC 0.589\n",
      "MAE 0.868\n",
      "pearson 0.751\n",
      "jenson 0.407\n",
      "loading target LEHD: Houston\n",
      "featuredims [46, 16]\n"
     ]
    },
    {
     "name": "stderr",
     "output_type": "stream",
     "text": [
      "Setting up a new session...\n"
     ]
    },
    {
     "name": "stdout",
     "output_type": "stream",
     "text": [
      "early stop at 52 epochs\n",
      "KL 0.646\n",
      "CPC 0.645\n",
      "MAE 0.885\n",
      "pearson 0.829\n",
      "jenson 0.359\n",
      "loading target LEHD: Boston\n",
      "featuredims [46, 16]\n"
     ]
    },
    {
     "name": "stderr",
     "output_type": "stream",
     "text": [
      "Setting up a new session...\n"
     ]
    },
    {
     "name": "stdout",
     "output_type": "stream",
     "text": [
      "early stop at 52 epochs\n",
      "KL 1.196\n",
      "CPC 0.69\n",
      "MAE 1.746\n",
      "pearson 0.813\n",
      "jenson 0.321\n",
      "loading target LEHD: Phoenix\n",
      "featuredims [46, 16]\n"
     ]
    },
    {
     "name": "stderr",
     "output_type": "stream",
     "text": [
      "Setting up a new session...\n"
     ]
    },
    {
     "name": "stdout",
     "output_type": "stream",
     "text": [
      "early stop at 52 epochs\n",
      "KL 0.772\n",
      "CPC 0.679\n",
      "MAE 1.086\n",
      "pearson 0.827\n",
      "jenson 0.328\n",
      "loading target LEHD: Philadelphia\n",
      "featuredims [46, 16]\n"
     ]
    },
    {
     "name": "stderr",
     "output_type": "stream",
     "text": [
      "Setting up a new session...\n"
     ]
    },
    {
     "name": "stdout",
     "output_type": "stream",
     "text": [
      "early stop at 52 epochs\n",
      "KL 1.109\n",
      "CPC 0.674\n",
      "MAE 1.668\n",
      "pearson 0.808\n",
      "jenson 0.332\n",
      "loading target LEHD: San Antonio\n",
      "featuredims [46, 16]\n"
     ]
    },
    {
     "name": "stderr",
     "output_type": "stream",
     "text": [
      "Setting up a new session...\n"
     ]
    },
    {
     "name": "stdout",
     "output_type": "stream",
     "text": [
      "early stop at 52 epochs\n",
      "KL 1.148\n",
      "CPC 0.75\n",
      "MAE 2.249\n",
      "pearson 0.869\n",
      "jenson 0.252\n",
      "loading target LEHD: San Diego\n",
      "featuredims [46, 16]\n"
     ]
    },
    {
     "name": "stderr",
     "output_type": "stream",
     "text": [
      "Setting up a new session...\n"
     ]
    },
    {
     "name": "stdout",
     "output_type": "stream",
     "text": [
      "early stop at 52 epochs\n",
      "KL 0.95\n",
      "CPC 0.728\n",
      "MAE 1.386\n",
      "pearson 0.923\n",
      "jenson 0.299\n",
      "loading target LEHD: Dallas\n",
      "featuredims [46, 16]\n"
     ]
    },
    {
     "name": "stderr",
     "output_type": "stream",
     "text": [
      "Setting up a new session...\n"
     ]
    },
    {
     "name": "stdout",
     "output_type": "stream",
     "text": [
      "early stop at 52 epochs\n",
      "KL 0.786\n",
      "CPC 0.671\n",
      "MAE 1.198\n",
      "pearson 0.862\n",
      "jenson 0.333\n",
      "loading target LEHD: San Jose\n",
      "featuredims [46, 16]\n"
     ]
    },
    {
     "name": "stderr",
     "output_type": "stream",
     "text": [
      "Setting up a new session...\n"
     ]
    },
    {
     "name": "stdout",
     "output_type": "stream",
     "text": [
      "early stop at 52 epochs\n",
      "KL 1.706\n",
      "CPC 0.738\n",
      "MAE 2.99\n",
      "pearson 0.892\n",
      "jenson 0.27\n",
      "loading target LEHD: Austin\n",
      "featuredims [46, 16]\n"
     ]
    },
    {
     "name": "stderr",
     "output_type": "stream",
     "text": [
      "Setting up a new session...\n"
     ]
    },
    {
     "name": "stdout",
     "output_type": "stream",
     "text": [
      "early stop at 52 epochs\n",
      "KL 1.315\n",
      "CPC 0.77\n",
      "MAE 2.562\n",
      "pearson 0.897\n",
      "jenson 0.241\n",
      "loading datasets\n",
      "loading target LEHD: New York City\n",
      "featuredims [46, 16]\n"
     ]
    },
    {
     "name": "stderr",
     "output_type": "stream",
     "text": [
      "Setting up a new session...\n"
     ]
    },
    {
     "name": "stdout",
     "output_type": "stream",
     "text": [
      "early stop at 58 epochs\n",
      "KL 0.484\n",
      "CPC 0.586\n",
      "MAE 0.545\n",
      "pearson 0.755\n",
      "jenson 0.417\n",
      "loading target LEHD: Los Angeles\n",
      "featuredims [46, 16]\n"
     ]
    },
    {
     "name": "stderr",
     "output_type": "stream",
     "text": [
      "Setting up a new session...\n"
     ]
    },
    {
     "name": "stdout",
     "output_type": "stream",
     "text": [
      "early stop at 58 epochs\n",
      "KL 0.51\n",
      "CPC 0.507\n",
      "MAE 0.506\n",
      "pearson 0.644\n",
      "jenson 0.477\n",
      "loading target LEHD: Chicago\n",
      "featuredims [46, 16]\n"
     ]
    },
    {
     "name": "stderr",
     "output_type": "stream",
     "text": [
      "Setting up a new session...\n"
     ]
    },
    {
     "name": "stdout",
     "output_type": "stream",
     "text": [
      "early stop at 58 epochs\n",
      "KL 0.71\n",
      "CPC 0.592\n",
      "MAE 0.862\n",
      "pearson 0.758\n",
      "jenson 0.403\n",
      "loading target LEHD: Houston\n",
      "featuredims [46, 16]\n"
     ]
    },
    {
     "name": "stderr",
     "output_type": "stream",
     "text": [
      "Setting up a new session...\n"
     ]
    },
    {
     "name": "stdout",
     "output_type": "stream",
     "text": [
      "early stop at 58 epochs\n",
      "KL 0.663\n",
      "CPC 0.646\n",
      "MAE 0.884\n",
      "pearson 0.842\n",
      "jenson 0.357\n",
      "loading target LEHD: Boston\n",
      "featuredims [46, 16]\n"
     ]
    },
    {
     "name": "stderr",
     "output_type": "stream",
     "text": [
      "Setting up a new session...\n"
     ]
    },
    {
     "name": "stdout",
     "output_type": "stream",
     "text": [
      "early stop at 58 epochs\n",
      "KL 1.144\n",
      "CPC 0.696\n",
      "MAE 1.711\n",
      "pearson 0.828\n",
      "jenson 0.313\n",
      "loading target LEHD: Phoenix\n",
      "featuredims [46, 16]\n"
     ]
    },
    {
     "name": "stderr",
     "output_type": "stream",
     "text": [
      "Setting up a new session...\n"
     ]
    },
    {
     "name": "stdout",
     "output_type": "stream",
     "text": [
      "early stop at 58 epochs\n",
      "KL 0.807\n",
      "CPC 0.673\n",
      "MAE 1.106\n",
      "pearson 0.826\n",
      "jenson 0.331\n",
      "loading target LEHD: Philadelphia\n",
      "featuredims [46, 16]\n"
     ]
    },
    {
     "name": "stderr",
     "output_type": "stream",
     "text": [
      "Setting up a new session...\n"
     ]
    },
    {
     "name": "stdout",
     "output_type": "stream",
     "text": [
      "early stop at 58 epochs\n",
      "KL 1.087\n",
      "CPC 0.675\n",
      "MAE 1.66\n",
      "pearson 0.813\n",
      "jenson 0.33\n",
      "loading target LEHD: San Antonio\n",
      "featuredims [46, 16]\n"
     ]
    },
    {
     "name": "stderr",
     "output_type": "stream",
     "text": [
      "Setting up a new session...\n"
     ]
    },
    {
     "name": "stdout",
     "output_type": "stream",
     "text": [
      "early stop at 58 epochs\n",
      "KL 1.156\n",
      "CPC 0.747\n",
      "MAE 2.272\n",
      "pearson 0.875\n",
      "jenson 0.251\n",
      "loading target LEHD: San Diego\n",
      "featuredims [46, 16]\n"
     ]
    },
    {
     "name": "stderr",
     "output_type": "stream",
     "text": [
      "Setting up a new session...\n"
     ]
    },
    {
     "name": "stdout",
     "output_type": "stream",
     "text": [
      "early stop at 58 epochs\n",
      "KL 0.964\n",
      "CPC 0.724\n",
      "MAE 1.406\n",
      "pearson 0.926\n",
      "jenson 0.298\n",
      "loading target LEHD: Dallas\n",
      "featuredims [46, 16]\n"
     ]
    },
    {
     "name": "stderr",
     "output_type": "stream",
     "text": [
      "Setting up a new session...\n"
     ]
    },
    {
     "name": "stdout",
     "output_type": "stream",
     "text": [
      "early stop at 58 epochs\n",
      "KL 0.787\n",
      "CPC 0.671\n",
      "MAE 1.197\n",
      "pearson 0.867\n",
      "jenson 0.332\n",
      "loading target LEHD: San Jose\n",
      "featuredims [46, 16]\n"
     ]
    },
    {
     "name": "stderr",
     "output_type": "stream",
     "text": [
      "Setting up a new session...\n"
     ]
    },
    {
     "name": "stdout",
     "output_type": "stream",
     "text": [
      "early stop at 58 epochs\n",
      "KL 1.794\n",
      "CPC 0.73\n",
      "MAE 3.087\n",
      "pearson 0.891\n",
      "jenson 0.274\n",
      "loading target LEHD: Austin\n",
      "featuredims [46, 16]\n",
      "early stop at 58 epochs\n",
      "KL 1.265\n",
      "CPC 0.772\n",
      "MAE 2.539\n",
      "pearson 0.907\n",
      "jenson 0.237\n"
     ]
    }
   ],
   "source": [
    "\n",
    "splitByNodes = True\n",
    "externalities = True\n",
    "# if modelmode='g', conventional singly constrained gravity model, other parameters will be ignored\n",
    "modelmode = 'p'\n",
    "# gravi con, modelmode = 'p', attention = True, directEmebdding = False\n",
    "# GCN + MLP, modelmode = 'p', attention = False, VNNattraction = Truepath = 'LEHD/'\n",
    "seed = 0\n",
    "cities = [\n",
    "    ('New York City', 'ny', ['New York County, NY', 'Queens County, NY','Kings County, NY','Bronx County, NY','Richmond County, NY']),\n",
    "    ('Los Angeles', 'ca', ['Los Angeles County, CA']),\n",
    "    ('Chicago', 'il', ['Cook County, IL']),\n",
    "    ('Houston', 'tx', ['Harris County, TX']),\n",
    "    ('Boston', 'ma', ['Suffolk County, MA', 'Middlesex County, MA']),\n",
    "    ('Phoenix', 'az', ['Maricopa County, AZ']),\n",
    "    ('Philadelphia', 'pa', ['Philadelphia County, PA']),\n",
    "    ('San Antonio', 'tx', ['Bexar County, TX']),\n",
    "    ('San Diego', 'ca', ['San Diego County, CA']),\n",
    "    ('Dallas', 'tx', ['Dallas County, TX']),\n",
    "    ('San Jose', 'ca', ['Santa Clara County, CA']),\n",
    "    ('Austin', 'tx', ['Travis County, TX']),\n",
    "]\n",
    "t_cities = [\n",
    "    ('New York City', 'ny', ['New York County, NY', 'Queens County, NY','Kings County, NY','Bronx County, NY','Richmond County, NY']),\n",
    "    ('Los Angeles', 'ca', ['Los Angeles County, CA']),\n",
    "    ('Chicago', 'il', ['Cook County, IL']),\n",
    "    ('Houston', 'tx', ['Harris County, TX']),\n",
    "    ('Boston', 'ma', ['Suffolk County, MA', 'Middlesex County, MA']),\n",
    "    ('Phoenix', 'az', ['Maricopa County, AZ']),\n",
    "    ('Philadelphia', 'pa', ['Philadelphia County, PA']),\n",
    "    ('San Antonio', 'tx', ['Bexar County, TX']),\n",
    "    ('San Diego', 'ca', ['San Diego County, CA']),\n",
    "    ('Dallas', 'tx', ['Dallas County, TX']),\n",
    "    ('San Jose', 'ca', ['Santa Clara County, CA']),\n",
    "    ('Austin', 'tx', ['Travis County, TX']),\n",
    "]\n",
    "\n",
    "\n",
    "fts_extractor_dim = 46\n",
    "edge_extractor_dim = 3\n",
    "GNNConfig2 = buildVNNConfig({'gat_num_heads':2,'transformer_num_heads':2,'attention_out_dim':8,\n",
    "                             'out_features': 16, 'layer_dims':[16]*2, 'initSeed': seed, \n",
    "                                     'actfuncFinal': torch.nn.Sigmoid(),'edge_dim':edge_extractor_dim})\n",
    "\n",
    "# early_stopper_train = EarlyStopper(patience=10, min_delta=1e-4)\n",
    "VNNConfig = buildVNNConfig({'layer_dims':[8], 'dropout': 0.33, \n",
    "                            'initSeed': seed, 'actfuncFinal': nn.ReLU()}) #nnSquare()\n",
    "splitByNodes = True\n",
    "externalities = True\n",
    "# if modelmode='g', conventional singly constrained gravity model, other parameters will be ignored\n",
    "modelmode = 'p'\n",
    "# gravi con, modelmode = 'p', attention = True, directEmebdding = False\n",
    "# GCN + MLP, modelmode = 'p', attention = False, VNNattraction = True\n",
    "attention = True\n",
    "VNNattraction = False\n",
    "directEmebdding = False #learn node embedding directly (MLP) or through GNNs\n",
    "filename = 'GravAttnLEHD-spatial-transfer-radiation-euclidean-GAT-resnet.csv'\n",
    "\n",
    "with open(filename, 'w') as f:\n",
    "\n",
    "    # Pass this file object to csv.writer()\n",
    "    # and get a writer object\n",
    "    writer_object = writer(f)\n",
    "\n",
    "    # Pass the list as an argument into\n",
    "    # the writerow()\n",
    "    writer_object.writerow(['source-target']+[city for city,state, counties in cities])\n",
    "\n",
    "    # Close the file object\n",
    "    f.close()\n",
    "        \n",
    "for city,state, counties in cities:\n",
    "    splitSeed = 0\n",
    "    seed = 0\n",
    "\n",
    "    mainepochs = 500\n",
    "\n",
    "    lr = [1e-3]\n",
    "        \n",
    "\n",
    "    #some basic stats\n",
    "    print('loading datasets')\n",
    "    A_train = torch.load('training/'+city+'_A_train.pt').to(torch.device(\"cuda\"))\n",
    "    OD_train = torch.load('training/'+city+'_OD_train.pt')\n",
    "    between_fts_train = torch.load('training/'+city+'_between_fts_train.pt')\n",
    "    nodefts_train = torch.load('training/'+city+'_nodefts_train.pt')\n",
    "    \n",
    "    A_valid = torch.load('training/'+city+'_A_valid.pt').to(torch.device(\"cuda\"))\n",
    "    OD_valid = torch.load('training/'+city+'_OD_valid.pt')\n",
    "    between_fts_valid = torch.load('training/'+city+'_between_fts_valid.pt')\n",
    "    nodefts_valid = torch.load('training/'+city+'_nodefts_valid.pt')\n",
    "    \n",
    "    RAE_list = []\n",
    "    CPC_list = []\n",
    "    MAE_list = []\n",
    "    pearson_list = []\n",
    "    jenson_list = []\n",
    "    \n",
    "    for target_city,target_state, target_counties in t_cities:\n",
    "\n",
    "        print('loading target LEHD:',target_city)\n",
    "    \n",
    "        target_A_test = torch.load('training/'+target_city+'_A_test.pt').to(torch.device(\"cuda\"))\n",
    "        target_OD_test = torch.load('training/'+target_city+'_OD_test.pt')\n",
    "        target_between_fts_test = torch.load('training/'+target_city+'_between_fts_test.pt')        \n",
    "        target_nodefts_test = torch.load('training/'+target_city+'_nodefts_test.pt')\n",
    "        # standardization\n",
    "        \n",
    "        scaler = StandardScaler().fit(nodefts_train)\n",
    "        nodefts_train_t = torch.FloatTensor(scaler.transform(nodefts_train)).to(torch.device(\"cuda\"))\n",
    "        nodefts_valid_t = torch.FloatTensor(scaler.transform(nodefts_valid)).to(torch.device(\"cuda\"))\n",
    "        target_nodefts_test_t = torch.FloatTensor(scaler.transform(target_nodefts_test)).to(torch.device(\"cuda\"))\n",
    "\n",
    "        bet_scaler = StandardScaler().fit(between_fts_train)\n",
    "        between_fts_train_t = torch.FloatTensor(bet_scaler.transform(between_fts_train)).to(torch.device(\"cuda\"))\n",
    "        between_fts_valid_t = torch.FloatTensor(bet_scaler.transform(between_fts_valid)).to(torch.device(\"cuda\"))\n",
    "        target_between_fts_test_t = torch.FloatTensor(bet_scaler.transform(target_between_fts_test)).to(torch.device(\"cuda\"))\n",
    "\n",
    "        \n",
    "        NRL = GMLearning(city,nodefts_train_t,GNNConfig2, \n",
    "                         VNNConfig,modelmode,directembedding = directEmebdding,\n",
    "                         attention=attention,VNNattraction=VNNattraction) \n",
    "        NRL = NRL.cuda()\n",
    "\n",
    "        NRL.fit(city,\n",
    "                A_train,nodefts_train_t,OD_train,between_fts_train_t,\n",
    "                A_valid,nodefts_valid_t,OD_valid,between_fts_valid_t,\n",
    "                target_A_test,target_nodefts_test_t,target_OD_test,target_between_fts_test_t,\n",
    "                n_epochs = mainepochs,lr = lr, \n",
    "        interim_output_freq = mainepochs//10)\n",
    "\n",
    "        with torch.no_grad(): \n",
    "\n",
    "            target_y_test = NRL.forward(target_A_test,target_nodefts_test_t,\n",
    "                                        target_OD_test,target_between_fts_test_t)\n",
    "            target_y_test = torch.nan_to_num(target_y_test)\n",
    "        # test nodes performance, edges between train and test nodes\n",
    "\n",
    "\n",
    "        rae = round(NRL.loss(target_y_test.cpu(),torch.FloatTensor(target_OD_test)).item(),3)\n",
    "        print('KL', rae)\n",
    "        46\n",
    "        cpc = common_part_of_commuters(torch.FloatTensor(target_OD_test),target_y_test.cpu())\n",
    "        if type(cpc) == float:\n",
    "            pass\n",
    "        else:\n",
    "            cpc = cpc.item()\n",
    "        cpc = round(cpc,3)\n",
    "        print('CPC', cpc)\n",
    "        mae = round(MAE(torch.FloatTensor(target_OD_test),target_y_test.cpu()).item(),3)\n",
    "        print('MAE',mae)\n",
    "        pearson = round(scipy.stats.pearsonr(target_OD_test.flatten(),\n",
    "                                             target_y_test.cpu().detach().numpy().flatten())[0],3)\n",
    "        print('pearson', pearson)\n",
    "        jenson = round(scipy.spatial.distance.jensenshannon(target_OD_test.flatten(),\n",
    "                                                            target_y_test.cpu().detach().numpy().flatten()),3)\n",
    "        print('jenson',jenson)\n",
    "\n",
    "        RAE_list += [rae]\n",
    "        CPC_list += [cpc]\n",
    "        MAE_list += [mae]\n",
    "        pearson_list += [pearson]\n",
    "        jenson_list += [jenson]\n",
    "\n",
    "        torch.cuda.empty_cache()\n",
    "\n",
    "    with open(filename, 'a') as f:\n",
    "\n",
    "\n",
    "        writer_object = writer(f)\n",
    "\n",
    "\n",
    "        writer_object.writerow([city+' KL']+RAE_list)\n",
    "        \n",
    "        writer_object.writerow([city+' CPC']+CPC_list)\n",
    "        writer_object.writerow([city+' MAE']+MAE_list)\n",
    "        writer_object.writerow([city+ 'Pea']+pearson_list)\n",
    "        writer_object.writerow([city+ 'Jen']+jenson_list)\n",
    "\n",
    "        f.close()\n",
    "\n"
   ]
  },
  {
   "cell_type": "code",
   "execution_count": 8,
   "id": "cc12330e",
   "metadata": {},
   "outputs": [
    {
     "name": "stdout",
     "output_type": "stream",
     "text": [
      "loading datasets\n"
     ]
    },
    {
     "name": "stderr",
     "output_type": "stream",
     "text": [
      "Setting up a new session...\n"
     ]
    },
    {
     "name": "stdout",
     "output_type": "stream",
     "text": [
      "loading target LEHD: New York City\n",
      "featuredims [46, 16]\n"
     ]
    },
    {
     "name": "stderr",
     "output_type": "stream",
     "text": [
      "Setting up a new session...\n"
     ]
    },
    {
     "name": "stdout",
     "output_type": "stream",
     "text": [
      "early stop at 123 epochs\n",
      "KL 0.502\n",
      "CPC 0.58\n",
      "MAE 0.554\n",
      "pearson 0.746\n",
      "jenson 0.422\n",
      "loading target LEHD: Los Angeles\n",
      "featuredims [46, 16]\n"
     ]
    },
    {
     "name": "stderr",
     "output_type": "stream",
     "text": [
      "Setting up a new session...\n"
     ]
    },
    {
     "name": "stdout",
     "output_type": "stream",
     "text": [
      "early stop at 123 epochs\n",
      "KL 0.526\n",
      "CPC 0.491\n",
      "MAE 0.523\n",
      "pearson 0.616\n",
      "jenson 0.489\n",
      "loading target LEHD: Chicago\n",
      "featuredims [46, 16]\n"
     ]
    },
    {
     "name": "stderr",
     "output_type": "stream",
     "text": [
      "Setting up a new session...\n"
     ]
    },
    {
     "name": "stdout",
     "output_type": "stream",
     "text": [
      "early stop at 123 epochs\n",
      "KL 0.726\n",
      "CPC 0.585\n",
      "MAE 0.876\n",
      "pearson 0.745\n",
      "jenson 0.411\n",
      "loading target LEHD: Houston\n",
      "featuredims [46, 16]\n"
     ]
    },
    {
     "name": "stderr",
     "output_type": "stream",
     "text": [
      "Setting up a new session...\n"
     ]
    },
    {
     "name": "stdout",
     "output_type": "stream",
     "text": [
      "early stop at 123 epochs\n",
      "KL 0.647\n",
      "CPC 0.644\n",
      "MAE 0.888\n",
      "pearson 0.825\n",
      "jenson 0.361\n",
      "loading target LEHD: Boston\n",
      "featuredims [46, 16]\n"
     ]
    },
    {
     "name": "stderr",
     "output_type": "stream",
     "text": [
      "Setting up a new session...\n"
     ]
    },
    {
     "name": "stdout",
     "output_type": "stream",
     "text": [
      "early stop at 123 epochs\n",
      "KL 1.214\n",
      "CPC 0.688\n",
      "MAE 1.759\n",
      "pearson 0.809\n",
      "jenson 0.323\n",
      "loading target LEHD: Phoenix\n",
      "featuredims [46, 16]\n"
     ]
    },
    {
     "name": "stderr",
     "output_type": "stream",
     "text": [
      "Setting up a new session...\n"
     ]
    },
    {
     "name": "stdout",
     "output_type": "stream",
     "text": [
      "early stop at 123 epochs\n",
      "KL 0.754\n",
      "CPC 0.682\n",
      "MAE 1.077\n",
      "pearson 0.825\n",
      "jenson 0.328\n",
      "loading target LEHD: Philadelphia\n",
      "featuredims [46, 16]\n"
     ]
    },
    {
     "name": "stderr",
     "output_type": "stream",
     "text": [
      "Setting up a new session...\n"
     ]
    },
    {
     "name": "stdout",
     "output_type": "stream",
     "text": [
      "early stop at 123 epochs\n",
      "KL 1.119\n",
      "CPC 0.673\n",
      "MAE 1.672\n",
      "pearson 0.806\n",
      "jenson 0.333\n",
      "loading target LEHD: San Antonio\n",
      "featuredims [46, 16]\n"
     ]
    },
    {
     "name": "stderr",
     "output_type": "stream",
     "text": [
      "Setting up a new session...\n"
     ]
    },
    {
     "name": "stdout",
     "output_type": "stream",
     "text": [
      "early stop at 123 epochs\n",
      "KL 1.156\n",
      "CPC 0.75\n",
      "MAE 2.25\n",
      "pearson 0.865\n",
      "jenson 0.253\n",
      "loading target LEHD: San Diego\n",
      "featuredims [46, 16]\n"
     ]
    },
    {
     "name": "stderr",
     "output_type": "stream",
     "text": [
      "Setting up a new session...\n"
     ]
    },
    {
     "name": "stdout",
     "output_type": "stream",
     "text": [
      "early stop at 123 epochs\n",
      "KL 0.957\n",
      "CPC 0.727\n",
      "MAE 1.389\n",
      "pearson 0.921\n",
      "jenson 0.301\n",
      "loading target LEHD: Dallas\n",
      "featuredims [46, 16]\n"
     ]
    },
    {
     "name": "stderr",
     "output_type": "stream",
     "text": [
      "Setting up a new session...\n"
     ]
    },
    {
     "name": "stdout",
     "output_type": "stream",
     "text": [
      "early stop at 123 epochs\n",
      "KL 0.795\n",
      "CPC 0.669\n",
      "MAE 1.205\n",
      "pearson 0.856\n",
      "jenson 0.335\n",
      "loading target LEHD: San Jose\n",
      "featuredims [46, 16]\n"
     ]
    },
    {
     "name": "stderr",
     "output_type": "stream",
     "text": [
      "Setting up a new session...\n"
     ]
    },
    {
     "name": "stdout",
     "output_type": "stream",
     "text": [
      "early stop at 123 epochs\n",
      "KL 1.694\n",
      "CPC 0.74\n",
      "MAE 2.968\n",
      "pearson 0.891\n",
      "jenson 0.269\n",
      "loading target LEHD: Austin\n",
      "featuredims [46, 16]\n"
     ]
    },
    {
     "name": "stderr",
     "output_type": "stream",
     "text": [
      "Setting up a new session...\n"
     ]
    },
    {
     "name": "stdout",
     "output_type": "stream",
     "text": [
      "early stop at 123 epochs\n",
      "KL 1.331\n",
      "CPC 0.769\n",
      "MAE 2.572\n",
      "pearson 0.895\n",
      "jenson 0.243\n",
      "loading datasets\n",
      "loading target LEHD: New York City\n",
      "featuredims [46, 16]\n"
     ]
    },
    {
     "name": "stderr",
     "output_type": "stream",
     "text": [
      "Setting up a new session...\n"
     ]
    },
    {
     "name": "stdout",
     "output_type": "stream",
     "text": [
      "early stop at 153 epochs\n",
      "KL 0.506\n",
      "CPC 0.578\n",
      "MAE 0.556\n",
      "pearson 0.744\n",
      "jenson 0.424\n",
      "loading target LEHD: Los Angeles\n",
      "featuredims [46, 16]\n"
     ]
    },
    {
     "name": "stderr",
     "output_type": "stream",
     "text": [
      "Setting up a new session...\n"
     ]
    },
    {
     "name": "stdout",
     "output_type": "stream",
     "text": [
      "early stop at 153 epochs\n",
      "KL 0.533\n",
      "CPC 0.486\n",
      "MAE 0.528\n",
      "pearson 0.609\n",
      "jenson 0.492\n",
      "loading target LEHD: Chicago\n",
      "featuredims [46, 16]\n"
     ]
    },
    {
     "name": "stderr",
     "output_type": "stream",
     "text": [
      "Setting up a new session...\n"
     ]
    },
    {
     "name": "stdout",
     "output_type": "stream",
     "text": [
      "early stop at 153 epochs\n",
      "KL 0.733\n",
      "CPC 0.583\n",
      "MAE 0.88\n",
      "pearson 0.742\n",
      "jenson 0.413\n",
      "loading target LEHD: Houston\n",
      "featuredims [46, 16]\n"
     ]
    },
    {
     "name": "stderr",
     "output_type": "stream",
     "text": [
      "Setting up a new session...\n"
     ]
    },
    {
     "name": "stdout",
     "output_type": "stream",
     "text": [
      "early stop at 153 epochs\n",
      "KL 0.65\n",
      "CPC 0.642\n",
      "MAE 0.892\n",
      "pearson 0.82\n",
      "jenson 0.362\n",
      "loading target LEHD: Boston\n",
      "featuredims [46, 16]\n"
     ]
    },
    {
     "name": "stderr",
     "output_type": "stream",
     "text": [
      "Setting up a new session...\n"
     ]
    },
    {
     "name": "stdout",
     "output_type": "stream",
     "text": [
      "early stop at 153 epochs\n",
      "KL 1.236\n",
      "CPC 0.685\n",
      "MAE 1.774\n",
      "pearson 0.804\n",
      "jenson 0.326\n",
      "loading target LEHD: Phoenix\n",
      "featuredims [46, 16]\n"
     ]
    },
    {
     "name": "stderr",
     "output_type": "stream",
     "text": [
      "Setting up a new session...\n"
     ]
    },
    {
     "name": "stdout",
     "output_type": "stream",
     "text": [
      "early stop at 153 epochs\n",
      "KL 0.749\n",
      "CPC 0.682\n",
      "MAE 1.075\n",
      "pearson 0.823\n",
      "jenson 0.328\n",
      "loading target LEHD: Philadelphia\n",
      "featuredims [46, 16]\n"
     ]
    },
    {
     "name": "stderr",
     "output_type": "stream",
     "text": [
      "Setting up a new session...\n"
     ]
    },
    {
     "name": "stdout",
     "output_type": "stream",
     "text": [
      "early stop at 153 epochs\n",
      "KL 1.127\n",
      "CPC 0.672\n",
      "MAE 1.675\n",
      "pearson 0.805\n",
      "jenson 0.334\n",
      "loading target LEHD: San Antonio\n",
      "featuredims [46, 16]\n"
     ]
    },
    {
     "name": "stderr",
     "output_type": "stream",
     "text": [
      "Setting up a new session...\n"
     ]
    },
    {
     "name": "stdout",
     "output_type": "stream",
     "text": [
      "early stop at 153 epochs\n",
      "KL 1.165\n",
      "CPC 0.749\n",
      "MAE 2.253\n",
      "pearson 0.862\n",
      "jenson 0.254\n",
      "loading target LEHD: San Diego\n",
      "featuredims [46, 16]\n"
     ]
    },
    {
     "name": "stderr",
     "output_type": "stream",
     "text": [
      "Setting up a new session...\n"
     ]
    },
    {
     "name": "stdout",
     "output_type": "stream",
     "text": [
      "early stop at 153 epochs\n",
      "KL 0.967\n",
      "CPC 0.726\n",
      "MAE 1.396\n",
      "pearson 0.918\n",
      "jenson 0.302\n",
      "loading target LEHD: Dallas\n",
      "featuredims [46, 16]\n"
     ]
    },
    {
     "name": "stderr",
     "output_type": "stream",
     "text": [
      "Setting up a new session...\n"
     ]
    },
    {
     "name": "stdout",
     "output_type": "stream",
     "text": [
      "early stop at 153 epochs\n",
      "KL 0.801\n",
      "CPC 0.668\n",
      "MAE 1.209\n",
      "pearson 0.852\n",
      "jenson 0.336\n",
      "loading target LEHD: San Jose\n",
      "featuredims [46, 16]\n"
     ]
    },
    {
     "name": "stderr",
     "output_type": "stream",
     "text": [
      "Setting up a new session...\n"
     ]
    },
    {
     "name": "stdout",
     "output_type": "stream",
     "text": [
      "early stop at 153 epochs\n",
      "KL 1.692\n",
      "CPC 0.742\n",
      "MAE 2.955\n",
      "pearson 0.89\n",
      "jenson 0.269\n",
      "loading target LEHD: Austin\n",
      "featuredims [46, 16]\n"
     ]
    },
    {
     "name": "stderr",
     "output_type": "stream",
     "text": [
      "Setting up a new session...\n"
     ]
    },
    {
     "name": "stdout",
     "output_type": "stream",
     "text": [
      "early stop at 153 epochs\n",
      "KL 1.352\n",
      "CPC 0.768\n",
      "MAE 2.586\n",
      "pearson 0.893\n",
      "jenson 0.244\n",
      "loading datasets\n",
      "loading target LEHD: New York City\n",
      "featuredims [46, 16]\n"
     ]
    },
    {
     "name": "stderr",
     "output_type": "stream",
     "text": [
      "Setting up a new session...\n"
     ]
    },
    {
     "name": "stdout",
     "output_type": "stream",
     "text": [
      "early stop at 164 epochs\n",
      "KL 0.5\n",
      "CPC 0.58\n",
      "MAE 0.553\n",
      "pearson 0.747\n",
      "jenson 0.422\n",
      "loading target LEHD: Los Angeles\n",
      "featuredims [46, 16]\n"
     ]
    },
    {
     "name": "stderr",
     "output_type": "stream",
     "text": [
      "Setting up a new session...\n"
     ]
    },
    {
     "name": "stdout",
     "output_type": "stream",
     "text": [
      "early stop at 164 epochs\n",
      "KL 0.524\n",
      "CPC 0.493\n",
      "MAE 0.52\n",
      "pearson 0.62\n",
      "jenson 0.487\n",
      "loading target LEHD: Chicago\n",
      "featuredims [46, 16]\n"
     ]
    },
    {
     "name": "stderr",
     "output_type": "stream",
     "text": [
      "Setting up a new session...\n"
     ]
    },
    {
     "name": "stdout",
     "output_type": "stream",
     "text": [
      "early stop at 164 epochs\n",
      "KL 0.723\n",
      "CPC 0.586\n",
      "MAE 0.873\n",
      "pearson 0.747\n",
      "jenson 0.41\n",
      "loading target LEHD: Houston\n",
      "featuredims [46, 16]\n"
     ]
    },
    {
     "name": "stderr",
     "output_type": "stream",
     "text": [
      "Setting up a new session...\n"
     ]
    },
    {
     "name": "stdout",
     "output_type": "stream",
     "text": [
      "early stop at 164 epochs\n",
      "KL 0.647\n",
      "CPC 0.645\n",
      "MAE 0.886\n",
      "pearson 0.828\n",
      "jenson 0.36\n",
      "loading target LEHD: Boston\n",
      "featuredims [46, 16]\n"
     ]
    },
    {
     "name": "stderr",
     "output_type": "stream",
     "text": [
      "Setting up a new session...\n"
     ]
    },
    {
     "name": "stdout",
     "output_type": "stream",
     "text": [
      "early stop at 164 epochs\n",
      "KL 1.204\n",
      "CPC 0.689\n",
      "MAE 1.752\n",
      "pearson 0.811\n",
      "jenson 0.322\n",
      "loading target LEHD: Phoenix\n",
      "featuredims [46, 16]\n"
     ]
    },
    {
     "name": "stderr",
     "output_type": "stream",
     "text": [
      "Setting up a new session...\n"
     ]
    },
    {
     "name": "stdout",
     "output_type": "stream",
     "text": [
      "early stop at 164 epochs\n",
      "KL 0.758\n",
      "CPC 0.681\n",
      "MAE 1.079\n",
      "pearson 0.826\n",
      "jenson 0.328\n",
      "loading target LEHD: Philadelphia\n",
      "featuredims [46, 16]\n"
     ]
    },
    {
     "name": "stderr",
     "output_type": "stream",
     "text": [
      "Setting up a new session...\n"
     ]
    },
    {
     "name": "stdout",
     "output_type": "stream",
     "text": [
      "early stop at 164 epochs\n",
      "KL 1.115\n",
      "CPC 0.673\n",
      "MAE 1.67\n",
      "pearson 0.807\n",
      "jenson 0.333\n",
      "loading target LEHD: San Antonio\n",
      "featuredims [46, 16]\n"
     ]
    },
    {
     "name": "stderr",
     "output_type": "stream",
     "text": [
      "Setting up a new session...\n"
     ]
    },
    {
     "name": "stdout",
     "output_type": "stream",
     "text": [
      "early stop at 164 epochs\n",
      "KL 1.152\n",
      "CPC 0.75\n",
      "MAE 2.249\n",
      "pearson 0.866\n",
      "jenson 0.253\n",
      "loading target LEHD: San Diego\n",
      "featuredims [46, 16]\n"
     ]
    },
    {
     "name": "stderr",
     "output_type": "stream",
     "text": [
      "Setting up a new session...\n"
     ]
    },
    {
     "name": "stdout",
     "output_type": "stream",
     "text": [
      "early stop at 164 epochs\n",
      "KL 0.954\n",
      "CPC 0.728\n",
      "MAE 1.387\n",
      "pearson 0.922\n",
      "jenson 0.3\n",
      "loading target LEHD: Dallas\n",
      "featuredims [46, 16]\n"
     ]
    },
    {
     "name": "stderr",
     "output_type": "stream",
     "text": [
      "Setting up a new session...\n"
     ]
    },
    {
     "name": "stdout",
     "output_type": "stream",
     "text": [
      "early stop at 164 epochs\n",
      "KL 0.792\n",
      "CPC 0.67\n",
      "MAE 1.203\n",
      "pearson 0.858\n",
      "jenson 0.334\n",
      "loading target LEHD: San Jose\n",
      "featuredims [46, 16]\n"
     ]
    },
    {
     "name": "stderr",
     "output_type": "stream",
     "text": [
      "Setting up a new session...\n"
     ]
    },
    {
     "name": "stdout",
     "output_type": "stream",
     "text": [
      "early stop at 164 epochs\n",
      "KL 1.697\n",
      "CPC 0.74\n",
      "MAE 2.976\n",
      "pearson 0.891\n",
      "jenson 0.269\n",
      "loading target LEHD: Austin\n",
      "featuredims [46, 16]\n"
     ]
    },
    {
     "name": "stderr",
     "output_type": "stream",
     "text": [
      "Setting up a new session...\n"
     ]
    },
    {
     "name": "stdout",
     "output_type": "stream",
     "text": [
      "early stop at 164 epochs\n",
      "KL 1.321\n",
      "CPC 0.769\n",
      "MAE 2.566\n",
      "pearson 0.896\n",
      "jenson 0.242\n",
      "loading datasets\n",
      "loading target LEHD: New York City\n",
      "featuredims [46, 16]\n"
     ]
    },
    {
     "name": "stderr",
     "output_type": "stream",
     "text": [
      "Setting up a new session...\n"
     ]
    },
    {
     "name": "stdout",
     "output_type": "stream",
     "text": [
      "early stop at 139 epochs\n",
      "KL 0.518\n",
      "CPC 0.574\n",
      "MAE 0.562\n",
      "pearson 0.738\n",
      "jenson 0.427\n",
      "loading target LEHD: Los Angeles\n",
      "featuredims [46, 16]\n"
     ]
    },
    {
     "name": "stderr",
     "output_type": "stream",
     "text": [
      "Setting up a new session...\n"
     ]
    },
    {
     "name": "stdout",
     "output_type": "stream",
     "text": [
      "early stop at 139 epochs\n",
      "KL 0.552\n",
      "CPC 0.473\n",
      "MAE 0.541\n",
      "pearson 0.586\n",
      "jenson 0.501\n",
      "loading target LEHD: Chicago\n",
      "featuredims [46, 16]\n"
     ]
    },
    {
     "name": "stderr",
     "output_type": "stream",
     "text": [
      "Setting up a new session...\n"
     ]
    },
    {
     "name": "stdout",
     "output_type": "stream",
     "text": [
      "early stop at 139 epochs\n",
      "KL 0.757\n",
      "CPC 0.576\n",
      "MAE 0.894\n",
      "pearson 0.731\n",
      "jenson 0.419\n",
      "loading target LEHD: Houston\n",
      "featuredims [46, 16]\n"
     ]
    },
    {
     "name": "stderr",
     "output_type": "stream",
     "text": [
      "Setting up a new session...\n"
     ]
    },
    {
     "name": "stdout",
     "output_type": "stream",
     "text": [
      "early stop at 139 epochs\n",
      "KL 0.664\n",
      "CPC 0.636\n",
      "MAE 0.909\n",
      "pearson 0.804\n",
      "jenson 0.368\n",
      "loading target LEHD: Boston\n",
      "featuredims [46, 16]\n"
     ]
    },
    {
     "name": "stderr",
     "output_type": "stream",
     "text": [
      "Setting up a new session...\n"
     ]
    },
    {
     "name": "stdout",
     "output_type": "stream",
     "text": [
      "early stop at 139 epochs\n",
      "KL 1.299\n",
      "CPC 0.677\n",
      "MAE 1.819\n",
      "pearson 0.79\n",
      "jenson 0.333\n",
      "loading target LEHD: Phoenix\n",
      "featuredims [46, 16]\n"
     ]
    },
    {
     "name": "stderr",
     "output_type": "stream",
     "text": [
      "Setting up a new session...\n"
     ]
    },
    {
     "name": "stdout",
     "output_type": "stream",
     "text": [
      "early stop at 139 epochs\n",
      "KL 0.748\n",
      "CPC 0.681\n",
      "MAE 1.08\n",
      "pearson 0.815\n",
      "jenson 0.33\n",
      "loading target LEHD: Philadelphia\n",
      "featuredims [46, 16]\n"
     ]
    },
    {
     "name": "stderr",
     "output_type": "stream",
     "text": [
      "Setting up a new session...\n"
     ]
    },
    {
     "name": "stdout",
     "output_type": "stream",
     "text": [
      "early stop at 139 epochs\n",
      "KL 1.149\n",
      "CPC 0.67\n",
      "MAE 1.686\n",
      "pearson 0.801\n",
      "jenson 0.337\n",
      "loading target LEHD: San Antonio\n",
      "featuredims [46, 16]\n"
     ]
    },
    {
     "name": "stderr",
     "output_type": "stream",
     "text": [
      "Setting up a new session...\n"
     ]
    },
    {
     "name": "stdout",
     "output_type": "stream",
     "text": [
      "early stop at 139 epochs\n",
      "KL 1.2\n",
      "CPC 0.747\n",
      "MAE 2.272\n",
      "pearson 0.853\n",
      "jenson 0.258\n",
      "loading target LEHD: San Diego\n",
      "featuredims [46, 16]\n"
     ]
    },
    {
     "name": "stderr",
     "output_type": "stream",
     "text": [
      "Setting up a new session...\n"
     ]
    },
    {
     "name": "stdout",
     "output_type": "stream",
     "text": [
      "early stop at 139 epochs\n",
      "KL 1.007\n",
      "CPC 0.72\n",
      "MAE 1.427\n",
      "pearson 0.91\n",
      "jenson 0.309\n",
      "loading target LEHD: Dallas\n",
      "featuredims [46, 16]\n"
     ]
    },
    {
     "name": "stderr",
     "output_type": "stream",
     "text": [
      "Setting up a new session...\n"
     ]
    },
    {
     "name": "stdout",
     "output_type": "stream",
     "text": [
      "early stop at 139 epochs\n",
      "KL 0.824\n",
      "CPC 0.663\n",
      "MAE 1.225\n",
      "pearson 0.842\n",
      "jenson 0.341\n",
      "loading target LEHD: San Jose\n",
      "featuredims [46, 16]\n"
     ]
    },
    {
     "name": "stderr",
     "output_type": "stream",
     "text": [
      "Setting up a new session...\n"
     ]
    },
    {
     "name": "stdout",
     "output_type": "stream",
     "text": [
      "early stop at 139 epochs\n",
      "KL 1.713\n",
      "CPC 0.742\n",
      "MAE 2.944\n",
      "pearson 0.885\n",
      "jenson 0.27\n",
      "loading target LEHD: Austin\n",
      "featuredims [46, 16]\n"
     ]
    },
    {
     "name": "stderr",
     "output_type": "stream",
     "text": [
      "Setting up a new session...\n"
     ]
    },
    {
     "name": "stdout",
     "output_type": "stream",
     "text": [
      "early stop at 139 epochs\n",
      "KL 1.415\n",
      "CPC 0.764\n",
      "MAE 2.63\n",
      "pearson 0.886\n",
      "jenson 0.249\n",
      "loading datasets\n",
      "loading target LEHD: New York City\n",
      "featuredims [46, 16]\n"
     ]
    },
    {
     "name": "stderr",
     "output_type": "stream",
     "text": [
      "Setting up a new session...\n"
     ]
    },
    {
     "name": "stdout",
     "output_type": "stream",
     "text": [
      "early stop at 236 epochs\n",
      "KL 0.485\n",
      "CPC 0.586\n",
      "MAE 0.545\n",
      "pearson 0.754\n",
      "jenson 0.417\n",
      "loading target LEHD: Los Angeles\n",
      "featuredims [46, 16]\n"
     ]
    },
    {
     "name": "stderr",
     "output_type": "stream",
     "text": [
      "Setting up a new session...\n"
     ]
    },
    {
     "name": "stdout",
     "output_type": "stream",
     "text": [
      "early stop at 236 epochs\n",
      "KL 0.51\n",
      "CPC 0.508\n",
      "MAE 0.505\n",
      "pearson 0.643\n",
      "jenson 0.476\n",
      "loading target LEHD: Chicago\n",
      "featuredims [46, 16]\n"
     ]
    },
    {
     "name": "stderr",
     "output_type": "stream",
     "text": [
      "Setting up a new session...\n"
     ]
    },
    {
     "name": "stdout",
     "output_type": "stream",
     "text": [
      "early stop at 236 epochs\n",
      "KL 0.71\n",
      "CPC 0.591\n",
      "MAE 0.863\n",
      "pearson 0.756\n",
      "jenson 0.404\n",
      "loading target LEHD: Houston\n",
      "featuredims [46, 16]\n"
     ]
    },
    {
     "name": "stderr",
     "output_type": "stream",
     "text": [
      "Setting up a new session...\n"
     ]
    },
    {
     "name": "stdout",
     "output_type": "stream",
     "text": [
      "early stop at 236 epochs\n",
      "KL 0.659\n",
      "CPC 0.646\n",
      "MAE 0.883\n",
      "pearson 0.841\n",
      "jenson 0.357\n",
      "loading target LEHD: Boston\n",
      "featuredims [46, 16]\n"
     ]
    },
    {
     "name": "stderr",
     "output_type": "stream",
     "text": [
      "Setting up a new session...\n"
     ]
    },
    {
     "name": "stdout",
     "output_type": "stream",
     "text": [
      "early stop at 236 epochs\n",
      "KL 1.147\n",
      "CPC 0.696\n",
      "MAE 1.713\n",
      "pearson 0.827\n",
      "jenson 0.314\n",
      "loading target LEHD: Phoenix\n",
      "featuredims [46, 16]\n"
     ]
    },
    {
     "name": "stderr",
     "output_type": "stream",
     "text": [
      "Setting up a new session...\n"
     ]
    },
    {
     "name": "stdout",
     "output_type": "stream",
     "text": [
      "early stop at 236 epochs\n",
      "KL 0.811\n",
      "CPC 0.673\n",
      "MAE 1.107\n",
      "pearson 0.826\n",
      "jenson 0.331\n",
      "loading target LEHD: Philadelphia\n",
      "featuredims [46, 16]\n"
     ]
    },
    {
     "name": "stderr",
     "output_type": "stream",
     "text": [
      "Setting up a new session...\n"
     ]
    },
    {
     "name": "stdout",
     "output_type": "stream",
     "text": [
      "early stop at 236 epochs\n",
      "KL 1.091\n",
      "CPC 0.675\n",
      "MAE 1.661\n",
      "pearson 0.812\n",
      "jenson 0.33\n",
      "loading target LEHD: San Antonio\n",
      "featuredims [46, 16]\n"
     ]
    },
    {
     "name": "stderr",
     "output_type": "stream",
     "text": [
      "Setting up a new session...\n"
     ]
    },
    {
     "name": "stdout",
     "output_type": "stream",
     "text": [
      "early stop at 236 epochs\n",
      "KL 1.153\n",
      "CPC 0.748\n",
      "MAE 2.267\n",
      "pearson 0.875\n",
      "jenson 0.251\n",
      "loading target LEHD: San Diego\n",
      "featuredims [46, 16]\n"
     ]
    },
    {
     "name": "stderr",
     "output_type": "stream",
     "text": [
      "Setting up a new session...\n"
     ]
    },
    {
     "name": "stdout",
     "output_type": "stream",
     "text": [
      "early stop at 236 epochs\n",
      "KL 0.958\n",
      "CPC 0.726\n",
      "MAE 1.398\n",
      "pearson 0.927\n",
      "jenson 0.297\n",
      "loading target LEHD: Dallas\n",
      "featuredims [46, 16]\n"
     ]
    },
    {
     "name": "stderr",
     "output_type": "stream",
     "text": [
      "Setting up a new session...\n"
     ]
    },
    {
     "name": "stdout",
     "output_type": "stream",
     "text": [
      "early stop at 236 epochs\n",
      "KL 0.785\n",
      "CPC 0.672\n",
      "MAE 1.196\n",
      "pearson 0.866\n",
      "jenson 0.332\n",
      "loading target LEHD: San Jose\n",
      "featuredims [46, 16]\n"
     ]
    },
    {
     "name": "stderr",
     "output_type": "stream",
     "text": [
      "Setting up a new session...\n"
     ]
    },
    {
     "name": "stdout",
     "output_type": "stream",
     "text": [
      "early stop at 236 epochs\n",
      "KL 1.772\n",
      "CPC 0.732\n",
      "MAE 3.065\n",
      "pearson 0.891\n",
      "jenson 0.273\n",
      "loading target LEHD: Austin\n",
      "featuredims [46, 16]\n"
     ]
    },
    {
     "name": "stderr",
     "output_type": "stream",
     "text": [
      "Setting up a new session...\n"
     ]
    },
    {
     "name": "stdout",
     "output_type": "stream",
     "text": [
      "early stop at 236 epochs\n",
      "KL 1.27\n",
      "CPC 0.772\n",
      "MAE 2.539\n",
      "pearson 0.905\n",
      "jenson 0.237\n",
      "loading datasets\n",
      "loading target LEHD: New York City\n",
      "featuredims [46, 16]\n"
     ]
    },
    {
     "name": "stderr",
     "output_type": "stream",
     "text": [
      "Setting up a new session...\n"
     ]
    },
    {
     "name": "stdout",
     "output_type": "stream",
     "text": [
      "early stop at 145 epochs\n",
      "KL 0.525\n",
      "CPC 0.571\n",
      "MAE 0.565\n",
      "pearson 0.735\n",
      "jenson 0.429\n",
      "loading target LEHD: Los Angeles\n",
      "featuredims [46, 16]\n"
     ]
    },
    {
     "name": "stderr",
     "output_type": "stream",
     "text": [
      "Setting up a new session...\n"
     ]
    },
    {
     "name": "stdout",
     "output_type": "stream",
     "text": [
      "early stop at 145 epochs\n",
      "KL 0.568\n",
      "CPC 0.463\n",
      "MAE 0.551\n",
      "pearson 0.57\n",
      "jenson 0.507\n",
      "loading target LEHD: Chicago\n",
      "featuredims [46, 16]\n"
     ]
    },
    {
     "name": "stderr",
     "output_type": "stream",
     "text": [
      "Setting up a new session...\n"
     ]
    },
    {
     "name": "stdout",
     "output_type": "stream",
     "text": [
      "early stop at 145 epochs\n",
      "KL 0.776\n",
      "CPC 0.571\n",
      "MAE 0.906\n",
      "pearson 0.722\n",
      "jenson 0.423\n",
      "loading target LEHD: Houston\n",
      "featuredims [46, 16]\n"
     ]
    },
    {
     "name": "stderr",
     "output_type": "stream",
     "text": [
      "Setting up a new session...\n"
     ]
    },
    {
     "name": "stdout",
     "output_type": "stream",
     "text": [
      "early stop at 145 epochs\n",
      "KL 0.679\n",
      "CPC 0.63\n",
      "MAE 0.923\n",
      "pearson 0.791\n",
      "jenson 0.372\n",
      "loading target LEHD: Boston\n",
      "featuredims [46, 16]\n"
     ]
    },
    {
     "name": "stderr",
     "output_type": "stream",
     "text": [
      "Setting up a new session...\n"
     ]
    },
    {
     "name": "stdout",
     "output_type": "stream",
     "text": [
      "early stop at 145 epochs\n",
      "KL 1.346\n",
      "CPC 0.671\n",
      "MAE 1.852\n",
      "pearson 0.781\n",
      "jenson 0.338\n",
      "loading target LEHD: Phoenix\n",
      "featuredims [46, 16]\n"
     ]
    },
    {
     "name": "stderr",
     "output_type": "stream",
     "text": [
      "Setting up a new session...\n"
     ]
    },
    {
     "name": "stdout",
     "output_type": "stream",
     "text": [
      "early stop at 145 epochs\n",
      "KL 0.756\n",
      "CPC 0.678\n",
      "MAE 1.09\n",
      "pearson 0.807\n",
      "jenson 0.333\n",
      "loading target LEHD: Philadelphia\n",
      "featuredims [46, 16]\n"
     ]
    },
    {
     "name": "stderr",
     "output_type": "stream",
     "text": [
      "Setting up a new session...\n"
     ]
    },
    {
     "name": "stdout",
     "output_type": "stream",
     "text": [
      "early stop at 145 epochs\n",
      "KL 1.165\n",
      "CPC 0.668\n",
      "MAE 1.694\n",
      "pearson 0.798\n",
      "jenson 0.338\n",
      "loading target LEHD: San Antonio\n",
      "featuredims [46, 16]\n"
     ]
    },
    {
     "name": "stderr",
     "output_type": "stream",
     "text": [
      "Setting up a new session...\n"
     ]
    },
    {
     "name": "stdout",
     "output_type": "stream",
     "text": [
      "early stop at 145 epochs\n",
      "KL 1.232\n",
      "CPC 0.745\n",
      "MAE 2.291\n",
      "pearson 0.847\n",
      "jenson 0.261\n",
      "loading target LEHD: San Diego\n",
      "featuredims [46, 16]\n"
     ]
    },
    {
     "name": "stderr",
     "output_type": "stream",
     "text": [
      "Setting up a new session...\n"
     ]
    },
    {
     "name": "stdout",
     "output_type": "stream",
     "text": [
      "early stop at 145 epochs\n",
      "KL 1.045\n",
      "CPC 0.714\n",
      "MAE 1.456\n",
      "pearson 0.903\n",
      "jenson 0.314\n",
      "loading target LEHD: Dallas\n",
      "featuredims [46, 16]\n"
     ]
    },
    {
     "name": "stderr",
     "output_type": "stream",
     "text": [
      "Setting up a new session...\n"
     ]
    },
    {
     "name": "stdout",
     "output_type": "stream",
     "text": [
      "early stop at 145 epochs\n",
      "KL 0.844\n",
      "CPC 0.66\n",
      "MAE 1.239\n",
      "pearson 0.834\n",
      "jenson 0.344\n",
      "loading target LEHD: San Jose\n",
      "featuredims [46, 16]\n"
     ]
    },
    {
     "name": "stderr",
     "output_type": "stream",
     "text": [
      "Setting up a new session...\n"
     ]
    },
    {
     "name": "stdout",
     "output_type": "stream",
     "text": [
      "early stop at 145 epochs\n",
      "KL 1.743\n",
      "CPC 0.742\n",
      "MAE 2.955\n",
      "pearson 0.88\n",
      "jenson 0.272\n",
      "loading target LEHD: Austin\n",
      "featuredims [46, 16]\n"
     ]
    },
    {
     "name": "stderr",
     "output_type": "stream",
     "text": [
      "Setting up a new session...\n"
     ]
    },
    {
     "name": "stdout",
     "output_type": "stream",
     "text": [
      "early stop at 145 epochs\n",
      "KL 1.463\n",
      "CPC 0.76\n",
      "MAE 2.667\n",
      "pearson 0.881\n",
      "jenson 0.253\n",
      "loading datasets\n",
      "loading target LEHD: New York City\n",
      "featuredims [46, 16]\n"
     ]
    },
    {
     "name": "stderr",
     "output_type": "stream",
     "text": [
      "Setting up a new session...\n"
     ]
    },
    {
     "name": "stdout",
     "output_type": "stream",
     "text": [
      "early stop at 198 epochs\n",
      "KL 0.48\n",
      "CPC 0.588\n",
      "MAE 0.543\n",
      "pearson 0.757\n",
      "jenson 0.416\n",
      "loading target LEHD: Los Angeles\n",
      "featuredims [46, 16]\n"
     ]
    },
    {
     "name": "stderr",
     "output_type": "stream",
     "text": [
      "Setting up a new session...\n"
     ]
    },
    {
     "name": "stdout",
     "output_type": "stream",
     "text": [
      "early stop at 198 epochs\n",
      "KL 0.509\n",
      "CPC 0.512\n",
      "MAE 0.501\n",
      "pearson 0.65\n",
      "jenson 0.473\n",
      "loading target LEHD: Chicago\n",
      "featuredims [46, 16]\n"
     ]
    },
    {
     "name": "stderr",
     "output_type": "stream",
     "text": [
      "Setting up a new session...\n"
     ]
    },
    {
     "name": "stdout",
     "output_type": "stream",
     "text": [
      "early stop at 198 epochs\n",
      "KL 0.711\n",
      "CPC 0.592\n",
      "MAE 0.861\n",
      "pearson 0.759\n",
      "jenson 0.403\n",
      "loading target LEHD: Houston\n",
      "featuredims [46, 16]\n"
     ]
    },
    {
     "name": "stderr",
     "output_type": "stream",
     "text": [
      "Setting up a new session...\n"
     ]
    },
    {
     "name": "stdout",
     "output_type": "stream",
     "text": [
      "early stop at 198 epochs\n",
      "KL 0.672\n",
      "CPC 0.645\n",
      "MAE 0.887\n",
      "pearson 0.843\n",
      "jenson 0.357\n",
      "loading target LEHD: Boston\n",
      "featuredims [46, 16]\n"
     ]
    },
    {
     "name": "stderr",
     "output_type": "stream",
     "text": [
      "Setting up a new session...\n"
     ]
    },
    {
     "name": "stdout",
     "output_type": "stream",
     "text": [
      "early stop at 198 epochs\n",
      "KL 1.136\n",
      "CPC 0.698\n",
      "MAE 1.704\n",
      "pearson 0.831\n",
      "jenson 0.312\n",
      "loading target LEHD: Phoenix\n",
      "featuredims [46, 16]\n"
     ]
    },
    {
     "name": "stderr",
     "output_type": "stream",
     "text": [
      "Setting up a new session...\n"
     ]
    },
    {
     "name": "stdout",
     "output_type": "stream",
     "text": [
      "early stop at 198 epochs\n",
      "KL 0.844\n",
      "CPC 0.667\n",
      "MAE 1.126\n",
      "pearson 0.824\n",
      "jenson 0.334\n",
      "loading target LEHD: Philadelphia\n",
      "featuredims [46, 16]\n"
     ]
    },
    {
     "name": "stderr",
     "output_type": "stream",
     "text": [
      "Setting up a new session...\n"
     ]
    },
    {
     "name": "stdout",
     "output_type": "stream",
     "text": [
      "early stop at 198 epochs\n",
      "KL 1.083\n",
      "CPC 0.675\n",
      "MAE 1.659\n",
      "pearson 0.814\n",
      "jenson 0.329\n",
      "loading target LEHD: San Antonio\n",
      "featuredims [46, 16]\n"
     ]
    },
    {
     "name": "stderr",
     "output_type": "stream",
     "text": [
      "Setting up a new session...\n"
     ]
    },
    {
     "name": "stdout",
     "output_type": "stream",
     "text": [
      "early stop at 198 epochs\n",
      "KL 1.167\n",
      "CPC 0.746\n",
      "MAE 2.284\n",
      "pearson 0.876\n",
      "jenson 0.252\n",
      "loading target LEHD: San Diego\n",
      "featuredims [46, 16]\n"
     ]
    },
    {
     "name": "stderr",
     "output_type": "stream",
     "text": [
      "Setting up a new session...\n"
     ]
    },
    {
     "name": "stdout",
     "output_type": "stream",
     "text": [
      "early stop at 198 epochs\n",
      "KL 0.975\n",
      "CPC 0.722\n",
      "MAE 1.414\n",
      "pearson 0.927\n",
      "jenson 0.298\n",
      "loading target LEHD: Dallas\n",
      "featuredims [46, 16]\n"
     ]
    },
    {
     "name": "stderr",
     "output_type": "stream",
     "text": [
      "Setting up a new session...\n"
     ]
    },
    {
     "name": "stdout",
     "output_type": "stream",
     "text": [
      "early stop at 198 epochs\n",
      "KL 0.79\n",
      "CPC 0.671\n",
      "MAE 1.198\n",
      "pearson 0.868\n",
      "jenson 0.332\n",
      "loading target LEHD: San Jose\n",
      "featuredims [46, 16]\n"
     ]
    },
    {
     "name": "stderr",
     "output_type": "stream",
     "text": [
      "Setting up a new session...\n"
     ]
    },
    {
     "name": "stdout",
     "output_type": "stream",
     "text": [
      "early stop at 198 epochs\n",
      "KL 1.825\n",
      "CPC 0.728\n",
      "MAE 3.114\n",
      "pearson 0.89\n",
      "jenson 0.276\n",
      "loading target LEHD: Austin\n",
      "featuredims [46, 16]\n"
     ]
    },
    {
     "name": "stderr",
     "output_type": "stream",
     "text": [
      "Setting up a new session...\n"
     ]
    },
    {
     "name": "stdout",
     "output_type": "stream",
     "text": [
      "early stop at 198 epochs\n",
      "KL 1.263\n",
      "CPC 0.772\n",
      "MAE 2.538\n",
      "pearson 0.908\n",
      "jenson 0.236\n",
      "loading datasets\n",
      "loading target LEHD: New York City\n",
      "featuredims [46, 16]\n"
     ]
    },
    {
     "name": "stderr",
     "output_type": "stream",
     "text": [
      "Setting up a new session...\n"
     ]
    },
    {
     "name": "stdout",
     "output_type": "stream",
     "text": [
      "early stop at 182 epochs\n",
      "KL 0.509\n",
      "CPC 0.577\n",
      "MAE 0.558\n",
      "pearson 0.742\n",
      "jenson 0.425\n",
      "loading target LEHD: Los Angeles\n",
      "featuredims [46, 16]\n"
     ]
    },
    {
     "name": "stderr",
     "output_type": "stream",
     "text": [
      "Setting up a new session...\n"
     ]
    },
    {
     "name": "stdout",
     "output_type": "stream",
     "text": [
      "early stop at 182 epochs\n",
      "KL 0.538\n",
      "CPC 0.482\n",
      "MAE 0.531\n",
      "pearson 0.602\n",
      "jenson 0.494\n",
      "loading target LEHD: Chicago\n",
      "featuredims [46, 16]\n"
     ]
    },
    {
     "name": "stderr",
     "output_type": "stream",
     "text": [
      "Setting up a new session...\n"
     ]
    },
    {
     "name": "stdout",
     "output_type": "stream",
     "text": [
      "early stop at 182 epochs\n",
      "KL 0.74\n",
      "CPC 0.581\n",
      "MAE 0.884\n",
      "pearson 0.739\n",
      "jenson 0.414\n",
      "loading target LEHD: Houston\n",
      "featuredims [46, 16]\n"
     ]
    },
    {
     "name": "stderr",
     "output_type": "stream",
     "text": [
      "Setting up a new session...\n"
     ]
    },
    {
     "name": "stdout",
     "output_type": "stream",
     "text": [
      "early stop at 182 epochs\n",
      "KL 0.653\n",
      "CPC 0.641\n",
      "MAE 0.897\n",
      "pearson 0.816\n",
      "jenson 0.364\n",
      "loading target LEHD: Boston\n",
      "featuredims [46, 16]\n"
     ]
    },
    {
     "name": "stderr",
     "output_type": "stream",
     "text": [
      "Setting up a new session...\n"
     ]
    },
    {
     "name": "stdout",
     "output_type": "stream",
     "text": [
      "early stop at 182 epochs\n",
      "KL 1.253\n",
      "CPC 0.683\n",
      "MAE 1.787\n",
      "pearson 0.8\n",
      "jenson 0.328\n",
      "loading target LEHD: Phoenix\n",
      "featuredims [46, 16]\n"
     ]
    },
    {
     "name": "stderr",
     "output_type": "stream",
     "text": [
      "Setting up a new session...\n"
     ]
    },
    {
     "name": "stdout",
     "output_type": "stream",
     "text": [
      "early stop at 182 epochs\n",
      "KL 0.747\n",
      "CPC 0.682\n",
      "MAE 1.075\n",
      "pearson 0.821\n",
      "jenson 0.328\n",
      "loading target LEHD: Philadelphia\n",
      "featuredims [46, 16]\n"
     ]
    },
    {
     "name": "stderr",
     "output_type": "stream",
     "text": [
      "Setting up a new session...\n"
     ]
    },
    {
     "name": "stdout",
     "output_type": "stream",
     "text": [
      "early stop at 182 epochs\n",
      "KL 1.134\n",
      "CPC 0.672\n",
      "MAE 1.678\n",
      "pearson 0.804\n",
      "jenson 0.335\n",
      "loading target LEHD: San Antonio\n",
      "featuredims [46, 16]\n"
     ]
    },
    {
     "name": "stderr",
     "output_type": "stream",
     "text": [
      "Setting up a new session...\n"
     ]
    },
    {
     "name": "stdout",
     "output_type": "stream",
     "text": [
      "early stop at 182 epochs\n",
      "KL 1.174\n",
      "CPC 0.749\n",
      "MAE 2.257\n",
      "pearson 0.859\n",
      "jenson 0.255\n",
      "loading target LEHD: San Diego\n",
      "featuredims [46, 16]\n"
     ]
    },
    {
     "name": "stderr",
     "output_type": "stream",
     "text": [
      "Setting up a new session...\n"
     ]
    },
    {
     "name": "stdout",
     "output_type": "stream",
     "text": [
      "early stop at 182 epochs\n",
      "KL 0.977\n",
      "CPC 0.725\n",
      "MAE 1.403\n",
      "pearson 0.916\n",
      "jenson 0.304\n",
      "loading target LEHD: Dallas\n",
      "featuredims [46, 16]\n"
     ]
    },
    {
     "name": "stderr",
     "output_type": "stream",
     "text": [
      "Setting up a new session...\n"
     ]
    },
    {
     "name": "stdout",
     "output_type": "stream",
     "text": [
      "early stop at 182 epochs\n",
      "KL 0.807\n",
      "CPC 0.667\n",
      "MAE 1.213\n",
      "pearson 0.85\n",
      "jenson 0.338\n",
      "loading target LEHD: San Jose\n",
      "featuredims [46, 16]\n"
     ]
    },
    {
     "name": "stderr",
     "output_type": "stream",
     "text": [
      "Setting up a new session...\n"
     ]
    },
    {
     "name": "stdout",
     "output_type": "stream",
     "text": [
      "early stop at 182 epochs\n",
      "KL 1.695\n",
      "CPC 0.742\n",
      "MAE 2.948\n",
      "pearson 0.888\n",
      "jenson 0.269\n",
      "loading target LEHD: Austin\n",
      "featuredims [46, 16]\n"
     ]
    },
    {
     "name": "stderr",
     "output_type": "stream",
     "text": [
      "Setting up a new session...\n"
     ]
    },
    {
     "name": "stdout",
     "output_type": "stream",
     "text": [
      "early stop at 182 epochs\n",
      "KL 1.369\n",
      "CPC 0.766\n",
      "MAE 2.598\n",
      "pearson 0.891\n",
      "jenson 0.246\n",
      "loading datasets\n",
      "loading target LEHD: New York City\n",
      "featuredims [46, 16]\n"
     ]
    },
    {
     "name": "stderr",
     "output_type": "stream",
     "text": [
      "Setting up a new session...\n"
     ]
    },
    {
     "name": "stdout",
     "output_type": "stream",
     "text": [
      "early stop at 206 epochs\n",
      "KL 0.501\n",
      "CPC 0.58\n",
      "MAE 0.553\n",
      "pearson 0.746\n",
      "jenson 0.422\n",
      "loading target LEHD: Los Angeles\n",
      "featuredims [46, 16]\n"
     ]
    },
    {
     "name": "stderr",
     "output_type": "stream",
     "text": [
      "Setting up a new session...\n"
     ]
    },
    {
     "name": "stdout",
     "output_type": "stream",
     "text": [
      "early stop at 206 epochs\n",
      "KL 0.525\n",
      "CPC 0.492\n",
      "MAE 0.521\n",
      "pearson 0.618\n",
      "jenson 0.488\n",
      "loading target LEHD: Chicago\n",
      "featuredims [46, 16]\n"
     ]
    },
    {
     "name": "stderr",
     "output_type": "stream",
     "text": [
      "Setting up a new session...\n"
     ]
    },
    {
     "name": "stdout",
     "output_type": "stream",
     "text": [
      "early stop at 206 epochs\n",
      "KL 0.725\n",
      "CPC 0.586\n",
      "MAE 0.874\n",
      "pearson 0.746\n",
      "jenson 0.41\n",
      "loading target LEHD: Houston\n",
      "featuredims [46, 16]\n"
     ]
    },
    {
     "name": "stderr",
     "output_type": "stream",
     "text": [
      "Setting up a new session...\n"
     ]
    },
    {
     "name": "stdout",
     "output_type": "stream",
     "text": [
      "early stop at 206 epochs\n",
      "KL 0.647\n",
      "CPC 0.645\n",
      "MAE 0.887\n",
      "pearson 0.827\n",
      "jenson 0.36\n",
      "loading target LEHD: Boston\n",
      "featuredims [46, 16]\n"
     ]
    },
    {
     "name": "stderr",
     "output_type": "stream",
     "text": [
      "Setting up a new session...\n"
     ]
    },
    {
     "name": "stdout",
     "output_type": "stream",
     "text": [
      "early stop at 206 epochs\n",
      "KL 1.209\n",
      "CPC 0.689\n",
      "MAE 1.755\n",
      "pearson 0.81\n",
      "jenson 0.322\n",
      "loading target LEHD: Phoenix\n",
      "featuredims [46, 16]\n"
     ]
    },
    {
     "name": "stderr",
     "output_type": "stream",
     "text": [
      "Setting up a new session...\n"
     ]
    },
    {
     "name": "stdout",
     "output_type": "stream",
     "text": [
      "early stop at 206 epochs\n",
      "KL 0.756\n",
      "CPC 0.682\n",
      "MAE 1.078\n",
      "pearson 0.826\n",
      "jenson 0.328\n",
      "loading target LEHD: Philadelphia\n",
      "featuredims [46, 16]\n"
     ]
    },
    {
     "name": "stderr",
     "output_type": "stream",
     "text": [
      "Setting up a new session...\n"
     ]
    },
    {
     "name": "stdout",
     "output_type": "stream",
     "text": [
      "early stop at 206 epochs\n",
      "KL 1.117\n",
      "CPC 0.673\n",
      "MAE 1.671\n",
      "pearson 0.807\n",
      "jenson 0.333\n",
      "loading target LEHD: San Antonio\n",
      "featuredims [46, 16]\n"
     ]
    },
    {
     "name": "stderr",
     "output_type": "stream",
     "text": [
      "Setting up a new session...\n"
     ]
    },
    {
     "name": "stdout",
     "output_type": "stream",
     "text": [
      "early stop at 206 epochs\n",
      "KL 1.154\n",
      "CPC 0.75\n",
      "MAE 2.25\n",
      "pearson 0.865\n",
      "jenson 0.253\n",
      "loading target LEHD: San Diego\n",
      "featuredims [46, 16]\n"
     ]
    },
    {
     "name": "stderr",
     "output_type": "stream",
     "text": [
      "Setting up a new session...\n"
     ]
    },
    {
     "name": "stdout",
     "output_type": "stream",
     "text": [
      "early stop at 206 epochs\n",
      "KL 0.955\n",
      "CPC 0.728\n",
      "MAE 1.388\n",
      "pearson 0.921\n",
      "jenson 0.3\n",
      "loading target LEHD: Dallas\n",
      "featuredims [46, 16]\n"
     ]
    },
    {
     "name": "stderr",
     "output_type": "stream",
     "text": [
      "Setting up a new session...\n"
     ]
    },
    {
     "name": "stdout",
     "output_type": "stream",
     "text": [
      "early stop at 206 epochs\n",
      "KL 0.793\n",
      "CPC 0.669\n",
      "MAE 1.204\n",
      "pearson 0.857\n",
      "jenson 0.335\n",
      "loading target LEHD: San Jose\n",
      "featuredims [46, 16]\n"
     ]
    },
    {
     "name": "stderr",
     "output_type": "stream",
     "text": [
      "Setting up a new session...\n"
     ]
    },
    {
     "name": "stdout",
     "output_type": "stream",
     "text": [
      "early stop at 206 epochs\n",
      "KL 1.695\n",
      "CPC 0.74\n",
      "MAE 2.972\n",
      "pearson 0.891\n",
      "jenson 0.269\n",
      "loading target LEHD: Austin\n",
      "featuredims [46, 16]\n"
     ]
    },
    {
     "name": "stderr",
     "output_type": "stream",
     "text": [
      "Setting up a new session...\n"
     ]
    },
    {
     "name": "stdout",
     "output_type": "stream",
     "text": [
      "early stop at 206 epochs\n",
      "KL 1.326\n",
      "CPC 0.769\n",
      "MAE 2.569\n",
      "pearson 0.896\n",
      "jenson 0.242\n",
      "loading datasets\n",
      "loading target LEHD: New York City\n",
      "featuredims [46, 16]\n"
     ]
    },
    {
     "name": "stderr",
     "output_type": "stream",
     "text": [
      "Setting up a new session...\n"
     ]
    },
    {
     "name": "stdout",
     "output_type": "stream",
     "text": [
      "early stop at 160 epochs\n",
      "KL 0.506\n",
      "CPC 0.578\n",
      "MAE 0.556\n",
      "pearson 0.744\n",
      "jenson 0.424\n",
      "loading target LEHD: Los Angeles\n",
      "featuredims [46, 16]\n"
     ]
    },
    {
     "name": "stderr",
     "output_type": "stream",
     "text": [
      "Setting up a new session...\n"
     ]
    },
    {
     "name": "stdout",
     "output_type": "stream",
     "text": [
      "early stop at 160 epochs\n",
      "KL 0.533\n",
      "CPC 0.486\n",
      "MAE 0.528\n",
      "pearson 0.608\n",
      "jenson 0.492\n",
      "loading target LEHD: Chicago\n",
      "featuredims [46, 16]\n"
     ]
    },
    {
     "name": "stderr",
     "output_type": "stream",
     "text": [
      "Setting up a new session...\n"
     ]
    },
    {
     "name": "stdout",
     "output_type": "stream",
     "text": [
      "early stop at 160 epochs\n",
      "KL 0.734\n",
      "CPC 0.583\n",
      "MAE 0.88\n",
      "pearson 0.741\n",
      "jenson 0.413\n",
      "loading target LEHD: Houston\n",
      "featuredims [46, 16]\n"
     ]
    },
    {
     "name": "stderr",
     "output_type": "stream",
     "text": [
      "Setting up a new session...\n"
     ]
    },
    {
     "name": "stdout",
     "output_type": "stream",
     "text": [
      "early stop at 160 epochs\n",
      "KL 0.65\n",
      "CPC 0.642\n",
      "MAE 0.893\n",
      "pearson 0.82\n",
      "jenson 0.362\n",
      "loading target LEHD: Boston\n",
      "featuredims [46, 16]\n"
     ]
    },
    {
     "name": "stderr",
     "output_type": "stream",
     "text": [
      "Setting up a new session...\n"
     ]
    },
    {
     "name": "stdout",
     "output_type": "stream",
     "text": [
      "early stop at 160 epochs\n",
      "KL 1.237\n",
      "CPC 0.685\n",
      "MAE 1.775\n",
      "pearson 0.803\n",
      "jenson 0.326\n",
      "loading target LEHD: Phoenix\n",
      "featuredims [46, 16]\n"
     ]
    },
    {
     "name": "stderr",
     "output_type": "stream",
     "text": [
      "Setting up a new session...\n"
     ]
    },
    {
     "name": "stdout",
     "output_type": "stream",
     "text": [
      "early stop at 160 epochs\n",
      "KL 0.748\n",
      "CPC 0.682\n",
      "MAE 1.075\n",
      "pearson 0.823\n",
      "jenson 0.328\n",
      "loading target LEHD: Philadelphia\n",
      "featuredims [46, 16]\n"
     ]
    },
    {
     "name": "stderr",
     "output_type": "stream",
     "text": [
      "Setting up a new session...\n"
     ]
    },
    {
     "name": "stdout",
     "output_type": "stream",
     "text": [
      "early stop at 160 epochs\n",
      "KL 1.128\n",
      "CPC 0.672\n",
      "MAE 1.675\n",
      "pearson 0.805\n",
      "jenson 0.334\n",
      "loading target LEHD: San Antonio\n",
      "featuredims [46, 16]\n"
     ]
    },
    {
     "name": "stderr",
     "output_type": "stream",
     "text": [
      "Setting up a new session...\n"
     ]
    },
    {
     "name": "stdout",
     "output_type": "stream",
     "text": [
      "early stop at 160 epochs\n",
      "KL 1.166\n",
      "CPC 0.749\n",
      "MAE 2.254\n",
      "pearson 0.862\n",
      "jenson 0.254\n",
      "loading target LEHD: San Diego\n",
      "featuredims [46, 16]\n"
     ]
    },
    {
     "name": "stderr",
     "output_type": "stream",
     "text": [
      "Setting up a new session...\n"
     ]
    },
    {
     "name": "stdout",
     "output_type": "stream",
     "text": [
      "early stop at 160 epochs\n",
      "KL 0.968\n",
      "CPC 0.726\n",
      "MAE 1.396\n",
      "pearson 0.918\n",
      "jenson 0.303\n",
      "loading target LEHD: Dallas\n",
      "featuredims [46, 16]\n"
     ]
    },
    {
     "name": "stderr",
     "output_type": "stream",
     "text": [
      "Setting up a new session...\n"
     ]
    },
    {
     "name": "stdout",
     "output_type": "stream",
     "text": [
      "early stop at 160 epochs\n",
      "KL 0.802\n",
      "CPC 0.668\n",
      "MAE 1.21\n",
      "pearson 0.852\n",
      "jenson 0.336\n",
      "loading target LEHD: San Jose\n",
      "featuredims [46, 16]\n"
     ]
    },
    {
     "name": "stderr",
     "output_type": "stream",
     "text": [
      "Setting up a new session...\n"
     ]
    },
    {
     "name": "stdout",
     "output_type": "stream",
     "text": [
      "early stop at 160 epochs\n",
      "KL 1.692\n",
      "CPC 0.742\n",
      "MAE 2.955\n",
      "pearson 0.89\n",
      "jenson 0.269\n",
      "loading target LEHD: Austin\n",
      "featuredims [46, 16]\n"
     ]
    },
    {
     "name": "stderr",
     "output_type": "stream",
     "text": [
      "Setting up a new session...\n"
     ]
    },
    {
     "name": "stdout",
     "output_type": "stream",
     "text": [
      "early stop at 160 epochs\n",
      "KL 1.354\n",
      "CPC 0.767\n",
      "MAE 2.587\n",
      "pearson 0.892\n",
      "jenson 0.244\n",
      "loading datasets\n",
      "loading target LEHD: New York City\n",
      "featuredims [46, 16]\n"
     ]
    },
    {
     "name": "stderr",
     "output_type": "stream",
     "text": [
      "Setting up a new session...\n"
     ]
    },
    {
     "name": "stdout",
     "output_type": "stream",
     "text": [
      "early stop at 197 epochs\n",
      "KL 0.502\n",
      "CPC 0.58\n",
      "MAE 0.554\n",
      "pearson 0.746\n",
      "jenson 0.422\n",
      "loading target LEHD: Los Angeles\n",
      "featuredims [46, 16]\n"
     ]
    },
    {
     "name": "stderr",
     "output_type": "stream",
     "text": [
      "Setting up a new session...\n"
     ]
    },
    {
     "name": "stdout",
     "output_type": "stream",
     "text": [
      "early stop at 197 epochs\n",
      "KL 0.526\n",
      "CPC 0.491\n",
      "MAE 0.522\n",
      "pearson 0.617\n",
      "jenson 0.488\n",
      "loading target LEHD: Chicago\n",
      "featuredims [46, 16]\n"
     ]
    },
    {
     "name": "stderr",
     "output_type": "stream",
     "text": [
      "Setting up a new session...\n"
     ]
    },
    {
     "name": "stdout",
     "output_type": "stream",
     "text": [
      "early stop at 197 epochs\n",
      "KL 0.726\n",
      "CPC 0.585\n",
      "MAE 0.875\n",
      "pearson 0.745\n",
      "jenson 0.411\n",
      "loading target LEHD: Houston\n",
      "featuredims [46, 16]\n"
     ]
    },
    {
     "name": "stderr",
     "output_type": "stream",
     "text": [
      "Setting up a new session...\n"
     ]
    },
    {
     "name": "stdout",
     "output_type": "stream",
     "text": [
      "early stop at 197 epochs\n",
      "KL 0.647\n",
      "CPC 0.644\n",
      "MAE 0.888\n",
      "pearson 0.826\n",
      "jenson 0.36\n",
      "loading target LEHD: Boston\n",
      "featuredims [46, 16]\n"
     ]
    },
    {
     "name": "stderr",
     "output_type": "stream",
     "text": [
      "Setting up a new session...\n"
     ]
    },
    {
     "name": "stdout",
     "output_type": "stream",
     "text": [
      "early stop at 197 epochs\n",
      "KL 1.213\n",
      "CPC 0.688\n",
      "MAE 1.758\n",
      "pearson 0.809\n",
      "jenson 0.323\n",
      "loading target LEHD: Phoenix\n",
      "featuredims [46, 16]\n"
     ]
    },
    {
     "name": "stderr",
     "output_type": "stream",
     "text": [
      "Setting up a new session...\n"
     ]
    },
    {
     "name": "stdout",
     "output_type": "stream",
     "text": [
      "early stop at 197 epochs\n",
      "KL 0.754\n",
      "CPC 0.682\n",
      "MAE 1.077\n",
      "pearson 0.825\n",
      "jenson 0.328\n",
      "loading target LEHD: Philadelphia\n",
      "featuredims [46, 16]\n"
     ]
    },
    {
     "name": "stderr",
     "output_type": "stream",
     "text": [
      "Setting up a new session...\n"
     ]
    },
    {
     "name": "stdout",
     "output_type": "stream",
     "text": [
      "early stop at 197 epochs\n",
      "KL 1.119\n",
      "CPC 0.673\n",
      "MAE 1.672\n",
      "pearson 0.806\n",
      "jenson 0.333\n",
      "loading target LEHD: San Antonio\n",
      "featuredims [46, 16]\n"
     ]
    },
    {
     "name": "stderr",
     "output_type": "stream",
     "text": [
      "Setting up a new session...\n"
     ]
    },
    {
     "name": "stdout",
     "output_type": "stream",
     "text": [
      "early stop at 197 epochs\n",
      "KL 1.155\n",
      "CPC 0.75\n",
      "MAE 2.25\n",
      "pearson 0.865\n",
      "jenson 0.253\n",
      "loading target LEHD: San Diego\n",
      "featuredims [46, 16]\n"
     ]
    },
    {
     "name": "stderr",
     "output_type": "stream",
     "text": [
      "Setting up a new session...\n"
     ]
    },
    {
     "name": "stdout",
     "output_type": "stream",
     "text": [
      "early stop at 197 epochs\n",
      "KL 0.957\n",
      "CPC 0.727\n",
      "MAE 1.389\n",
      "pearson 0.921\n",
      "jenson 0.3\n",
      "loading target LEHD: Dallas\n",
      "featuredims [46, 16]\n"
     ]
    },
    {
     "name": "stderr",
     "output_type": "stream",
     "text": [
      "Setting up a new session...\n"
     ]
    },
    {
     "name": "stdout",
     "output_type": "stream",
     "text": [
      "early stop at 197 epochs\n",
      "KL 0.794\n",
      "CPC 0.669\n",
      "MAE 1.204\n",
      "pearson 0.856\n",
      "jenson 0.335\n",
      "loading target LEHD: San Jose\n",
      "featuredims [46, 16]\n"
     ]
    },
    {
     "name": "stderr",
     "output_type": "stream",
     "text": [
      "Setting up a new session...\n"
     ]
    },
    {
     "name": "stdout",
     "output_type": "stream",
     "text": [
      "early stop at 197 epochs\n",
      "KL 1.694\n",
      "CPC 0.74\n",
      "MAE 2.969\n",
      "pearson 0.891\n",
      "jenson 0.269\n",
      "loading target LEHD: Austin\n",
      "featuredims [46, 16]\n"
     ]
    },
    {
     "name": "stderr",
     "output_type": "stream",
     "text": [
      "Setting up a new session...\n"
     ]
    },
    {
     "name": "stdout",
     "output_type": "stream",
     "text": [
      "early stop at 197 epochs\n",
      "KL 1.33\n",
      "CPC 0.769\n",
      "MAE 2.571\n",
      "pearson 0.895\n",
      "jenson 0.242\n",
      "loading datasets\n",
      "loading target LEHD: New York City\n",
      "featuredims [46, 16]\n"
     ]
    },
    {
     "name": "stderr",
     "output_type": "stream",
     "text": [
      "Setting up a new session...\n"
     ]
    },
    {
     "name": "stdout",
     "output_type": "stream",
     "text": [
      "early stop at 192 epochs\n",
      "KL 0.491\n",
      "CPC 0.584\n",
      "MAE 0.548\n",
      "pearson 0.751\n",
      "jenson 0.419\n",
      "loading target LEHD: Los Angeles\n",
      "featuredims [46, 16]\n"
     ]
    },
    {
     "name": "stderr",
     "output_type": "stream",
     "text": [
      "Setting up a new session...\n"
     ]
    },
    {
     "name": "stdout",
     "output_type": "stream",
     "text": [
      "early stop at 192 epochs\n",
      "KL 0.514\n",
      "CPC 0.502\n",
      "MAE 0.511\n",
      "pearson 0.634\n",
      "jenson 0.481\n",
      "loading target LEHD: Chicago\n",
      "featuredims [46, 16]\n"
     ]
    },
    {
     "name": "stderr",
     "output_type": "stream",
     "text": [
      "Setting up a new session...\n"
     ]
    },
    {
     "name": "stdout",
     "output_type": "stream",
     "text": [
      "early stop at 192 epochs\n",
      "KL 0.713\n",
      "CPC 0.589\n",
      "MAE 0.867\n",
      "pearson 0.752\n",
      "jenson 0.406\n",
      "loading target LEHD: Houston\n",
      "featuredims [46, 16]\n"
     ]
    },
    {
     "name": "stderr",
     "output_type": "stream",
     "text": [
      "Setting up a new session...\n"
     ]
    },
    {
     "name": "stdout",
     "output_type": "stream",
     "text": [
      "early stop at 192 epochs\n",
      "KL 0.65\n",
      "CPC 0.647\n",
      "MAE 0.882\n",
      "pearson 0.837\n",
      "jenson 0.358\n",
      "loading target LEHD: Boston\n",
      "featuredims [46, 16]\n"
     ]
    },
    {
     "name": "stderr",
     "output_type": "stream",
     "text": [
      "Setting up a new session...\n"
     ]
    },
    {
     "name": "stdout",
     "output_type": "stream",
     "text": [
      "early stop at 192 epochs\n",
      "KL 1.168\n",
      "CPC 0.693\n",
      "MAE 1.728\n",
      "pearson 0.82\n",
      "jenson 0.317\n",
      "loading target LEHD: Phoenix\n",
      "featuredims [46, 16]\n"
     ]
    },
    {
     "name": "stderr",
     "output_type": "stream",
     "text": [
      "Setting up a new session...\n"
     ]
    },
    {
     "name": "stdout",
     "output_type": "stream",
     "text": [
      "early stop at 192 epochs\n",
      "KL 0.782\n",
      "CPC 0.678\n",
      "MAE 1.091\n",
      "pearson 0.827\n",
      "jenson 0.329\n",
      "loading target LEHD: Philadelphia\n",
      "featuredims [46, 16]\n"
     ]
    },
    {
     "name": "stderr",
     "output_type": "stream",
     "text": [
      "Setting up a new session...\n"
     ]
    },
    {
     "name": "stdout",
     "output_type": "stream",
     "text": [
      "early stop at 192 epochs\n",
      "KL 1.1\n",
      "CPC 0.674\n",
      "MAE 1.664\n",
      "pearson 0.81\n",
      "jenson 0.331\n",
      "loading target LEHD: San Antonio\n",
      "featuredims [46, 16]\n"
     ]
    },
    {
     "name": "stderr",
     "output_type": "stream",
     "text": [
      "Setting up a new session...\n"
     ]
    },
    {
     "name": "stdout",
     "output_type": "stream",
     "text": [
      "early stop at 192 epochs\n",
      "KL 1.146\n",
      "CPC 0.749\n",
      "MAE 2.254\n",
      "pearson 0.871\n",
      "jenson 0.251\n",
      "loading target LEHD: San Diego\n",
      "featuredims [46, 16]\n"
     ]
    },
    {
     "name": "stderr",
     "output_type": "stream",
     "text": [
      "Setting up a new session...\n"
     ]
    },
    {
     "name": "stdout",
     "output_type": "stream",
     "text": [
      "early stop at 192 epochs\n",
      "KL 0.949\n",
      "CPC 0.728\n",
      "MAE 1.388\n",
      "pearson 0.925\n",
      "jenson 0.298\n",
      "loading target LEHD: Dallas\n",
      "featuredims [46, 16]\n"
     ]
    },
    {
     "name": "stderr",
     "output_type": "stream",
     "text": [
      "Setting up a new session...\n"
     ]
    },
    {
     "name": "stdout",
     "output_type": "stream",
     "text": [
      "early stop at 192 epochs\n",
      "KL 0.785\n",
      "CPC 0.671\n",
      "MAE 1.197\n",
      "pearson 0.863\n",
      "jenson 0.332\n",
      "loading target LEHD: San Jose\n",
      "featuredims [46, 16]\n"
     ]
    },
    {
     "name": "stderr",
     "output_type": "stream",
     "text": [
      "Setting up a new session...\n"
     ]
    },
    {
     "name": "stdout",
     "output_type": "stream",
     "text": [
      "early stop at 192 epochs\n",
      "KL 1.727\n",
      "CPC 0.736\n",
      "MAE 3.018\n",
      "pearson 0.892\n",
      "jenson 0.271\n",
      "loading target LEHD: Austin\n",
      "featuredims [46, 16]\n",
      "early stop at 192 epochs\n",
      "KL 1.287\n",
      "CPC 0.771\n",
      "MAE 2.546\n",
      "pearson 0.902\n",
      "jenson 0.239\n"
     ]
    }
   ],
   "source": [
    "\n",
    "splitByNodes = True\n",
    "externalities = True\n",
    "# if modelmode='g', conventional singly constrained gravity model, other parameters will be ignored\n",
    "modelmode = 'p'\n",
    "# gravi con, modelmode = 'p', attention = True, directEmebdding = False\n",
    "# GCN + MLP, modelmode = 'p', attention = False, VNNattraction = Truepath = 'LEHD/'\n",
    "seed = 0\n",
    "cities = [\n",
    "    ('New York City', 'ny', ['New York County, NY', 'Queens County, NY','Kings County, NY','Bronx County, NY','Richmond County, NY']),\n",
    "    ('Los Angeles', 'ca', ['Los Angeles County, CA']),\n",
    "    ('Chicago', 'il', ['Cook County, IL']),\n",
    "    ('Houston', 'tx', ['Harris County, TX']),\n",
    "    ('Boston', 'ma', ['Suffolk County, MA', 'Middlesex County, MA']),\n",
    "    ('Phoenix', 'az', ['Maricopa County, AZ']),\n",
    "    ('Philadelphia', 'pa', ['Philadelphia County, PA']),\n",
    "    ('San Antonio', 'tx', ['Bexar County, TX']),\n",
    "    ('San Diego', 'ca', ['San Diego County, CA']),\n",
    "    ('Dallas', 'tx', ['Dallas County, TX']),\n",
    "    ('San Jose', 'ca', ['Santa Clara County, CA']),\n",
    "    ('Austin', 'tx', ['Travis County, TX']),\n",
    "]\n",
    "t_cities = [\n",
    "    ('New York City', 'ny', ['New York County, NY', 'Queens County, NY','Kings County, NY','Bronx County, NY','Richmond County, NY']),\n",
    "    ('Los Angeles', 'ca', ['Los Angeles County, CA']),\n",
    "    ('Chicago', 'il', ['Cook County, IL']),\n",
    "    ('Houston', 'tx', ['Harris County, TX']),\n",
    "    ('Boston', 'ma', ['Suffolk County, MA', 'Middlesex County, MA']),\n",
    "    ('Phoenix', 'az', ['Maricopa County, AZ']),\n",
    "    ('Philadelphia', 'pa', ['Philadelphia County, PA']),\n",
    "    ('San Antonio', 'tx', ['Bexar County, TX']),\n",
    "    ('San Diego', 'ca', ['San Diego County, CA']),\n",
    "    ('Dallas', 'tx', ['Dallas County, TX']),\n",
    "    ('San Jose', 'ca', ['Santa Clara County, CA']),\n",
    "    ('Austin', 'tx', ['Travis County, TX']),\n",
    "]\n",
    "\n",
    "\n",
    "fts_extractor_dim = 46\n",
    "edge_extractor_dim = 3\n",
    "GNNConfig2 = buildVNNConfig({'gat_num_heads':2,'transformer_num_heads':2,'attention_out_dim':8,\n",
    "                             'out_features': 16, 'layer_dims':[16]*2, 'initSeed': seed, \n",
    "                                     'actfuncFinal': torch.nn.Sigmoid(),'edge_dim':edge_extractor_dim})\n",
    "\n",
    "# early_stopper_train = EarlyStopper(patience=10, min_delta=1e-4)\n",
    "VNNConfig = buildVNNConfig({'layer_dims':[8], 'dropout': 0.33, \n",
    "                            'initSeed': seed, 'actfuncFinal': nn.ReLU()}) #nnSquare()\n",
    "splitByNodes = True\n",
    "externalities = True\n",
    "# if modelmode='g', conventional singly constrained gravity model, other parameters will be ignored\n",
    "modelmode = 'g'\n",
    "# gravi con, modelmode = 'p', attention = True, directEmebdding = False\n",
    "# GCN + MLP, modelmode = 'p', attention = False, VNNattraction = True\n",
    "attention = False\n",
    "VNNattraction = False\n",
    "directEmebdding = False #learn node embedding directly (MLP) or through GNNs\n",
    "filename = 'gravity-spatial-transfer.csv'\n",
    "\n",
    "with open(filename, 'w') as f:\n",
    "\n",
    "    # Pass this file object to csv.writer()\n",
    "    # and get a writer object\n",
    "    writer_object = writer(f)\n",
    "\n",
    "    # Pass the list as an argument into\n",
    "    # the writerow()\n",
    "    writer_object.writerow(['source-target']+[city for city,state, counties in cities])\n",
    "\n",
    "    # Close the file object\n",
    "    f.close()\n",
    "        \n",
    "for city,state, counties in cities:\n",
    "    splitSeed = 0\n",
    "    seed = 0\n",
    "\n",
    "    mainepochs = 500\n",
    "\n",
    "    lr = [1e-1]\n",
    "        \n",
    "\n",
    "    #some basic stats\n",
    "    print('loading datasets')\n",
    "    A_train = torch.load('training/'+city+'_A_train.pt').to(torch.device(\"cuda\"))\n",
    "    OD_train = torch.load('training/'+city+'_OD_train.pt')\n",
    "    between_fts_train = torch.load('training/'+city+'_between_fts_train.pt')\n",
    "    nodefts_train = torch.load('training/'+city+'_nodefts_train.pt')\n",
    "    \n",
    "    A_valid = torch.load('training/'+city+'_A_valid.pt').to(torch.device(\"cuda\"))\n",
    "    OD_valid = torch.load('training/'+city+'_OD_valid.pt')\n",
    "    between_fts_valid = torch.load('training/'+city+'_between_fts_valid.pt')\n",
    "    nodefts_valid = torch.load('training/'+city+'_nodefts_valid.pt')\n",
    "    \n",
    "    RAE_list = []\n",
    "    CPC_list = []\n",
    "    MAE_list = []\n",
    "    pearson_list = []\n",
    "    jenson_list = []\n",
    "    \n",
    "    for target_city,target_state, target_counties in t_cities:\n",
    "\n",
    "        print('loading target LEHD:',target_city)\n",
    "    \n",
    "        target_A_test = torch.load('training/'+target_city+'_A_test.pt').to(torch.device(\"cuda\"))\n",
    "        target_OD_test = torch.load('training/'+target_city+'_OD_test.pt')\n",
    "        target_between_fts_test = torch.load('training/'+target_city+'_between_fts_test.pt')        \n",
    "        target_nodefts_test = torch.load('training/'+target_city+'_nodefts_test.pt')\n",
    "        # standardization\n",
    "        \n",
    "        scaler = StandardScaler().fit(nodefts_train)\n",
    "        nodefts_train_t = torch.FloatTensor(scaler.transform(nodefts_train)).to(torch.device(\"cuda\"))\n",
    "        nodefts_valid_t = torch.FloatTensor(scaler.transform(nodefts_valid)).to(torch.device(\"cuda\"))\n",
    "        target_nodefts_test_t = torch.FloatTensor(scaler.transform(target_nodefts_test)).to(torch.device(\"cuda\"))\n",
    "\n",
    "        bet_scaler = StandardScaler().fit(between_fts_train)\n",
    "        between_fts_train_t = torch.FloatTensor(bet_scaler.transform(between_fts_train)).to(torch.device(\"cuda\"))\n",
    "        between_fts_valid_t = torch.FloatTensor(bet_scaler.transform(between_fts_valid)).to(torch.device(\"cuda\"))\n",
    "        target_between_fts_test_t = torch.FloatTensor(bet_scaler.transform(target_between_fts_test)).to(torch.device(\"cuda\"))\n",
    "\n",
    "        \n",
    "        NRL = GMLearning(city,nodefts_train_t,GNNConfig2, \n",
    "                         VNNConfig,modelmode,directembedding = directEmebdding,\n",
    "                         attention=attention,VNNattraction=VNNattraction) \n",
    "        NRL = NRL.cuda()\n",
    "\n",
    "        NRL.fit(city,\n",
    "                A_train,nodefts_train_t,OD_train,between_fts_train_t,\n",
    "                A_valid,nodefts_valid_t,OD_valid,between_fts_valid_t,\n",
    "                target_A_test,target_nodefts_test_t,target_OD_test,target_between_fts_test_t,\n",
    "                n_epochs = mainepochs,lr = lr, \n",
    "        interim_output_freq = mainepochs//10)\n",
    "\n",
    "        with torch.no_grad(): \n",
    "\n",
    "            target_y_test = NRL.forward(target_A_test,target_nodefts_test_t,\n",
    "                                        target_OD_test,target_between_fts_test_t)\n",
    "            target_y_test = torch.nan_to_num(target_y_test)\n",
    "        # test nodes performance, edges between train and test nodes\n",
    "\n",
    "\n",
    "        rae = round(NRL.loss(target_y_test.cpu(),torch.FloatTensor(target_OD_test)).item(),3)\n",
    "        print('KL', rae)\n",
    "        cpc = common_part_of_commuters(torch.FloatTensor(target_OD_test),target_y_test.cpu())\n",
    "        if type(cpc) == float:\n",
    "            pass\n",
    "        else:\n",
    "            cpc = cpc.item()\n",
    "        cpc = round(cpc,3)\n",
    "        print('CPC', cpc)\n",
    "        mae = round(MAE(torch.FloatTensor(target_OD_test),target_y_test.cpu()).item(),3)\n",
    "        print('MAE',mae)\n",
    "        pearson = round(scipy.stats.pearsonr(target_OD_test.flatten(),\n",
    "                                             target_y_test.cpu().detach().numpy().flatten())[0],3)\n",
    "        print('pearson', pearson)\n",
    "        jenson = round(scipy.spatial.distance.jensenshannon(target_OD_test.flatten(),\n",
    "                                                            target_y_test.cpu().detach().numpy().flatten()),3)\n",
    "        print('jenson',jenson)\n",
    "\n",
    "        RAE_list += [rae]\n",
    "        CPC_list += [cpc]\n",
    "        MAE_list += [mae]\n",
    "        pearson_list += [pearson]\n",
    "        jenson_list += [jenson]\n",
    "\n",
    "        torch.cuda.empty_cache()\n",
    "\n",
    "    with open(filename, 'a') as f:\n",
    "\n",
    "\n",
    "        writer_object = writer(f)\n",
    "\n",
    "\n",
    "        writer_object.writerow([city+' KL']+RAE_list)\n",
    "        \n",
    "        writer_object.writerow([city+' CPC']+CPC_list)\n",
    "        writer_object.writerow([city+' MAE']+MAE_list)\n",
    "        writer_object.writerow([city+ 'Pea']+pearson_list)\n",
    "        writer_object.writerow([city+ 'Jen']+jenson_list)\n",
    "\n",
    "        f.close()\n",
    "\n"
   ]
  },
  {
   "cell_type": "code",
   "execution_count": null,
   "id": "e605ace9",
   "metadata": {},
   "outputs": [],
   "source": []
  }
 ],
 "metadata": {
  "kernelspec": {
   "display_name": "gnn",
   "language": "python",
   "name": "gnn"
  },
  "language_info": {
   "codemirror_mode": {
    "name": "ipython",
    "version": 3
   },
   "file_extension": ".py",
   "mimetype": "text/x-python",
   "name": "python",
   "nbconvert_exporter": "python",
   "pygments_lexer": "ipython3",
   "version": "3.10.9"
  }
 },
 "nbformat": 4,
 "nbformat_minor": 5
}
